{
 "cells": [
  {
   "cell_type": "markdown",
   "metadata": {},
   "source": [
    "# Suggesting how a project can be improved\n",
    "\n",
    "**Goal: Determine and validate a method to compare the most predictive meta features of a project with those of the average top performing project to serve as areas for improvement.**"
   ]
  },
  {
   "cell_type": "code",
   "execution_count": 1,
   "metadata": {
    "collapsed": true
   },
   "outputs": [],
   "source": [
    "# Load required packages\n",
    "import numpy as np\n",
    "import pandas as pd\n",
    "import matplotlib.pyplot as plt\n",
    "import seaborn as sns\n",
    "import psycopg2\n",
    "import feature_engineering\n",
    "from scipy import sparse\n",
    "from sklearn.externals import joblib\n",
    "\n",
    "# Set figure display options\n",
    "%matplotlib inline\n",
    "sns.set(context='notebook', style='darkgrid')\n",
    "sns.set(font_scale=1.4)"
   ]
  },
  {
   "cell_type": "markdown",
   "metadata": {},
   "source": [
    "Let's begin loading the pre-trained scaler, vectorizer and classifier."
   ]
  },
  {
   "cell_type": "code",
   "execution_count": 2,
   "metadata": {
    "collapsed": true
   },
   "outputs": [],
   "source": [
    "# Load serialized scaler and vectorizer\n",
    "scaler = joblib.load('data/trained_models/trained_scaler.pkl')\n",
    "vectorizer = joblib.load('data/nlp/vectorizer_250.pkl')\n",
    "\n",
    "# Load model pretrained on meta features and n-grams\n",
    "clf = joblib.load('data/trained_models/trained_classifier.pkl')"
   ]
  },
  {
   "cell_type": "markdown",
   "metadata": {},
   "source": [
    "We need to define which meta features we want to provide recommendations for. Let's select the meta features that were most predictive of funded projects: # of hyperlinks, # of images, # of innovation words, # of exclamation marks, % of bolded text, and # of words. We'll ignore the features that were most predictive of *unfunded* projects (average words per sentence and average sentences per paragraph) since they are less interpretable and more difficult to tweak for creators."
   ]
  },
  {
   "cell_type": "code",
   "execution_count": 3,
   "metadata": {
    "collapsed": true
   },
   "outputs": [],
   "source": [
    "# List of meta features\n",
    "features = ['num_sents', 'num_words', 'num_all_caps', 'percent_all_caps',\n",
    "            'num_exclms', 'percent_exclms', 'num_apple_words',\n",
    "            'percent_apple_words', 'avg_words_per_sent', 'num_paragraphs',\n",
    "            'avg_sents_per_paragraph', 'avg_words_per_paragraph',\n",
    "            'num_images', 'num_videos', 'num_youtubes', 'num_gifs',\n",
    "            'num_hyperlinks', 'num_bolded', 'percent_bolded']\n",
    "\n",
    "# List of meta features that were most predictive of funded projects\n",
    "predictive_features = ['num_hyperlinks', 'num_images', 'num_apple_words',\n",
    "                       'num_exclms', 'percent_bolded', 'num_words']"
   ]
  },
  {
   "cell_type": "markdown",
   "metadata": {},
   "source": [
    "Let's load the training set from PostgreSQL so we can determine the top performing projects."
   ]
  },
  {
   "cell_type": "code",
   "execution_count": 4,
   "metadata": {
    "collapsed": true
   },
   "outputs": [],
   "source": [
    "# Set database credentials\n",
    "db_name1 = 'section1_db'\n",
    "usernm = 'redwan'\n",
    "host = 'localhost'\n",
    "port = '5432'\n",
    "#pwd = ''\n",
    "\n",
    "# Prepare a connection to database contaning the \"About this project\" section\n",
    "con1 = psycopg2.connect(\n",
    "    database=db_name1, \n",
    "    host='localhost',\n",
    "    user=usernm,\n",
    "    password=pwd\n",
    ")\n",
    "\n",
    "# Query all data from the database\n",
    "sql_query1 = 'SELECT * FROM section1_db;'\n",
    "section1_df_full = pd.read_sql_query(sql_query1, con1)"
   ]
  },
  {
   "cell_type": "markdown",
   "metadata": {},
   "source": [
    "To define a metric for how successful a project was, we'll use the percent above or below the project goal reached by each project. Next, we'll select the projects in the top 5%, and then finish by cleaning the data."
   ]
  },
  {
   "cell_type": "code",
   "execution_count": 5,
   "metadata": {
    "collapsed": true
   },
   "outputs": [],
   "source": [
    "# Define a variable for defining top performing projects\n",
    "section1_df_full['percent_funded'] = section1_df_full['pledged'] / \\\n",
    "    section1_df_full['goal']\n",
    "\n",
    "# Select projects that are within the top 5%\n",
    "quantile_limit = section1_df_full['percent_funded'].quantile(q=0.95)\n",
    "top_projects = section1_df_full[section1_df_full['percent_funded'] >= \\\n",
    "                                quantile_limit]\n",
    "\n",
    "# Select meta features for top projects\n",
    "X = top_projects[features]\n",
    "\n",
    "# Remove all rows with no data\n",
    "X_cleaned = X[~X.isnull().all(axis=1)]\n",
    "\n",
    "# Fill remaining missing values with zero\n",
    "X_cleaned = X_cleaned.fillna(0)"
   ]
  },
  {
   "cell_type": "markdown",
   "metadata": {},
   "source": [
    "To aggregate the top performing projects, we'll compute the mean of the values for each meta feature. Next, we'll standardize the averaged meta features using the scaler trained on the training set."
   ]
  },
  {
   "cell_type": "code",
   "execution_count": 6,
   "metadata": {
    "collapsed": true
   },
   "outputs": [],
   "source": [
    "# Compute the average meta feature of the top projects\n",
    "avg_top_projects = X_cleaned.mean()\n",
    "\n",
    "# Standardize the meta features for the average top project\n",
    "top_project_std = pd.Series(\n",
    "    scaler.transform([avg_top_projects]).ravel(),\n",
    "    index=features\n",
    ")"
   ]
  },
  {
   "cell_type": "markdown",
   "metadata": {},
   "source": [
    "Let's save the standardized meta features of the average top project."
   ]
  },
  {
   "cell_type": "code",
   "execution_count": 7,
   "metadata": {
    "collapsed": true
   },
   "outputs": [],
   "source": [
    "# Save the top project vector\n",
    "#joblib.dump(top_project_std, 'top_5_percent_vector.pkl')\n",
    "\n",
    "# Alternatively load the feature vector for the average top project\n",
    "#top_project_std = joblib.load('data/top_5_percent_vector.pkl')"
   ]
  },
  {
   "cell_type": "markdown",
   "metadata": {},
   "source": [
    "Let's select a project to test."
   ]
  },
  {
   "cell_type": "code",
   "execution_count": 8,
   "metadata": {
    "collapsed": true
   },
   "outputs": [],
   "source": [
    "# Select a hyperlink\n",
    "hyperlink = 'https://www.kickstarter.com/projects/getpebble/pebble-2-ti' + \\\n",
    "    'me-2-and-core-an-entirely-new-3g-ultra'"
   ]
  },
  {
   "cell_type": "markdown",
   "metadata": {},
   "source": [
    "We need to scape the project page, collect the campaign, and extract meta features. Next, we'll use the scaler trained on the training set to standardize the meta features."
   ]
  },
  {
   "cell_type": "code",
   "execution_count": 9,
   "metadata": {
    "collapsed": true
   },
   "outputs": [],
   "source": [
    "# Compute the meta features and preprocess the campaign section\n",
    "meta_features, processed_section = feature_engineering.process_project(\n",
    "    hyperlink\n",
    ")\n",
    "\n",
    "# Standardize the feature vector\n",
    "feature_vector_std = pd.Series(\n",
    "    scaler.transform([meta_features]).ravel(),\n",
    "    index=features\n",
    ")"
   ]
  },
  {
   "cell_type": "markdown",
   "metadata": {},
   "source": [
    "Using the classifier, let's extract the feature importances."
   ]
  },
  {
   "cell_type": "code",
   "execution_count": 10,
   "metadata": {
    "collapsed": true
   },
   "outputs": [],
   "source": [
    "# Compute meta feature ranks\n",
    "feature_ranks = pd.Series(\n",
    "    clf.coef_.T.ravel()[:len(features)],\n",
    "    index=features\n",
    ")"
   ]
  },
  {
   "cell_type": "markdown",
   "metadata": {},
   "source": [
    "To determine how effectively the project utilized each meta feature, let's define the a weighted score for each of the most predictive meta features by multiplying its parameter value by the standardized value of that meta feature. High, positive values of the weighted score indicate that the project utilized this meta feature effectively. High, negative values indicate the project did not use that meta feature effectively. \n",
    "\n",
    "Finally, we'll repeat these computations for the average top performing project, which will serve as the gold standard."
   ]
  },
  {
   "cell_type": "code",
   "execution_count": 11,
   "metadata": {
    "collapsed": true
   },
   "outputs": [],
   "source": [
    "# Compute the weighted score of the meta features of a project\n",
    "user_project_score = np.multiply(\n",
    "    feature_vector_std[predictive_features],\n",
    "    feature_ranks[predictive_features]\n",
    ")\n",
    "\n",
    "# Compute the weighted score of the meta features of the average top project\n",
    "top_project_score = np.multiply(\n",
    "    top_project_std[predictive_features],\n",
    "    feature_ranks[predictive_features]\n",
    ")"
   ]
  },
  {
   "cell_type": "markdown",
   "metadata": {},
   "source": [
    "To visualize the two weighted scores in Seaborn, we need to transform the dataset into tidy format."
   ]
  },
  {
   "cell_type": "code",
   "execution_count": 12,
   "metadata": {
    "collapsed": true
   },
   "outputs": [],
   "source": [
    "# Combine the weighted scores into a single DataFrame\n",
    "messy = pd.DataFrame(\n",
    "    [user_project_score, top_project_score], \n",
    "    index=['Your project', 'Top projects']\n",
    ").T.reset_index()\n",
    "\n",
    "# Transform the combined data into tidy format\n",
    "tidy = pd.melt(\n",
    "    messy,\n",
    "    id_vars='index',\n",
    "    value_vars=['Your project', 'Top projects'],\n",
    "    var_name=' '\n",
    ")"
   ]
  },
  {
   "cell_type": "markdown",
   "metadata": {},
   "source": [
    "Finally, let's draw a grouped bar plot of the weighted scores. This graph serves to provide the project creator with actionable insights for improving their project's campaign and demonstrating which meta feature tweaks will yield the highest ROI and increase their chance of reaching funding goal."
   ]
  },
  {
   "cell_type": "code",
   "execution_count": 13,
   "metadata": {
    "scrolled": true
   },
   "outputs": [
    {
     "data": {
      "image/png": "[encoded data removed]",
      "text/plain": [
       "<matplotlib.figure.Figure at 0x7f332397f438>"
      ]
     },
     "metadata": {},
     "output_type": "display_data"
    }
   ],
   "source": [
    "# Draw a grouped bar plot of the weighted scores\n",
    "fig = sns.factorplot(\n",
    "    data=tidy,\n",
    "    y='index',\n",
    "    x='value',\n",
    "    hue=' ',\n",
    "    kind='bar',\n",
    "    size=5,\n",
    "    aspect=1.5,\n",
    "    palette='Set1',\n",
    "    legend_out=False\n",
    ").set(\n",
    "    xlabel='score',\n",
    "    ylabel='',\n",
    "    xticks=[]\n",
    ")\n",
    "\n",
    "# Re-label the y-axis and reposition the legend\n",
    "labels = ['hyperlinks', 'images', 'innovation words', 'exclamation marks',\n",
    "          'bolded text', 'length of description']\n",
    "plt.yticks(np.arange(len(predictive_features)), labels)\n",
    "fig.ax.legend(loc='lower right');\n",
    "#plt.savefig('figure.png', bbox_inches='tight', dpi=300);"
   ]
  }
 ],
 "metadata": {
  "kernelspec": {
   "display_name": "Python 3",
   "language": "python",
   "name": "python3"
  },
  "language_info": {
   "codemirror_mode": {
    "name": "ipython",
    "version": 3
   },
   "file_extension": ".py",
   "mimetype": "text/x-python",
   "name": "python",
   "nbconvert_exporter": "python",
   "pygments_lexer": "ipython3",
   "version": "3.6.2"
  }
 },
 "nbformat": 4,
 "nbformat_minor": 2
}
