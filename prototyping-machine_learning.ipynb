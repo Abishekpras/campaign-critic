{
 "cells": [
  {
   "cell_type": "markdown",
   "metadata": {},
   "source": [
    "# Developing and testing machine learning strategies\n",
    "\n",
    "**The purpose of this notebook is to develop and validate models for predicting whether a Kickstarter project will be funded based on a campaign section.** \n",
    "\n",
    "## Table of contents\n",
    "1. [Loading the data](#cell1)\n",
    "2. [Constructing the design matrix](#cell2)\n",
    "3. [Preparing the features](#cell3)\n",
    "4. [Preparing the target variable](#cell4)\n",
    "5. [Evaluating regression models](#cell5)\n",
    "6. [Evaluating classifiers](#cell6)\n",
    "7. [Diagnosing the classifier with learning curves](#cell7)\n",
    "8. [Using nested cross-validation to optimize hyperparameters](#cell8)\n",
    "9. [Top predictors of funded projects](#cell9)\n",
    "10. [Testing Kickstarter pages](#cell10)\n",
    "\n",
    "<a id=\"cell1\"></a>\n",
    "## 1. Loading the data"
   ]
  },
  {
   "cell_type": "code",
   "execution_count": 1,
   "metadata": {
    "collapsed": true
   },
   "outputs": [],
   "source": [
    "# Load required packages\n",
    "import numpy as np\n",
    "import pandas as pd\n",
    "import matplotlib.pyplot as plt\n",
    "import seaborn as sns\n",
    "import psycopg2\n",
    "import feature_engineering\n",
    "from sklearn.preprocessing import LabelEncoder, StandardScaler\n",
    "from sklearn.ensemble import RandomForestClassifier, RandomForestRegressor\n",
    "from sklearn import metrics, svm\n",
    "from sklearn.linear_model import LogisticRegression, LinearRegression\n",
    "from sklearn.externals import joblib\n",
    "from sklearn.model_selection import (\n",
    "    train_test_split, learning_curve, StratifiedShuffleSplit, GridSearchCV,\n",
    "    cross_val_score, ShuffleSplit, cross_val_predict\n",
    ")\n",
    "\n",
    "# Set figure display options\n",
    "%matplotlib inline\n",
    "sns.set(context='notebook', style='darkgrid')\n",
    "sns.set(font_scale=1.3)"
   ]
  },
  {
   "cell_type": "markdown",
   "metadata": {},
   "source": [
    "The training set for both campaign sections are stored in PostgreSQL databases. Let's begin by loading the credentials to connect to the databases."
   ]
  },
  {
   "cell_type": "code",
   "execution_count": 2,
   "metadata": {
    "collapsed": true
   },
   "outputs": [],
   "source": [
    "# Set database credentials\n",
    "db_name1 = 'section1'\n",
    "db_name2 = 'section2'\n",
    "usernm = 'redwan'\n",
    "host = 'localhost'\n",
    "port = '5432'\n",
    "#pwd = ''"
   ]
  },
  {
   "cell_type": "markdown",
   "metadata": {},
   "source": [
    "We can now connect to the databases, query all the data for both campaign sections, and store them locally."
   ]
  },
  {
   "cell_type": "code",
   "execution_count": 3,
   "metadata": {
    "collapsed": true
   },
   "outputs": [],
   "source": [
    "# Prepare a connection to database for section 1\n",
    "con1 = psycopg2.connect(\n",
    "    database=db_name1, \n",
    "    host='localhost',\n",
    "    user=usernm,\n",
    "    password=pwd\n",
    ")\n",
    "\n",
    "# Prepare a connection for section 2\n",
    "con2 = psycopg2.connect(\n",
    "    database=db_name2, \n",
    "    host='localhost',\n",
    "    user=usernm,\n",
    "    password=pwd\n",
    ")\n",
    "\n",
    "# Query all data from both campaign sections\n",
    "sql_query1 = 'SELECT * FROM section1;'\n",
    "sql_query2 = 'SELECT * FROM section2;'\n",
    "section1_df_full = pd.read_sql_query(sql_query1, con1)\n",
    "section2_df_full = pd.read_sql_query(sql_query2, con2)"
   ]
  },
  {
   "cell_type": "markdown",
   "metadata": {},
   "source": [
    "### Two approaches\n",
    "\n",
    "We can either approach this problem as a classification task and attempt to predict whether a project will be funded or not. Another option is to predict what % of the goal will the project reach and therefore, approach the problem as a regression task. \n",
    "\n",
    "Let's start with the latter. To do so, let's define a new target variable that measures what % of the goal was reached for each project in the training set."
   ]
  },
  {
   "cell_type": "code",
   "execution_count": 4,
   "metadata": {},
   "outputs": [
    {
     "data": {
      "text/html": [
       "<div>\n",
       "<style>\n",
       "    .dataframe thead tr:only-child th {\n",
       "        text-align: right;\n",
       "    }\n",
       "\n",
       "    .dataframe thead th {\n",
       "        text-align: left;\n",
       "    }\n",
       "\n",
       "    .dataframe tbody tr th {\n",
       "        vertical-align: top;\n",
       "    }\n",
       "</style>\n",
       "<table border=\"1\" class=\"dataframe\">\n",
       "  <thead>\n",
       "    <tr style=\"text-align: right;\">\n",
       "      <th></th>\n",
       "      <th>level_0</th>\n",
       "      <th>index</th>\n",
       "      <th>num_sents</th>\n",
       "      <th>num_words</th>\n",
       "      <th>num_all_caps</th>\n",
       "      <th>percent_all_caps</th>\n",
       "      <th>num_exclms</th>\n",
       "      <th>percent_exclms</th>\n",
       "      <th>num_apple_words</th>\n",
       "      <th>percent_apple_words</th>\n",
       "      <th>...</th>\n",
       "      <th>percent_bolded</th>\n",
       "      <th>name</th>\n",
       "      <th>category</th>\n",
       "      <th>hyperlink</th>\n",
       "      <th>currency</th>\n",
       "      <th>pledged</th>\n",
       "      <th>goal</th>\n",
       "      <th>location</th>\n",
       "      <th>funded</th>\n",
       "      <th>percent_funded</th>\n",
       "    </tr>\n",
       "  </thead>\n",
       "  <tbody>\n",
       "    <tr>\n",
       "      <th>0</th>\n",
       "      <td>0</td>\n",
       "      <td>88389</td>\n",
       "      <td>15.0</td>\n",
       "      <td>223.0</td>\n",
       "      <td>0.0</td>\n",
       "      <td>0.000000</td>\n",
       "      <td>3.0</td>\n",
       "      <td>0.002317</td>\n",
       "      <td>0.0</td>\n",
       "      <td>0.000000</td>\n",
       "      <td>...</td>\n",
       "      <td>0.0</td>\n",
       "      <td>Help me start my cottage industry ... Bakesale...</td>\n",
       "      <td>Small Batch</td>\n",
       "      <td>https://www.kickstarter.com/projects/138529431...</td>\n",
       "      <td>USD</td>\n",
       "      <td>0.0</td>\n",
       "      <td>10000.0</td>\n",
       "      <td>Cape Coral, FL</td>\n",
       "      <td>False</td>\n",
       "      <td>0.000000</td>\n",
       "    </tr>\n",
       "    <tr>\n",
       "      <th>1</th>\n",
       "      <td>1</td>\n",
       "      <td>190378</td>\n",
       "      <td>15.0</td>\n",
       "      <td>383.0</td>\n",
       "      <td>0.0</td>\n",
       "      <td>0.000000</td>\n",
       "      <td>4.0</td>\n",
       "      <td>0.003089</td>\n",
       "      <td>0.0</td>\n",
       "      <td>0.000000</td>\n",
       "      <td>...</td>\n",
       "      <td>0.0</td>\n",
       "      <td>The Sock Who Lost His Mate at NY Children's Th...</td>\n",
       "      <td>Musical</td>\n",
       "      <td>https://www.kickstarter.com/projects/987315242...</td>\n",
       "      <td>USD</td>\n",
       "      <td>2600.0</td>\n",
       "      <td>7000.0</td>\n",
       "      <td>Greenwich Village, Manhattan, NY</td>\n",
       "      <td>False</td>\n",
       "      <td>0.371429</td>\n",
       "    </tr>\n",
       "    <tr>\n",
       "      <th>2</th>\n",
       "      <td>2</td>\n",
       "      <td>21028</td>\n",
       "      <td>15.0</td>\n",
       "      <td>259.0</td>\n",
       "      <td>17.0</td>\n",
       "      <td>0.013127</td>\n",
       "      <td>0.0</td>\n",
       "      <td>0.000000</td>\n",
       "      <td>1.0</td>\n",
       "      <td>0.000772</td>\n",
       "      <td>...</td>\n",
       "      <td>0.0</td>\n",
       "      <td>The 4 Disciples</td>\n",
       "      <td>Comic Books</td>\n",
       "      <td>https://www.kickstarter.com/projects/the4disci...</td>\n",
       "      <td>USD</td>\n",
       "      <td>165.0</td>\n",
       "      <td>2200.0</td>\n",
       "      <td>Rahway, NJ</td>\n",
       "      <td>False</td>\n",
       "      <td>0.075000</td>\n",
       "    </tr>\n",
       "  </tbody>\n",
       "</table>\n",
       "<p>3 rows × 30 columns</p>\n",
       "</div>"
      ],
      "text/plain": [
       "   level_0   index  num_sents  num_words  num_all_caps  percent_all_caps  \\\n",
       "0        0   88389       15.0      223.0           0.0          0.000000   \n",
       "1        1  190378       15.0      383.0           0.0          0.000000   \n",
       "2        2   21028       15.0      259.0          17.0          0.013127   \n",
       "\n",
       "   num_exclms  percent_exclms  num_apple_words  percent_apple_words  \\\n",
       "0         3.0        0.002317              0.0             0.000000   \n",
       "1         4.0        0.003089              0.0             0.000000   \n",
       "2         0.0        0.000000              1.0             0.000772   \n",
       "\n",
       "        ...        percent_bolded  \\\n",
       "0       ...                   0.0   \n",
       "1       ...                   0.0   \n",
       "2       ...                   0.0   \n",
       "\n",
       "                                                name     category  \\\n",
       "0  Help me start my cottage industry ... Bakesale...  Small Batch   \n",
       "1  The Sock Who Lost His Mate at NY Children's Th...      Musical   \n",
       "2                                    The 4 Disciples  Comic Books   \n",
       "\n",
       "                                           hyperlink  currency  pledged  \\\n",
       "0  https://www.kickstarter.com/projects/138529431...       USD      0.0   \n",
       "1  https://www.kickstarter.com/projects/987315242...       USD   2600.0   \n",
       "2  https://www.kickstarter.com/projects/the4disci...       USD    165.0   \n",
       "\n",
       "      goal                          location  funded  percent_funded  \n",
       "0  10000.0                    Cape Coral, FL   False        0.000000  \n",
       "1   7000.0  Greenwich Village, Manhattan, NY   False        0.371429  \n",
       "2   2200.0                        Rahway, NJ   False        0.075000  \n",
       "\n",
       "[3 rows x 30 columns]"
      ]
     },
     "execution_count": 4,
     "metadata": {},
     "output_type": "execute_result"
    }
   ],
   "source": [
    "# Define a target variable for regression\n",
    "section1_df_full['percent_funded'] = section1_df_full['pledged'] / \\\n",
    "    section1_df_full['goal']\n",
    "\n",
    "# Display a few rows\n",
    "section1_df_full.head(3)"
   ]
  },
  {
   "cell_type": "markdown",
   "metadata": {},
   "source": [
    "<a id=\"cell2\"></a>\n",
    "## 2. Constructing the design matrix\n",
    "\n",
    "The first step is to select the features that we'll utilize for prediction. For now, let's use the computed features listed below for only the \"About this project\" section of the campaigns."
   ]
  },
  {
   "cell_type": "code",
   "execution_count": 5,
   "metadata": {},
   "outputs": [
    {
     "data": {
      "text/html": [
       "<div>\n",
       "<style>\n",
       "    .dataframe thead tr:only-child th {\n",
       "        text-align: right;\n",
       "    }\n",
       "\n",
       "    .dataframe thead th {\n",
       "        text-align: left;\n",
       "    }\n",
       "\n",
       "    .dataframe tbody tr th {\n",
       "        vertical-align: top;\n",
       "    }\n",
       "</style>\n",
       "<table border=\"1\" class=\"dataframe\">\n",
       "  <thead>\n",
       "    <tr style=\"text-align: right;\">\n",
       "      <th></th>\n",
       "      <th>num_sents</th>\n",
       "      <th>num_words</th>\n",
       "      <th>num_all_caps</th>\n",
       "      <th>percent_all_caps</th>\n",
       "      <th>num_exclms</th>\n",
       "      <th>percent_exclms</th>\n",
       "      <th>num_apple_words</th>\n",
       "      <th>percent_apple_words</th>\n",
       "      <th>avg_words_per_sent</th>\n",
       "      <th>num_paragraphs</th>\n",
       "      <th>avg_sents_per_paragraph</th>\n",
       "      <th>avg_words_per_paragraph</th>\n",
       "      <th>num_images</th>\n",
       "      <th>num_videos</th>\n",
       "      <th>num_youtubes</th>\n",
       "      <th>num_gifs</th>\n",
       "      <th>num_hyperlinks</th>\n",
       "      <th>num_bolded</th>\n",
       "      <th>percent_bolded</th>\n",
       "    </tr>\n",
       "  </thead>\n",
       "  <tbody>\n",
       "    <tr>\n",
       "      <th>0</th>\n",
       "      <td>15.0</td>\n",
       "      <td>223.0</td>\n",
       "      <td>0.0</td>\n",
       "      <td>0.000000</td>\n",
       "      <td>3.0</td>\n",
       "      <td>0.002317</td>\n",
       "      <td>0.0</td>\n",
       "      <td>0.000000</td>\n",
       "      <td>14.866667</td>\n",
       "      <td>9.0</td>\n",
       "      <td>1.888889</td>\n",
       "      <td>24.777778</td>\n",
       "      <td>0.0</td>\n",
       "      <td>0.0</td>\n",
       "      <td>0.0</td>\n",
       "      <td>0.0</td>\n",
       "      <td>0.0</td>\n",
       "      <td>0.0</td>\n",
       "      <td>0.000000</td>\n",
       "    </tr>\n",
       "    <tr>\n",
       "      <th>1</th>\n",
       "      <td>15.0</td>\n",
       "      <td>383.0</td>\n",
       "      <td>0.0</td>\n",
       "      <td>0.000000</td>\n",
       "      <td>4.0</td>\n",
       "      <td>0.003089</td>\n",
       "      <td>0.0</td>\n",
       "      <td>0.000000</td>\n",
       "      <td>25.533333</td>\n",
       "      <td>5.0</td>\n",
       "      <td>3.000000</td>\n",
       "      <td>76.600000</td>\n",
       "      <td>0.0</td>\n",
       "      <td>0.0</td>\n",
       "      <td>0.0</td>\n",
       "      <td>0.0</td>\n",
       "      <td>0.0</td>\n",
       "      <td>0.0</td>\n",
       "      <td>0.000000</td>\n",
       "    </tr>\n",
       "    <tr>\n",
       "      <th>2</th>\n",
       "      <td>15.0</td>\n",
       "      <td>259.0</td>\n",
       "      <td>17.0</td>\n",
       "      <td>0.013127</td>\n",
       "      <td>0.0</td>\n",
       "      <td>0.000000</td>\n",
       "      <td>1.0</td>\n",
       "      <td>0.000772</td>\n",
       "      <td>17.266667</td>\n",
       "      <td>17.0</td>\n",
       "      <td>0.823529</td>\n",
       "      <td>11.470588</td>\n",
       "      <td>15.0</td>\n",
       "      <td>0.0</td>\n",
       "      <td>0.0</td>\n",
       "      <td>0.0</td>\n",
       "      <td>8.0</td>\n",
       "      <td>0.0</td>\n",
       "      <td>0.000000</td>\n",
       "    </tr>\n",
       "    <tr>\n",
       "      <th>3</th>\n",
       "      <td>18.0</td>\n",
       "      <td>431.0</td>\n",
       "      <td>0.0</td>\n",
       "      <td>0.000000</td>\n",
       "      <td>3.0</td>\n",
       "      <td>0.002317</td>\n",
       "      <td>1.0</td>\n",
       "      <td>0.000772</td>\n",
       "      <td>23.944444</td>\n",
       "      <td>3.0</td>\n",
       "      <td>6.000000</td>\n",
       "      <td>143.666667</td>\n",
       "      <td>0.0</td>\n",
       "      <td>0.0</td>\n",
       "      <td>0.0</td>\n",
       "      <td>0.0</td>\n",
       "      <td>2.0</td>\n",
       "      <td>0.0</td>\n",
       "      <td>0.000000</td>\n",
       "    </tr>\n",
       "    <tr>\n",
       "      <th>4</th>\n",
       "      <td>23.0</td>\n",
       "      <td>283.0</td>\n",
       "      <td>2.0</td>\n",
       "      <td>0.001544</td>\n",
       "      <td>15.0</td>\n",
       "      <td>0.011583</td>\n",
       "      <td>0.0</td>\n",
       "      <td>0.000000</td>\n",
       "      <td>12.304348</td>\n",
       "      <td>5.0</td>\n",
       "      <td>4.600000</td>\n",
       "      <td>56.600000</td>\n",
       "      <td>1.0</td>\n",
       "      <td>0.0</td>\n",
       "      <td>0.0</td>\n",
       "      <td>0.0</td>\n",
       "      <td>0.0</td>\n",
       "      <td>12.0</td>\n",
       "      <td>0.009266</td>\n",
       "    </tr>\n",
       "  </tbody>\n",
       "</table>\n",
       "</div>"
      ],
      "text/plain": [
       "   num_sents  num_words  num_all_caps  percent_all_caps  num_exclms  \\\n",
       "0       15.0      223.0           0.0          0.000000         3.0   \n",
       "1       15.0      383.0           0.0          0.000000         4.0   \n",
       "2       15.0      259.0          17.0          0.013127         0.0   \n",
       "3       18.0      431.0           0.0          0.000000         3.0   \n",
       "4       23.0      283.0           2.0          0.001544        15.0   \n",
       "\n",
       "   percent_exclms  num_apple_words  percent_apple_words  avg_words_per_sent  \\\n",
       "0        0.002317              0.0             0.000000           14.866667   \n",
       "1        0.003089              0.0             0.000000           25.533333   \n",
       "2        0.000000              1.0             0.000772           17.266667   \n",
       "3        0.002317              1.0             0.000772           23.944444   \n",
       "4        0.011583              0.0             0.000000           12.304348   \n",
       "\n",
       "   num_paragraphs  avg_sents_per_paragraph  avg_words_per_paragraph  \\\n",
       "0             9.0                 1.888889                24.777778   \n",
       "1             5.0                 3.000000                76.600000   \n",
       "2            17.0                 0.823529                11.470588   \n",
       "3             3.0                 6.000000               143.666667   \n",
       "4             5.0                 4.600000                56.600000   \n",
       "\n",
       "   num_images  num_videos  num_youtubes  num_gifs  num_hyperlinks  num_bolded  \\\n",
       "0         0.0         0.0           0.0       0.0             0.0         0.0   \n",
       "1         0.0         0.0           0.0       0.0             0.0         0.0   \n",
       "2        15.0         0.0           0.0       0.0             8.0         0.0   \n",
       "3         0.0         0.0           0.0       0.0             2.0         0.0   \n",
       "4         1.0         0.0           0.0       0.0             0.0        12.0   \n",
       "\n",
       "   percent_bolded  \n",
       "0        0.000000  \n",
       "1        0.000000  \n",
       "2        0.000000  \n",
       "3        0.000000  \n",
       "4        0.009266  "
      ]
     },
     "execution_count": 5,
     "metadata": {},
     "output_type": "execute_result"
    }
   ],
   "source": [
    "# A list of features to use in the machine learning model\n",
    "features = ['num_sents', 'num_words', 'num_all_caps', 'percent_all_caps',\n",
    "            'num_exclms', 'percent_exclms', 'num_apple_words',\n",
    "            'percent_apple_words', 'avg_words_per_sent', 'num_paragraphs',\n",
    "            'avg_sents_per_paragraph', 'avg_words_per_paragraph',\n",
    "            'num_images', 'num_videos', 'num_youtubes', 'num_gifs',\n",
    "            'num_hyperlinks', 'num_bolded', 'percent_bolded']\n",
    "\n",
    "# Select features\n",
    "X = section1_df_full[features]\n",
    "\n",
    "# Display the first five rows of the design matrix\n",
    "X.head()"
   ]
  },
  {
   "cell_type": "markdown",
   "metadata": {},
   "source": [
    "<a id=\"cell3\"></a>\n",
    "## 3. Preparing the features\n",
    "\n",
    "### Data wrangling\n",
    "\n",
    "Some of the projects may contain missing values. We need to decide how to deal with these projects since models in Scikit-learn cannot interpret them.\n",
    "\n",
    "One strategy is to first remove all projects that have no data. These projects are most likely those that failed to complete an \"About this project\" section and can safely be excluded."
   ]
  },
  {
   "cell_type": "code",
   "execution_count": 6,
   "metadata": {
    "collapsed": true
   },
   "outputs": [],
   "source": [
    "# Remove all rows with no data\n",
    "X_cleaned = X[~X.isnull().all(axis=1)]"
   ]
  },
  {
   "cell_type": "markdown",
   "metadata": {},
   "source": [
    "For the remaining projects with missing values, we can fill them with zeros. This makes sense since missing values arise as a result of missing data or if the number of words in the section is zero. This latter result may have caused a `DivisionByZeroError` during feature engineering but we addressed it by setting those features to `NaN`."
   ]
  },
  {
   "cell_type": "code",
   "execution_count": 7,
   "metadata": {
    "collapsed": true
   },
   "outputs": [],
   "source": [
    "# Fill remaining missing values with zero\n",
    "X_cleaned = X_cleaned.fillna(0)"
   ]
  },
  {
   "cell_type": "markdown",
   "metadata": {},
   "source": [
    "### Standardizing the features\n",
    "\n",
    "Most machine learning models, besides tree-based models, only function if the features are standardized to have zero mean and unit variance, while others will converge faster. Let's go ahead and standardize the features."
   ]
  },
  {
   "cell_type": "code",
   "execution_count": 8,
   "metadata": {},
   "outputs": [],
   "source": [
    "# Standardize the features\n",
    "scaler = StandardScaler()\n",
    "X_std = scaler.fit_transform(X_cleaned)"
   ]
  },
  {
   "cell_type": "markdown",
   "metadata": {},
   "source": [
    "<a id=\"cell4\"></a>\n",
    "## 4. Preparing the target variable\n",
    "\n",
    "Let's first select all rows of the regression target variable `percent_funded` that correspond to the rows in the cleaned design matrix."
   ]
  },
  {
   "cell_type": "code",
   "execution_count": 9,
   "metadata": {
    "collapsed": true
   },
   "outputs": [],
   "source": [
    "# Select rows of the regression target variable corresponding to the cleaned\n",
    "# design matrix\n",
    "y_reg = section1_df_full.loc[X_cleaned.index, 'percent_funded'].to_frame()"
   ]
  },
  {
   "cell_type": "markdown",
   "metadata": {},
   "source": [
    "### Encoding the target variable for classification\n",
    "\n",
    "For classification tasks, the models in Scikit-learn will work only if the classification target variable `funded` is encoded numerically. To do so, let's first select all rows of `funded` that correspond to the rows in the cleaned design matrix."
   ]
  },
  {
   "cell_type": "code",
   "execution_count": 10,
   "metadata": {},
   "outputs": [],
   "source": [
    "# Select rows of the classification target variable corresponding to the \n",
    "# cleaned design matrix\n",
    "y = section1_df_full.loc[X_cleaned.index, 'funded'].to_frame()"
   ]
  },
  {
   "cell_type": "markdown",
   "metadata": {},
   "source": [
    "Before encoding the target variable, let's take a peek at the class distribution."
   ]
  },
  {
   "cell_type": "code",
   "execution_count": 11,
   "metadata": {},
   "outputs": [
    {
     "data": {
      "text/plain": [
       "False    13894\n",
       "True     10633\n",
       "Name: funded, dtype: int64"
      ]
     },
     "execution_count": 11,
     "metadata": {},
     "output_type": "execute_result"
    }
   ],
   "source": [
    "# Display the class distribution\n",
    "y['funded'].value_counts()"
   ]
  },
  {
   "cell_type": "markdown",
   "metadata": {},
   "source": [
    "The classes are distributed about 3 to 7, which is slightly imbalanced. We'll keep this mind when choosing a performance metric. Finally, let's encode the target variable."
   ]
  },
  {
   "cell_type": "code",
   "execution_count": 12,
   "metadata": {
    "collapsed": true
   },
   "outputs": [],
   "source": [
    "# Encode the class labels in the target variable\n",
    "le = LabelEncoder()\n",
    "y_enc = le.fit_transform(y.values.ravel())"
   ]
  },
  {
   "cell_type": "markdown",
   "metadata": {},
   "source": [
    "<a id=\"cell5\"></a>\n",
    "## 5. Evaluating regression models\n",
    "\n",
    "We'll use an Occam's razor approach and start with models that are parametric (fast to train, less prone to overfitting), linear (since text-based data is innately linear) and explainable (since it's preferable for the creator to understand how the model made its prediction).\n",
    "\n",
    "Let's begin by testing ordinary least squares regression using a 10-fold cross-validation strategy with a randomized 80/20 training/test set split. We'll also use the correlation of determination $R^2$ as the performance metric and take a look at its distribution across cross-validation folds."
   ]
  },
  {
   "cell_type": "code",
   "execution_count": 13,
   "metadata": {},
   "outputs": [
    {
     "name": "stdout",
     "output_type": "stream",
     "text": [
      "R^2: -0.308878894335315 +/- 0.4594258307965158\n"
     ]
    }
   ],
   "source": [
    "# Cross-validate an OLS regression model\n",
    "scores = cross_val_score(\n",
    "    estimator=LinearRegression(),\n",
    "    X=X_std,\n",
    "    y=y_reg.values.ravel(),\n",
    "    cv=ShuffleSplit(n_splits=10, test_size=0.2, random_state=41),\n",
    "    scoring='r2',\n",
    "    n_jobs=-1\n",
    ")\n",
    "\n",
    "# Display the average and standard deviation of the cross-validation scores\n",
    "print('R^2: {} +/- {}'.format(scores.mean(), scores.std()))"
   ]
  },
  {
   "cell_type": "markdown",
   "metadata": {},
   "source": [
    "Since $R^2$ varies wildly, this model is unstable. Let's try support vector machines with a linear kernel next with the default hyperparameters."
   ]
  },
  {
   "cell_type": "code",
   "execution_count": 14,
   "metadata": {},
   "outputs": [
    {
     "name": "stdout",
     "output_type": "stream",
     "text": [
      "R^2: -0.0006531454715426044 +/- 0.0005131787368637863\n"
     ]
    }
   ],
   "source": [
    "# Cross-validate an SVM regression model with a linear kernel\n",
    "scores = cross_val_score(\n",
    "    estimator=svm.LinearSVR(),\n",
    "    X=X_std,\n",
    "    y=y_reg.values.ravel(),\n",
    "    cv=ShuffleSplit(n_splits=10, test_size=0.2, random_state=41),\n",
    "    scoring='r2',\n",
    "    n_jobs=-1\n",
    ")\n",
    "\n",
    "# Display the average and standard deviation of the cross-validation scores\n",
    "print('R^2: {} +/- {}'.format(scores.mean(), scores.std()))"
   ]
  },
  {
   "cell_type": "markdown",
   "metadata": {},
   "source": [
    "Since $R^2$ is nearly zero, this means the model explains almost none of the variability of the target variable&mdash;perhaps the features are non-linear. Therefore, let's try a random forest with the default hyperparameters instead."
   ]
  },
  {
   "cell_type": "code",
   "execution_count": 15,
   "metadata": {},
   "outputs": [
    {
     "name": "stdout",
     "output_type": "stream",
     "text": [
      "R^2: -2.726700516075406 +/- 4.019613348055869\n"
     ]
    }
   ],
   "source": [
    "# Cross-validate a random forest model\n",
    "scores = cross_val_score(\n",
    "    estimator=RandomForestRegressor(),\n",
    "    X=X_std,\n",
    "    y=y_reg.values.ravel(),\n",
    "    cv=ShuffleSplit(n_splits=10, test_size=0.2, random_state=41),\n",
    "    scoring='r2',\n",
    "    n_jobs=-1\n",
    ")\n",
    "\n",
    "# Display the average and standard deviation of the cross-validation scores\n",
    "print('R^2: {} +/- {}'.format(scores.mean(), scores.std()))"
   ]
  },
  {
   "cell_type": "markdown",
   "metadata": {},
   "source": [
    "Even with a non-linear model, $R^2$ not only varies wildly but reaches values below $-1$. This is a strong hint that the model cannot predict the regression target variable. We likely don't have enough information in the feature space to predict something as nuanced as the % of the goal that will be reached by the project. \n",
    "\n",
    "Let's switch to a simpler target variable and focus on classification.\n",
    "\n",
    "<a id=\"cell6\"></a>\n",
    "## 6. Evaluating classifiers\n",
    "\n",
    "Let's also utilize an Occam's razor approach to classification and begin with a logistic regression classifier. We'll use a 10-fold cross-validation strategy with a 80/20 training/test set split. In addition, because the classes are slightly imbalanced, we need to incorporate class stratification in the splitting process.\n",
    "\n",
    "Predicting a project will be funded when it actually ends up not being funded (false positive) is a more egregious error than the opposite (false negative). A false positive will engender disappointment and distrust in the model, whereas a creator isn't likely to be swayed with a false negative&mdash;it's unlikely that anyone will abandon the painstaking efforts on their Kickstarter project after receiving an opinion from a single website! Therefore, we should aim to optimize precision, which focuses on false positives, and select this as the performance metric."
   ]
  },
  {
   "cell_type": "code",
   "execution_count": 16,
   "metadata": {},
   "outputs": [
    {
     "name": "stdout",
     "output_type": "stream",
     "text": [
      "Precision: 0.6567554465116098 +/- 0.011704650484646082\n"
     ]
    }
   ],
   "source": [
    "# Cross-validate a logistic regression model\n",
    "scores = cross_val_score(\n",
    "    estimator=LogisticRegression(),\n",
    "    X=X_std,\n",
    "    y=y_enc,\n",
    "    cv=StratifiedShuffleSplit(n_splits=10, test_size=0.2, random_state=41),\n",
    "    scoring='precision',\n",
    "    n_jobs=-1\n",
    ")\n",
    "\n",
    "# Display the average and standard deviation of the cross-validation scores\n",
    "print('Precision: {} +/- {}'.format(scores.mean(), scores.std()))"
   ]
  },
  {
   "cell_type": "markdown",
   "metadata": {},
   "source": [
    "An precision score of 0.65 is a decent start, especially considering a dummy classifier respecting the class distribution can't beat 0.44. Let's see where the model is making mistakes using a normalized confusion matrix."
   ]
  },
  {
   "cell_type": "code",
   "execution_count": 17,
   "metadata": {
    "scrolled": false
   },
   "outputs": [
    {
     "data": {
      "text/html": [
       "<div>\n",
       "<style>\n",
       "    .dataframe thead tr:only-child th {\n",
       "        text-align: right;\n",
       "    }\n",
       "\n",
       "    .dataframe thead th {\n",
       "        text-align: left;\n",
       "    }\n",
       "\n",
       "    .dataframe tbody tr th {\n",
       "        vertical-align: top;\n",
       "    }\n",
       "</style>\n",
       "<table border=\"1\" class=\"dataframe\">\n",
       "  <thead>\n",
       "    <tr>\n",
       "      <th></th>\n",
       "      <th></th>\n",
       "      <th colspan=\"2\" halign=\"left\">predicted</th>\n",
       "    </tr>\n",
       "    <tr>\n",
       "      <th></th>\n",
       "      <th></th>\n",
       "      <th>unfunded</th>\n",
       "      <th>funded</th>\n",
       "    </tr>\n",
       "  </thead>\n",
       "  <tbody>\n",
       "    <tr>\n",
       "      <th rowspan=\"2\" valign=\"top\">actual</th>\n",
       "      <th>unfunded</th>\n",
       "      <td>0.86</td>\n",
       "      <td>0.14</td>\n",
       "    </tr>\n",
       "    <tr>\n",
       "      <th>funded</th>\n",
       "      <td>0.64</td>\n",
       "      <td>0.36</td>\n",
       "    </tr>\n",
       "  </tbody>\n",
       "</table>\n",
       "</div>"
      ],
      "text/plain": [
       "                predicted       \n",
       "                 unfunded funded\n",
       "actual unfunded      0.86   0.14\n",
       "       funded        0.64   0.36"
      ]
     },
     "execution_count": 17,
     "metadata": {},
     "output_type": "execute_result"
    }
   ],
   "source": [
    "# Make cross-validated predictions for each project in the training set\n",
    "y_pred = cross_val_predict(\n",
    "    estimator=LogisticRegression(),\n",
    "    X=X_std,\n",
    "    y=y_enc,\n",
    "    n_jobs=-1\n",
    ")\n",
    "\n",
    "# Compute the confusion matrix\n",
    "cm = metrics.confusion_matrix(y_enc, y_pred)\n",
    "\n",
    "# Display the normalized confusion matrix\n",
    "pd.DataFrame(\n",
    "    np.round(cm.astype('float') / cm.sum(axis=1)[:, np.newaxis], 2),\n",
    "    index=[['actual', 'actual'], ['unfunded', 'funded']],\n",
    "    columns=[['predicted', 'predicted'], ['unfunded', 'funded']]\n",
    ")"
   ]
  },
  {
   "cell_type": "markdown",
   "metadata": {},
   "source": [
    "It looks like the the model does a good job with false positives, the primary concern. However, it does make a lot of false negatives. Again, these are less of a concern since it's acceptable if the model fails to detect a few projects that eventually end up being successful. Overall, the model is rather conservative with its predictions&mdash;not a bad thing in this context.\n",
    "\n",
    "<a id=\"cell7\"></a>\n",
    "## 7. Diagnosing the classifier with learning curves\n",
    "\n",
    "Because the model is performing relatively well out-of-the-box, let's examine whether the classifier is suffering from high variance and overfitting. We can assess this potential issue using learning curves."
   ]
  },
  {
   "cell_type": "code",
   "execution_count": 18,
   "metadata": {},
   "outputs": [],
   "source": [
    "# Select 10 different sizes of the complete dataset\n",
    "sample_space = np.linspace(100, len(X_std) * 0.8, 10, dtype='int')\n",
    "\n",
    "# Compute learning curves without regularization for the model\n",
    "train_sizes, train_scores, valid_scores = learning_curve(\n",
    "    estimator=LogisticRegression(C=1e10),\n",
    "    X=X_std,\n",
    "    y=y_enc,\n",
    "    train_sizes=sample_space,\n",
    "    cv=StratifiedShuffleSplit(n_splits=10, test_size=0.2, random_state=41),\n",
    "    scoring='precision',\n",
    "    n_jobs=-1\n",
    ")"
   ]
  },
  {
   "cell_type": "markdown",
   "metadata": {},
   "source": [
    "To display the learning curves, we'll need to transform the results into tidy format. Let's define a function that performs this transformation."
   ]
  },
  {
   "cell_type": "code",
   "execution_count": 19,
   "metadata": {
    "collapsed": true
   },
   "outputs": [],
   "source": [
    "def make_tidy(sample_space, train_scores, valid_scores):\n",
    "    # Join train_scores and valid_scores, and label with sample_space\n",
    "    messy_format = pd.DataFrame(\n",
    "        np.stack((sample_space, train_scores.mean(axis=1),\n",
    "                  valid_scores.mean(axis=1)), axis=1),\n",
    "        columns=['# of training examples', 'Training set', 'Validation set']\n",
    "    )\n",
    "    \n",
    "    # Re-structure into into tidy format\n",
    "    return pd.melt(\n",
    "        messy_format,\n",
    "        id_vars='# of training examples',\n",
    "        value_vars=['Training set', 'Validation set'],\n",
    "        var_name='Scores',\n",
    "        value_name='Precision score'\n",
    "    )"
   ]
  },
  {
   "cell_type": "markdown",
   "metadata": {},
   "source": [
    "We're now ready to plot the learning curves."
   ]
  },
  {
   "cell_type": "code",
   "execution_count": 20,
   "metadata": {},
   "outputs": [
    {
     "data": {
      "image/png": "[encoded data removed]",
      "text/plain": [
       "<matplotlib.figure.Figure at 0x7f9dd16d3d30>"
      ]
     },
     "metadata": {},
     "output_type": "display_data"
    }
   ],
   "source": [
    "# Initialize a FacetGrid object using the table of scores and facet on\n",
    "# the type of score\n",
    "fig = sns.FacetGrid(\n",
    "    make_tidy(sample_space, train_scores, valid_scores), hue='Scores', size=5\n",
    ")\n",
    "\n",
    "# Plot the learning curves, add a legend, and rescale y-axis\n",
    "fig.map(plt.scatter, '# of training examples', 'Precision score')\n",
    "fig.map(plt.plot, '# of training examples', 'Precision score') \\\n",
    "    .add_legend() \\\n",
    "    .set(ylim=(0.5, 0.9));"
   ]
  },
  {
   "cell_type": "markdown",
   "metadata": {},
   "source": [
    "The learning curves indicate the model is not suffering from high variance and therefore, not overfitting.\n",
    "\n",
    "<a id=\"cell8\"></a>\n",
    "## 8. Using nested cross-validation to optimize hyperparameters\n",
    "\n",
    "We're now ready to optimize the regularization hyperparameter of the model. To do so without optimistically biasing the model and leaking information about the test set into the training set, let's incorporate nested cross-validation."
   ]
  },
  {
   "cell_type": "code",
   "execution_count": 21,
   "metadata": {},
   "outputs": [
    {
     "data": {
      "text/plain": [
       "array([ 0.65122378,  0.65307892,  0.65318417,  0.65661642,  0.64560205,\n",
       "        0.65931156,  0.65470085,  0.65605659,  0.6483899 ,  0.68601583])"
      ]
     },
     "execution_count": 21,
     "metadata": {},
     "output_type": "execute_result"
    }
   ],
   "source": [
    "# Select a range of values to test the regularization hyperparameter\n",
    "param_grid = [{'C': np.logspace(-3, 3, 10)}]\n",
    "\n",
    "# Inner cross-validation loop to tune the hyperparameter (grid search model)\n",
    "grid_search = GridSearchCV(\n",
    "    estimator=LogisticRegression(),\n",
    "    param_grid=param_grid,\n",
    "    cv=StratifiedShuffleSplit(n_splits=10, test_size=0.2, random_state=41),\n",
    "    scoring='precision',\n",
    "    n_jobs=-1\n",
    ")\n",
    "\n",
    "# Outer cross-validation loop to assess model performance\n",
    "scores = cross_val_score(\n",
    "    estimator=grid_search,\n",
    "    X=X_std,\n",
    "    y=y_enc,\n",
    "    cv=StratifiedShuffleSplit(n_splits=10, test_size=0.2, random_state=41),\n",
    "    scoring='precision'\n",
    ")\n",
    "\n",
    "# Display cross-validation scores\n",
    "scores"
   ]
  },
  {
   "cell_type": "markdown",
   "metadata": {},
   "source": [
    "The precision scores across the different cross-validation folds doesn't very much&mdash;this is a sign that the model is stable. Let's finish up by computing the average precision score and its standard deviation."
   ]
  },
  {
   "cell_type": "code",
   "execution_count": 22,
   "metadata": {
    "scrolled": true
   },
   "outputs": [
    {
     "name": "stdout",
     "output_type": "stream",
     "text": [
      "Precision: 0.6564180070356752 +/- 0.010571400402487845\n"
     ]
    }
   ],
   "source": [
    "# Display the average precision score\n",
    "print('Precision: {} +/- {}'.format(scores.mean(), scores.std()))"
   ]
  },
  {
   "cell_type": "markdown",
   "metadata": {},
   "source": [
    "<a id=\"cell9\"></a>\n",
    "## 9. Top predictors of funded projects\n",
    "\n",
    "To determine the features that were most predictive of funded projects, let's first identify the optimal regularization hyperparameter as identified by nested cross-validation. Since nested cross-validation doesn't actually train any functional models, we have to re-train the cross-validated grid search model and examine the optimal hyperparameter."
   ]
  },
  {
   "cell_type": "code",
   "execution_count": 23,
   "metadata": {},
   "outputs": [
    {
     "data": {
      "text/plain": [
       "{'C': 0.0046415888336127772}"
      ]
     },
     "execution_count": 23,
     "metadata": {},
     "output_type": "execute_result"
    }
   ],
   "source": [
    "# Train a grid search model to identify the optimal hyperparameter\n",
    "grid_search.fit(X_std, y_enc)\n",
    "\n",
    "# Display the optimal hyperparameter\n",
    "grid_search.best_params_"
   ]
  },
  {
   "cell_type": "markdown",
   "metadata": {},
   "source": [
    "Let's use this hyperparameter value and train a final model on the entire training set to reduce pessimistic bias."
   ]
  },
  {
   "cell_type": "code",
   "execution_count": 35,
   "metadata": {
    "collapsed": true
   },
   "outputs": [],
   "source": [
    "# Train the classifier on the entire dataset using the optimal hyperparameter\n",
    "final_clf = LogisticRegression(C=grid_search.best_params_['C'])\n",
    "final_clf.fit(X_std, y_enc);"
   ]
  },
  {
   "cell_type": "markdown",
   "metadata": {},
   "source": [
    "While we're here, let's save the classifier and scaler used earlier."
   ]
  },
  {
   "cell_type": "code",
   "execution_count": 36,
   "metadata": {
    "collapsed": true
   },
   "outputs": [],
   "source": [
    "# Serialize the classifier and the scaler objects\n",
    "#joblib.dump(final_clf, 'trained_classifier.pkl')\n",
    "#joblib.dump(scaler, 'trained_scaler.pkl')"
   ]
  },
  {
   "cell_type": "markdown",
   "metadata": {},
   "source": [
    "Finally, let's examine the features that were most predictive of funded projects."
   ]
  },
  {
   "cell_type": "code",
   "execution_count": 55,
   "metadata": {},
   "outputs": [
    {
     "data": {
      "image/png": "[encoded data removed]",
      "text/plain": [
       "<matplotlib.figure.Figure at 0x7f9dd0d520f0>"
      ]
     },
     "metadata": {},
     "output_type": "display_data"
    }
   ],
   "source": [
    "# Add the corresponding feature names to the parameters\n",
    "feature_ranks = pd.DataFrame(final_clf.coef_, index=['parameter value'])\n",
    "feature_ranks.columns = X_cleaned.columns\n",
    "\n",
    "# Sort the feature weights\n",
    "feature_ranks = feature_ranks.sort_values(\n",
    "    'parameter value',\n",
    "    axis=1,\n",
    "    ascending=False\n",
    ").T\n",
    "\n",
    "# Display a plot of the feature weights\n",
    "feature_ranks.plot(kind='barh', legend=False, figsize=(4, 6));\n",
    "labels = [\n",
    "    'Avg sentences/paragraph',\n",
    "    'Avg words/paragraph',\n",
    "    '# of videos',\n",
    "    'Avg words/sent',\n",
    "    '% all-caps words',\n",
    "    '# of paragraphs',\n",
    "    '% innovation words',\n",
    "    '# of GIFs',\n",
    "    '# of sentences',\n",
    "    '# of bold tags',\n",
    "    '% of exclamation marks',\n",
    "    '# of all-caps words',\n",
    "    '# of YouTube videos',\n",
    "    '% of text bolded',\n",
    "    '# of words',\n",
    "    '# of images',\n",
    "    '# of innovation words',\n",
    "    '# of exclamation marks',\n",
    "    '# of hyperlinks'\n",
    "]\n",
    "plt.yticks(np.arange(19), labels[::-1]);"
   ]
  },
  {
   "cell_type": "markdown",
   "metadata": {},
   "source": [
    "Curiously, the number of hyperlinks is the top predictor. Since many of the successful projects were covered by the news media and the hyperlinks to those articles were included in the campaign, this makes sense. Even more intriguing is that my hypothesis about having innovation words was correct!\n",
    "\n",
    "The other top predictors are more or less expected such as having more bolded text, exclamation marks, and images&mdash;they all draw serve to draw the reader's attention. \n",
    "\n",
    "One of the top predictors of *unfunded* projects was having higher average number of sentences per paragraph and words per paragraph. This indicates being succinct and breaking up long walls of text with sections is a major factor to getting funded!\n",
    "\n",
    "<a id=\"cell10\"></a>\n",
    "## 10. Testing Kickstarter pages\n",
    "\n",
    "For fun, let's engineer features for a sample Kickstarter page, such as the [Pebble 2](https://www.kickstarter.com/projects/getpebble/pebble-2-time-2-and-core-an-entirely-new-3g-ultra), and insert the prepared feature vector and target variable into the trained model to see how it fares with a highly successful project."
   ]
  },
  {
   "cell_type": "code",
   "execution_count": 38,
   "metadata": {
    "collapsed": true
   },
   "outputs": [],
   "source": [
    "# Select a hyperlink\n",
    "hyperlink = 'https://www.kickstarter.com/projects/getpebble/pebble-2-time-2-and-core-an-entirely-new-3g-ultra'"
   ]
  },
  {
   "cell_type": "code",
   "execution_count": 39,
   "metadata": {},
   "outputs": [
    {
     "data": {
      "text/plain": [
       "array([1])"
      ]
     },
     "execution_count": 39,
     "metadata": {},
     "output_type": "execute_result"
    }
   ],
   "source": [
    "# Computed feature vector and standardize the values with the scaler used in\n",
    "# the training set\n",
    "computed_features = feature_engineering.process_project(hyperlink)\n",
    "scaled_features = scaler.transform([computed_features])\n",
    "\n",
    "# Perform the prediction\n",
    "final_clf.predict(scaled_features)"
   ]
  },
  {
   "cell_type": "markdown",
   "metadata": {},
   "source": [
    "Great, the model works! We can even examine the probability of success."
   ]
  },
  {
   "cell_type": "code",
   "execution_count": 40,
   "metadata": {},
   "outputs": [
    {
     "data": {
      "text/plain": [
       "0.97188673999144715"
      ]
     },
     "execution_count": 40,
     "metadata": {},
     "output_type": "execute_result"
    }
   ],
   "source": [
    "# Display the probability of being funded with the given features\n",
    "final_clf.predict_proba(scaled_features)[0, 1]"
   ]
  }
 ],
 "metadata": {
  "kernelspec": {
   "display_name": "Python 3",
   "language": "python",
   "name": "python3"
  },
  "language_info": {
   "codemirror_mode": {
    "name": "ipython",
    "version": 3
   },
   "file_extension": ".py",
   "mimetype": "text/x-python",
   "name": "python",
   "nbconvert_exporter": "python",
   "pygments_lexer": "ipython3",
   "version": "3.6.2"
  }
 },
 "nbformat": 4,
 "nbformat_minor": 2
}
