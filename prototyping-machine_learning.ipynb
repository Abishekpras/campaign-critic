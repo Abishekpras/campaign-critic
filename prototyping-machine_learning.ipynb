{
 "cells": [
  {
   "cell_type": "markdown",
   "metadata": {},
   "source": [
    "# Training a model to predict success of Kickstarter projects\n",
    "\n",
    "The goal here is provide the extracted features from a single campaign section into a machine learning model in order to report the likelihood that a project will be funded. \n",
    "\n",
    "## Table of contents\n",
    "1. [Loading the data](#cell1)\n",
    "2. [Constructing the design matrix](#cell2)\n",
    "3. [Cleaning the features](#cell3)\n",
    "4. [Standardizing the features](#cell4)\n",
    "5. [Encoding the target variable](#cell5)\n",
    "6. [Training a model with the hold-out method](#cell6)\n",
    "7. [Diagnosing the model with learning curves](#cell7)\n",
    "8. [Using nested cross-validation to optimize hyperparameters](#cell8)\n",
    "9. [Top predictors of funded projects](#cell9)\n",
    "10. [Testing Kickstarter pages](#cell10)\n",
    "\n",
    "<a id=\"cell1\"></a>\n",
    "## 1. Loading the data"
   ]
  },
  {
   "cell_type": "code",
   "execution_count": 1,
   "metadata": {
    "collapsed": true
   },
   "outputs": [],
   "source": [
    "# Load required packages\n",
    "import numpy as np\n",
    "import pandas as pd\n",
    "import matplotlib.pyplot as plt\n",
    "import seaborn as sns\n",
    "import psycopg2\n",
    "from sklearn.preprocessing import LabelEncoder, StandardScaler\n",
    "from sklearn.ensemble import RandomForestClassifier\n",
    "from sklearn import metrics, svm\n",
    "from sklearn.linear_model import LogisticRegression\n",
    "from sklearn.externals import joblib\n",
    "from sklearn.model_selection import (\n",
    "    train_test_split, learning_curve, StratifiedShuffleSplit, GridSearchCV,\n",
    "    cross_val_score\n",
    ")\n",
    "\n",
    "# Set figure display options\n",
    "%matplotlib inline\n",
    "sns.set(context='notebook', style='darkgrid')\n",
    "sns.set(font_scale=1.3)"
   ]
  },
  {
   "cell_type": "markdown",
   "metadata": {},
   "source": [
    "The training set for both campaign sections are stored in PostgreSQL databases. Let's begin by loading the credentials to connect to the databases."
   ]
  },
  {
   "cell_type": "code",
   "execution_count": 2,
   "metadata": {
    "collapsed": true
   },
   "outputs": [],
   "source": [
    "# Set database credentials\n",
    "db_name1 = 'section1'\n",
    "db_name2 = 'section2'\n",
    "usernm = 'redwan'\n",
    "host = 'localhost'\n",
    "port = '5432'"
   ]
  },
  {
   "cell_type": "markdown",
   "metadata": {},
   "source": [
    "We can now connect to the databases, query all the data for both campaign sections, and store them locally."
   ]
  },
  {
   "cell_type": "code",
   "execution_count": 3,
   "metadata": {
    "collapsed": true
   },
   "outputs": [],
   "source": [
    "# Prepare a connection to database for section 1\n",
    "con1 = psycopg2.connect(\n",
    "    database=db_name1, \n",
    "    host='localhost',\n",
    "    user=usernm,\n",
    "    password=pwd\n",
    ")\n",
    "\n",
    "# Prepare a connection for section 2\n",
    "con2 = psycopg2.connect(\n",
    "    database=db_name2, \n",
    "    host='localhost',\n",
    "    user=usernm,\n",
    "    password=pwd\n",
    ")\n",
    "\n",
    "# Query all data from both campaign sections\n",
    "sql_query1 = 'SELECT * FROM section1;'\n",
    "sql_query2 = 'SELECT * FROM section2;'\n",
    "section1_df_full = pd.read_sql_query(sql_query1, con1)\n",
    "section2_df_full = pd.read_sql_query(sql_query2, con2)"
   ]
  },
  {
   "cell_type": "markdown",
   "metadata": {},
   "source": [
    "<a id=\"cell2\"></a>\n",
    "## 2. Constructing the design matrix\n",
    "\n",
    "The first step is to select the features that we'll utilize for prediction. For now, let's use the computed features listed below for only the *About this project* section of the campaigns."
   ]
  },
  {
   "cell_type": "code",
   "execution_count": 4,
   "metadata": {},
   "outputs": [
    {
     "data": {
      "text/html": [
       "<div>\n",
       "<style>\n",
       "    .dataframe thead tr:only-child th {\n",
       "        text-align: right;\n",
       "    }\n",
       "\n",
       "    .dataframe thead th {\n",
       "        text-align: left;\n",
       "    }\n",
       "\n",
       "    .dataframe tbody tr th {\n",
       "        vertical-align: top;\n",
       "    }\n",
       "</style>\n",
       "<table border=\"1\" class=\"dataframe\">\n",
       "  <thead>\n",
       "    <tr style=\"text-align: right;\">\n",
       "      <th></th>\n",
       "      <th>num_sents</th>\n",
       "      <th>num_words</th>\n",
       "      <th>num_all_caps</th>\n",
       "      <th>percent_all_caps</th>\n",
       "      <th>num_exclms</th>\n",
       "      <th>percent_exclms</th>\n",
       "      <th>num_apple_words</th>\n",
       "      <th>percent_apple_words</th>\n",
       "      <th>avg_words_per_sent</th>\n",
       "      <th>num_paragraphs</th>\n",
       "      <th>avg_sents_per_paragraph</th>\n",
       "      <th>avg_words_per_paragraph</th>\n",
       "      <th>num_images</th>\n",
       "      <th>num_videos</th>\n",
       "      <th>num_youtubes</th>\n",
       "      <th>num_gifs</th>\n",
       "      <th>num_hyperlinks</th>\n",
       "      <th>num_bolded</th>\n",
       "      <th>percent_bolded</th>\n",
       "    </tr>\n",
       "  </thead>\n",
       "  <tbody>\n",
       "    <tr>\n",
       "      <th>0</th>\n",
       "      <td>15.0</td>\n",
       "      <td>223.0</td>\n",
       "      <td>0.0</td>\n",
       "      <td>0.000000</td>\n",
       "      <td>3.0</td>\n",
       "      <td>0.002317</td>\n",
       "      <td>0.0</td>\n",
       "      <td>0.000000</td>\n",
       "      <td>14.866667</td>\n",
       "      <td>9.0</td>\n",
       "      <td>1.888889</td>\n",
       "      <td>24.777778</td>\n",
       "      <td>0.0</td>\n",
       "      <td>0.0</td>\n",
       "      <td>0.0</td>\n",
       "      <td>0.0</td>\n",
       "      <td>0.0</td>\n",
       "      <td>0.0</td>\n",
       "      <td>0.000000</td>\n",
       "    </tr>\n",
       "    <tr>\n",
       "      <th>1</th>\n",
       "      <td>15.0</td>\n",
       "      <td>383.0</td>\n",
       "      <td>0.0</td>\n",
       "      <td>0.000000</td>\n",
       "      <td>4.0</td>\n",
       "      <td>0.003089</td>\n",
       "      <td>0.0</td>\n",
       "      <td>0.000000</td>\n",
       "      <td>25.533333</td>\n",
       "      <td>5.0</td>\n",
       "      <td>3.000000</td>\n",
       "      <td>76.600000</td>\n",
       "      <td>0.0</td>\n",
       "      <td>0.0</td>\n",
       "      <td>0.0</td>\n",
       "      <td>0.0</td>\n",
       "      <td>0.0</td>\n",
       "      <td>0.0</td>\n",
       "      <td>0.000000</td>\n",
       "    </tr>\n",
       "    <tr>\n",
       "      <th>2</th>\n",
       "      <td>15.0</td>\n",
       "      <td>259.0</td>\n",
       "      <td>17.0</td>\n",
       "      <td>0.013127</td>\n",
       "      <td>0.0</td>\n",
       "      <td>0.000000</td>\n",
       "      <td>1.0</td>\n",
       "      <td>0.000772</td>\n",
       "      <td>17.266667</td>\n",
       "      <td>17.0</td>\n",
       "      <td>0.823529</td>\n",
       "      <td>11.470588</td>\n",
       "      <td>15.0</td>\n",
       "      <td>0.0</td>\n",
       "      <td>0.0</td>\n",
       "      <td>0.0</td>\n",
       "      <td>8.0</td>\n",
       "      <td>0.0</td>\n",
       "      <td>0.000000</td>\n",
       "    </tr>\n",
       "    <tr>\n",
       "      <th>3</th>\n",
       "      <td>18.0</td>\n",
       "      <td>431.0</td>\n",
       "      <td>0.0</td>\n",
       "      <td>0.000000</td>\n",
       "      <td>3.0</td>\n",
       "      <td>0.002317</td>\n",
       "      <td>1.0</td>\n",
       "      <td>0.000772</td>\n",
       "      <td>23.944444</td>\n",
       "      <td>3.0</td>\n",
       "      <td>6.000000</td>\n",
       "      <td>143.666667</td>\n",
       "      <td>0.0</td>\n",
       "      <td>0.0</td>\n",
       "      <td>0.0</td>\n",
       "      <td>0.0</td>\n",
       "      <td>2.0</td>\n",
       "      <td>0.0</td>\n",
       "      <td>0.000000</td>\n",
       "    </tr>\n",
       "    <tr>\n",
       "      <th>4</th>\n",
       "      <td>23.0</td>\n",
       "      <td>283.0</td>\n",
       "      <td>2.0</td>\n",
       "      <td>0.001544</td>\n",
       "      <td>15.0</td>\n",
       "      <td>0.011583</td>\n",
       "      <td>0.0</td>\n",
       "      <td>0.000000</td>\n",
       "      <td>12.304348</td>\n",
       "      <td>5.0</td>\n",
       "      <td>4.600000</td>\n",
       "      <td>56.600000</td>\n",
       "      <td>1.0</td>\n",
       "      <td>0.0</td>\n",
       "      <td>0.0</td>\n",
       "      <td>0.0</td>\n",
       "      <td>0.0</td>\n",
       "      <td>12.0</td>\n",
       "      <td>0.009266</td>\n",
       "    </tr>\n",
       "  </tbody>\n",
       "</table>\n",
       "</div>"
      ],
      "text/plain": [
       "   num_sents  num_words  num_all_caps  percent_all_caps  num_exclms  \\\n",
       "0       15.0      223.0           0.0          0.000000         3.0   \n",
       "1       15.0      383.0           0.0          0.000000         4.0   \n",
       "2       15.0      259.0          17.0          0.013127         0.0   \n",
       "3       18.0      431.0           0.0          0.000000         3.0   \n",
       "4       23.0      283.0           2.0          0.001544        15.0   \n",
       "\n",
       "   percent_exclms  num_apple_words  percent_apple_words  avg_words_per_sent  \\\n",
       "0        0.002317              0.0             0.000000           14.866667   \n",
       "1        0.003089              0.0             0.000000           25.533333   \n",
       "2        0.000000              1.0             0.000772           17.266667   \n",
       "3        0.002317              1.0             0.000772           23.944444   \n",
       "4        0.011583              0.0             0.000000           12.304348   \n",
       "\n",
       "   num_paragraphs  avg_sents_per_paragraph  avg_words_per_paragraph  \\\n",
       "0             9.0                 1.888889                24.777778   \n",
       "1             5.0                 3.000000                76.600000   \n",
       "2            17.0                 0.823529                11.470588   \n",
       "3             3.0                 6.000000               143.666667   \n",
       "4             5.0                 4.600000                56.600000   \n",
       "\n",
       "   num_images  num_videos  num_youtubes  num_gifs  num_hyperlinks  num_bolded  \\\n",
       "0         0.0         0.0           0.0       0.0             0.0         0.0   \n",
       "1         0.0         0.0           0.0       0.0             0.0         0.0   \n",
       "2        15.0         0.0           0.0       0.0             8.0         0.0   \n",
       "3         0.0         0.0           0.0       0.0             2.0         0.0   \n",
       "4         1.0         0.0           0.0       0.0             0.0        12.0   \n",
       "\n",
       "   percent_bolded  \n",
       "0        0.000000  \n",
       "1        0.000000  \n",
       "2        0.000000  \n",
       "3        0.000000  \n",
       "4        0.009266  "
      ]
     },
     "execution_count": 4,
     "metadata": {},
     "output_type": "execute_result"
    }
   ],
   "source": [
    "# A list of features to use in the machine learning model\n",
    "features = ['num_sents', 'num_words', 'num_all_caps', 'percent_all_caps',\n",
    "             'num_exclms', 'percent_exclms', 'num_apple_words',\n",
    "             'percent_apple_words', 'avg_words_per_sent', 'num_paragraphs',\n",
    "             'avg_sents_per_paragraph', 'avg_words_per_paragraph',\n",
    "             'num_images', 'num_videos', 'num_youtubes', 'num_gifs',\n",
    "             'num_hyperlinks', 'num_bolded', 'percent_bolded']\n",
    "\n",
    "# Select features\n",
    "X = section1_df_full[features]\n",
    "\n",
    "# Display the first five rows of the design matrix\n",
    "X.head()"
   ]
  },
  {
   "cell_type": "markdown",
   "metadata": {},
   "source": [
    "<a id=\"cell3\"></a>\n",
    "## 3. Cleaning the features\n",
    "\n",
    "Many of the projects contain features with missing values. We need to decide how to deal with these values since machine learning models in Scikit-learn cannot interpret them.\n",
    "\n",
    "One strategy is to first remove all projects that have no data. These projects are most likely those that failed to complete an *About this project* section and can safely be excluded."
   ]
  },
  {
   "cell_type": "code",
   "execution_count": 5,
   "metadata": {
    "collapsed": true
   },
   "outputs": [],
   "source": [
    "# Remove all rows with no data\n",
    "X_cleaned = X[~X.isnull().all(axis=1)]"
   ]
  },
  {
   "cell_type": "markdown",
   "metadata": {},
   "source": [
    "For the remaining projects with missing values, we can fill them with zeros. This makes sense since missing values arise as a result of missing data or if the number of words in the section is zero (division by zero while computing a few of the features is indicated by `NaN`)."
   ]
  },
  {
   "cell_type": "code",
   "execution_count": 6,
   "metadata": {
    "collapsed": true
   },
   "outputs": [],
   "source": [
    "# Fill remaining missing values with zero\n",
    "X_cleaned = X_cleaned.fillna(0)"
   ]
  },
  {
   "cell_type": "markdown",
   "metadata": {},
   "source": [
    "<a id=\"cell4\"></a>\n",
    "## 4. Standardizing the features\n",
    "\n",
    "Some machine learning models only work if the features are standardized to have zero mean and unit variance, while others will converge faster. Let's go ahead and standardize the features."
   ]
  },
  {
   "cell_type": "code",
   "execution_count": 7,
   "metadata": {
    "collapsed": true
   },
   "outputs": [],
   "source": [
    "# Standardize the features\n",
    "scaler = StandardScaler()\n",
    "X_std = scaler.fit_transform(X_cleaned)"
   ]
  },
  {
   "cell_type": "markdown",
   "metadata": {},
   "source": [
    "<a id=\"cell5\"></a>\n",
    "## 5. Encoding the target variable\n",
    "\n",
    "The machine learning classifiers in Scikit-learn work much better if the target variable (whether the project is funded or not) is encoded numerically. To do so, let's first select all rows of the target variable that correspond to the rows in the cleaned design matrix."
   ]
  },
  {
   "cell_type": "code",
   "execution_count": 8,
   "metadata": {
    "collapsed": true
   },
   "outputs": [],
   "source": [
    "# Select rows of the target variable corresponding to the cleaned design matrix\n",
    "y = section1_df_full.loc[X_cleaned.index, 'funded'].to_frame()"
   ]
  },
  {
   "cell_type": "markdown",
   "metadata": {},
   "source": [
    "Before encoding the target variable, let's take a peek at the class distribution."
   ]
  },
  {
   "cell_type": "code",
   "execution_count": 9,
   "metadata": {},
   "outputs": [
    {
     "data": {
      "text/plain": [
       "False    11361\n",
       "True      8633\n",
       "Name: funded, dtype: int64"
      ]
     },
     "execution_count": 9,
     "metadata": {},
     "output_type": "execute_result"
    }
   ],
   "source": [
    "# Display the class distribution\n",
    "y['funded'].value_counts()"
   ]
  },
  {
   "cell_type": "markdown",
   "metadata": {},
   "source": [
    "The classes are distributed about 3 to 7, which is quite close to being balanced. We'll keep this mind when choosing a performance metric. \n",
    "\n",
    "Finally, let's encode the target variable."
   ]
  },
  {
   "cell_type": "code",
   "execution_count": 10,
   "metadata": {
    "collapsed": true
   },
   "outputs": [],
   "source": [
    "# Encode the class labels in the target variable\n",
    "le = LabelEncoder()\n",
    "y_enc = le.fit_transform(y.values.ravel())"
   ]
  },
  {
   "cell_type": "markdown",
   "metadata": {},
   "source": [
    "<a id=\"cell6\"></a>\n",
    "## 6. Training a model with the hold-out method\n",
    "\n",
    "As a starting point, let's use the hold-out method and a 80/20 split to build a training and test set. In addition, because the classes are slightly imbalanced, let's incorporate class stratification in the splitting process."
   ]
  },
  {
   "cell_type": "code",
   "execution_count": 11,
   "metadata": {
    "collapsed": true
   },
   "outputs": [],
   "source": [
    "# Prepare the training and test sets using an 80/20 split and stratification\n",
    "X_train, X_test, y_train, y_test = train_test_split(\n",
    "    X_std,\n",
    "    y_enc,\n",
    "    test_size=0.2,\n",
    "    stratify=y_enc,\n",
    "    random_state=41    \n",
    ")"
   ]
  },
  {
   "cell_type": "markdown",
   "metadata": {},
   "source": [
    "We'll start off by training a logistic regression classifier because it's explainable, quick, and outputs probabilities for each class. Since the classes are almost balanced, let's use area under the ROC curve as the performance metric."
   ]
  },
  {
   "cell_type": "code",
   "execution_count": 12,
   "metadata": {
    "scrolled": true
   },
   "outputs": [
    {
     "data": {
      "text/plain": [
       "0.59660671032564816"
      ]
     },
     "execution_count": 12,
     "metadata": {},
     "output_type": "execute_result"
    }
   ],
   "source": [
    "# Train a logistic regression classifer using the training set\n",
    "clf = LogisticRegression()\n",
    "clf.fit(X_train, y_train)\n",
    "\n",
    "# Evaluate the classifier on the test set\n",
    "y_pred = clf.predict(X_test)\n",
    "\n",
    "# Compute the AUC score\n",
    "metrics.roc_auc_score(y_test, y_pred)"
   ]
  },
  {
   "cell_type": "markdown",
   "metadata": {},
   "source": [
    "An AUC score of 0.60 is a decent start, especially considering random guessing would yield a value around 0.43. Let's see where the model is making mistakes using a confusion matrix."
   ]
  },
  {
   "cell_type": "code",
   "execution_count": 13,
   "metadata": {},
   "outputs": [
    {
     "data": {
      "text/html": [
       "<div>\n",
       "<style>\n",
       "    .dataframe thead tr:only-child th {\n",
       "        text-align: right;\n",
       "    }\n",
       "\n",
       "    .dataframe thead th {\n",
       "        text-align: left;\n",
       "    }\n",
       "\n",
       "    .dataframe tbody tr th {\n",
       "        vertical-align: top;\n",
       "    }\n",
       "</style>\n",
       "<table border=\"1\" class=\"dataframe\">\n",
       "  <thead>\n",
       "    <tr>\n",
       "      <th></th>\n",
       "      <th></th>\n",
       "      <th colspan=\"2\" halign=\"left\">predicted</th>\n",
       "    </tr>\n",
       "    <tr>\n",
       "      <th></th>\n",
       "      <th></th>\n",
       "      <th>funded</th>\n",
       "      <th>unfunded</th>\n",
       "    </tr>\n",
       "  </thead>\n",
       "  <tbody>\n",
       "    <tr>\n",
       "      <th rowspan=\"2\" valign=\"top\">actual</th>\n",
       "      <th>funded</th>\n",
       "      <td>1944</td>\n",
       "      <td>328</td>\n",
       "    </tr>\n",
       "    <tr>\n",
       "      <th>unfunded</th>\n",
       "      <td>1144</td>\n",
       "      <td>583</td>\n",
       "    </tr>\n",
       "  </tbody>\n",
       "</table>\n",
       "</div>"
      ],
      "text/plain": [
       "                predicted         \n",
       "                   funded unfunded\n",
       "actual funded        1944      328\n",
       "       unfunded      1144      583"
      ]
     },
     "execution_count": 13,
     "metadata": {},
     "output_type": "execute_result"
    }
   ],
   "source": [
    "# Display a confusion matrix\n",
    "pd.DataFrame(\n",
    "    metrics.confusion_matrix(y_test, y_pred),\n",
    "    index=[['actual', 'actual'], ['funded', 'unfunded']],\n",
    "    columns=[['predicted', 'predicted'], ['funded', 'unfunded']]\n",
    ")"
   ]
  },
  {
   "cell_type": "markdown",
   "metadata": {},
   "source": [
    "Interestingly, the model makes a lot of false positives over false negatives. This is rather concerning since a false positive is worse for the creator&mdash;they could be disappointed and distrust the model. Since we care more about false positives than false negatives, let's switch the performance metric from AUC score and aim to maximize precision instead.\n",
    "\n",
    "<a id=\"cell7\"></a>\n",
    "## 7. Diagnosing the model with learning curves\n",
    "\n",
    "Because the model is performing relatively well out-of-the-box, let's examine whether the classifier is suffering from high variance and overfitting. We can assess this potential issue using learning curves."
   ]
  },
  {
   "cell_type": "code",
   "execution_count": 14,
   "metadata": {
    "collapsed": true
   },
   "outputs": [],
   "source": [
    "# Select 10 different sizes of the complete dataset\n",
    "sample_space = np.linspace(150, len(X_std) * 0.8, 10, dtype='int')\n",
    "\n",
    "# Compute learning curves without regularization for the model\n",
    "train_sizes, train_scores, valid_scores = learning_curve(\n",
    "    estimator=LogisticRegression(C=1e10),\n",
    "    X=X_std,\n",
    "    y=y_enc,\n",
    "    train_sizes=sample_space,\n",
    "    cv=StratifiedShuffleSplit(n_splits=10, test_size=0.2, random_state=41),\n",
    "    scoring='precision',\n",
    "    n_jobs=-1\n",
    ")"
   ]
  },
  {
   "cell_type": "markdown",
   "metadata": {},
   "source": [
    "To display the learning curves, we'll need to transform the results into tidy format. Let's define a function that performs this transformation."
   ]
  },
  {
   "cell_type": "code",
   "execution_count": 15,
   "metadata": {
    "collapsed": true
   },
   "outputs": [],
   "source": [
    "def make_tidy(sample_space, train_scores, valid_scores):\n",
    "    # Join train_scores and valid_scores, and label with sample_space\n",
    "    messy_format = pd.DataFrame(\n",
    "        np.stack((sample_space, train_scores.mean(axis=1),\n",
    "                  valid_scores.mean(axis=1)), axis=1),\n",
    "        columns=['# of training examples', 'Training set', 'Validation set']\n",
    "    )\n",
    "    \n",
    "    # Re-structure into into tidy format\n",
    "    return pd.melt(\n",
    "        messy_format,\n",
    "        id_vars='# of training examples',\n",
    "        value_vars=['Training set', 'Validation set'],\n",
    "        var_name='Scores',\n",
    "        value_name='Precision score'\n",
    "    )"
   ]
  },
  {
   "cell_type": "markdown",
   "metadata": {},
   "source": [
    "We're now ready to plot the learning curves."
   ]
  },
  {
   "cell_type": "code",
   "execution_count": 16,
   "metadata": {},
   "outputs": [
    {
     "data": {
      "image/png": "[encoded data removed]",
      "text/plain": [
       "<matplotlib.figure.Figure at 0x7f7f41eaee80>"
      ]
     },
     "metadata": {},
     "output_type": "display_data"
    }
   ],
   "source": [
    "# Initialize a FacetGrid object using the table of scores and facet on\n",
    "# the type of score\n",
    "fig = sns.FacetGrid(\n",
    "    make_tidy(sample_space, train_scores, valid_scores), hue='Scores', size=5\n",
    ")\n",
    "\n",
    "# Plot the learning curves, add a legend, and rescale y-axis\n",
    "fig.map(plt.scatter, '# of training examples', 'Precision score')\n",
    "fig.map(plt.plot, '# of training examples', 'Precision score') \\\n",
    "    .add_legend() \\\n",
    "    .set(ylim=(0.5, 0.8));"
   ]
  },
  {
   "cell_type": "markdown",
   "metadata": {},
   "source": [
    "The learning curves indicate the model is not suffering from high variance.\n",
    "\n",
    "<a id=\"cell8\"></a>\n",
    "## 8. Using nested cross-validation to optimize hyperparameters\n",
    "\n",
    "To optimize the regularization hyperparameter without optimistically biasing the model, let's incorporate nested cross-validation, which will also measure the robustness of the model."
   ]
  },
  {
   "cell_type": "code",
   "execution_count": 17,
   "metadata": {},
   "outputs": [
    {
     "data": {
      "text/plain": [
       "array([ 0.63995609,  0.63073852,  0.65509761,  0.68216216,  0.62788365,\n",
       "        0.63354037,  0.6659436 ,  0.64968153,  0.63485477,  0.6521265 ])"
      ]
     },
     "execution_count": 17,
     "metadata": {},
     "output_type": "execute_result"
    }
   ],
   "source": [
    "# Select a range of values to test the regularization hyperparameter\n",
    "param_grid = [{'C': np.logspace(-3, 3, 10)}]\n",
    "\n",
    "# Inner cross-validation loop to tune the hyperparameter\n",
    "grid_search = GridSearchCV(\n",
    "    estimator=LogisticRegression(),\n",
    "    param_grid=param_grid,\n",
    "    cv=StratifiedShuffleSplit(n_splits=10, test_size=0.2, random_state=41),\n",
    "    scoring='precision',\n",
    "    n_jobs=-1\n",
    ")\n",
    "\n",
    "# Outer cross-validation loop to assess model performance\n",
    "scores = cross_val_score(\n",
    "    estimator=grid_search,\n",
    "    X=X_std,\n",
    "    y=y_enc,\n",
    "    cv=StratifiedShuffleSplit(n_splits=10, test_size=0.2, random_state=41),\n",
    "    scoring='precision'\n",
    ")\n",
    "\n",
    "# Display cross-validation scores\n",
    "scores"
   ]
  },
  {
   "cell_type": "markdown",
   "metadata": {},
   "source": [
    "The performance scores across the different cross-validation folds varies a bit&mdash;this is a sign that the model may be unstable. For now, let's compute the average precision score."
   ]
  },
  {
   "cell_type": "code",
   "execution_count": 18,
   "metadata": {
    "scrolled": true
   },
   "outputs": [
    {
     "data": {
      "text/plain": [
       "0.6471984815598224"
      ]
     },
     "execution_count": 18,
     "metadata": {},
     "output_type": "execute_result"
    }
   ],
   "source": [
    "# Display the average precision score\n",
    "scores.mean()"
   ]
  },
  {
   "cell_type": "markdown",
   "metadata": {},
   "source": [
    "<a id=\"cell9\"></a>\n",
    "## 9. Top predictors of funded projects\n",
    "\n",
    "To determine the features that were most predictive of funded projects, let's first identify the optimal regularization hyperparameter."
   ]
  },
  {
   "cell_type": "code",
   "execution_count": 19,
   "metadata": {},
   "outputs": [
    {
     "data": {
      "text/plain": [
       "{'C': 0.46415888336127775}"
      ]
     },
     "execution_count": 19,
     "metadata": {},
     "output_type": "execute_result"
    }
   ],
   "source": [
    "# Identify the optimal regularization hyperparameter\n",
    "grid_search.fit(X_std, y_enc)\n",
    "\n",
    "# Display the hyperparameter value\n",
    "grid_search.best_params_"
   ]
  },
  {
   "cell_type": "markdown",
   "metadata": {},
   "source": [
    "Let's use this hyperparameter value and train a final model on the entire training set to reduce pessimistic bias."
   ]
  },
  {
   "cell_type": "code",
   "execution_count": 20,
   "metadata": {
    "collapsed": true
   },
   "outputs": [],
   "source": [
    "# Train the classifier on the entire dataset using the optimal hyperparameter\n",
    "final_clf = LogisticRegression(C=0.46415888336127775)\n",
    "final_clf.fit(X_std, y_enc);"
   ]
  },
  {
   "cell_type": "markdown",
   "metadata": {},
   "source": [
    "Let's examine the features that were most predictive of funded projects."
   ]
  },
  {
   "cell_type": "code",
   "execution_count": 21,
   "metadata": {},
   "outputs": [
    {
     "data": {
      "text/html": [
       "<div>\n",
       "<style>\n",
       "    .dataframe thead tr:only-child th {\n",
       "        text-align: right;\n",
       "    }\n",
       "\n",
       "    .dataframe thead th {\n",
       "        text-align: left;\n",
       "    }\n",
       "\n",
       "    .dataframe tbody tr th {\n",
       "        vertical-align: top;\n",
       "    }\n",
       "</style>\n",
       "<table border=\"1\" class=\"dataframe\">\n",
       "  <thead>\n",
       "    <tr style=\"text-align: right;\">\n",
       "      <th></th>\n",
       "      <th>parameter value</th>\n",
       "    </tr>\n",
       "  </thead>\n",
       "  <tbody>\n",
       "    <tr>\n",
       "      <th>num_hyperlinks</th>\n",
       "      <td>0.295139</td>\n",
       "    </tr>\n",
       "    <tr>\n",
       "      <th>num_exclms</th>\n",
       "      <td>0.205970</td>\n",
       "    </tr>\n",
       "    <tr>\n",
       "      <th>num_words</th>\n",
       "      <td>0.198280</td>\n",
       "    </tr>\n",
       "    <tr>\n",
       "      <th>num_apple_words</th>\n",
       "      <td>0.180303</td>\n",
       "    </tr>\n",
       "    <tr>\n",
       "      <th>percent_bolded</th>\n",
       "      <td>0.119398</td>\n",
       "    </tr>\n",
       "    <tr>\n",
       "      <th>num_images</th>\n",
       "      <td>0.106464</td>\n",
       "    </tr>\n",
       "    <tr>\n",
       "      <th>num_youtubes</th>\n",
       "      <td>0.054815</td>\n",
       "    </tr>\n",
       "    <tr>\n",
       "      <th>num_all_caps</th>\n",
       "      <td>0.036212</td>\n",
       "    </tr>\n",
       "    <tr>\n",
       "      <th>percent_exclms</th>\n",
       "      <td>0.017294</td>\n",
       "    </tr>\n",
       "    <tr>\n",
       "      <th>num_gifs</th>\n",
       "      <td>0.013225</td>\n",
       "    </tr>\n",
       "    <tr>\n",
       "      <th>num_bolded</th>\n",
       "      <td>0.007326</td>\n",
       "    </tr>\n",
       "    <tr>\n",
       "      <th>percent_apple_words</th>\n",
       "      <td>-0.001249</td>\n",
       "    </tr>\n",
       "    <tr>\n",
       "      <th>num_paragraphs</th>\n",
       "      <td>-0.009729</td>\n",
       "    </tr>\n",
       "    <tr>\n",
       "      <th>percent_all_caps</th>\n",
       "      <td>-0.019483</td>\n",
       "    </tr>\n",
       "    <tr>\n",
       "      <th>num_videos</th>\n",
       "      <td>-0.036019</td>\n",
       "    </tr>\n",
       "    <tr>\n",
       "      <th>avg_words_per_sent</th>\n",
       "      <td>-0.049510</td>\n",
       "    </tr>\n",
       "    <tr>\n",
       "      <th>num_sents</th>\n",
       "      <td>-0.085481</td>\n",
       "    </tr>\n",
       "    <tr>\n",
       "      <th>avg_sents_per_paragraph</th>\n",
       "      <td>-0.085712</td>\n",
       "    </tr>\n",
       "    <tr>\n",
       "      <th>avg_words_per_paragraph</th>\n",
       "      <td>-0.121879</td>\n",
       "    </tr>\n",
       "  </tbody>\n",
       "</table>\n",
       "</div>"
      ],
      "text/plain": [
       "                         parameter value\n",
       "num_hyperlinks                  0.295139\n",
       "num_exclms                      0.205970\n",
       "num_words                       0.198280\n",
       "num_apple_words                 0.180303\n",
       "percent_bolded                  0.119398\n",
       "num_images                      0.106464\n",
       "num_youtubes                    0.054815\n",
       "num_all_caps                    0.036212\n",
       "percent_exclms                  0.017294\n",
       "num_gifs                        0.013225\n",
       "num_bolded                      0.007326\n",
       "percent_apple_words            -0.001249\n",
       "num_paragraphs                 -0.009729\n",
       "percent_all_caps               -0.019483\n",
       "num_videos                     -0.036019\n",
       "avg_words_per_sent             -0.049510\n",
       "num_sents                      -0.085481\n",
       "avg_sents_per_paragraph        -0.085712\n",
       "avg_words_per_paragraph        -0.121879"
      ]
     },
     "execution_count": 21,
     "metadata": {},
     "output_type": "execute_result"
    }
   ],
   "source": [
    "# Add the corresponding feature names to the parameters\n",
    "feature_ranks = pd.DataFrame(final_clf.coef_, index=['parameter value'])\n",
    "feature_ranks.columns = X_cleaned.columns\n",
    "\n",
    "# Display the weights of each feature\n",
    "feature_ranks.sort_values('parameter value', axis=1, ascending=False).T"
   ]
  },
  {
   "cell_type": "markdown",
   "metadata": {},
   "source": [
    "Surprisingly, the number of hyperlinks is the top predictor. Even more intriguing is that my hypothesis about having Apple adjectives was correct. Including these words helps a lot! The other top predictors are more or less expected such as having more bolded text, exclamation marks, and images&mdash;they all draw the reader's attention. \n",
    "\n",
    "One of the top predictors of *unfunded* projects was having higher average number of sentences per paragraph and words per sentence. This indicates being succinct is crucial to success!\n",
    "\n",
    "<a id=\"cell10\"></a>\n",
    "## 10. Testing Kickstarter pages\n",
    "\n",
    "For fun, let's use the feature extractor on a sample Kickstarter page, such as the [Pebble 2](https://www.kickstarter.com/projects/getpebble/pebble-2-time-2-and-core-an-entirely-new-3g-ultra), and insert the processed features into the trained model to see how it fares with a highly successful project."
   ]
  },
  {
   "cell_type": "code",
   "execution_count": 22,
   "metadata": {},
   "outputs": [
    {
     "data": {
      "text/plain": [
       "array([1])"
      ]
     },
     "execution_count": 22,
     "metadata": {},
     "output_type": "execute_result"
    }
   ],
   "source": [
    "# Set the computed features and standardize them\n",
    "computed_features = (\n",
    "    182, 3549, 26, 0.007326007326007326, 12, 0.0033812341504649195, \n",
    "    6, 0.0016906170752324597, 19.5, 133, 1.5338345864661653, \n",
    "    21.511278195488721, 25, 0, 1, 0, 35, 57, 0.016060862214708368\n",
    ")\n",
    "scaled_features = scaler.transform([computed_features])\n",
    "\n",
    "# Perform the prediction\n",
    "final_clf.predict(scaled_features)"
   ]
  },
  {
   "cell_type": "markdown",
   "metadata": {},
   "source": [
    "We can even examine the probability of success."
   ]
  },
  {
   "cell_type": "code",
   "execution_count": 23,
   "metadata": {},
   "outputs": [
    {
     "data": {
      "text/plain": [
       "0.97648370783381577"
      ]
     },
     "execution_count": 23,
     "metadata": {},
     "output_type": "execute_result"
    }
   ],
   "source": [
    "# Display the probability of being funded with the given features\n",
    "final_clf.predict_proba(scaled_features)[0, 1]"
   ]
  }
 ],
 "metadata": {
  "kernelspec": {
   "display_name": "Python 3",
   "language": "python",
   "name": "python3"
  },
  "language_info": {
   "codemirror_mode": {
    "name": "ipython",
    "version": 3
   },
   "file_extension": ".py",
   "mimetype": "text/x-python",
   "name": "python",
   "nbconvert_exporter": "python",
   "pygments_lexer": "ipython3",
   "version": "3.6.2"
  }
 },
 "nbformat": 4,
 "nbformat_minor": 2
}
