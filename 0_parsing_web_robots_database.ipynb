{
 "cells": [
  {
   "cell_type": "markdown",
   "metadata": {},
   "source": [
    "# Parsing the Web Robots database\n",
    "\n",
    "**Goal: Load the Web Robots database for Kickstarter projects, parse it to extract relevant information, and save the results in a table.**\n",
    "\n",
    "Since Kickstarter projects are given a maximum of 60 days for investment opportunities, I elected to parse through the database containing projects only from June 2017 and earlier, and collect the following pieces of data for every project page.\n",
    "\n",
    "- `name` - project's title\n",
    "- `category` - project's category as set by Kickstarter\n",
    "- `hyperlink` - project's web page URL\n",
    "- `currency` - type of currency used for fundraising\n",
    "- `pledged` - total amount of money pledged by backers over the course of the project\n",
    "- `goal` - funding goal set by the creator\n",
    "- `location` - creator's location information\n",
    "\n",
    "The Web Robots database can be found [here](https://webrobots.io/kickstarter-datasets/)."
   ]
  },
  {
   "cell_type": "code",
   "execution_count": 1,
   "metadata": {
    "collapsed": true
   },
   "outputs": [],
   "source": [
    "# Load required libraries\n",
    "import pandas as pd\n",
    "from sklearn.externals import joblib\n",
    "import json\n",
    "import time"
   ]
  },
  {
   "cell_type": "code",
   "execution_count": 2,
   "metadata": {
    "collapsed": true
   },
   "outputs": [],
   "source": [
    "# Initalize an empty DataFrame with labels of data to be collected\n",
    "df = pd.DataFrame(\n",
    "    columns=['name', 'category', 'hyperlink', 'currency', 'pledged', 'goal',\n",
    "             'location']\n",
    ")"
   ]
  },
  {
   "cell_type": "code",
   "execution_count": 3,
   "metadata": {
    "collapsed": true
   },
   "outputs": [],
   "source": [
    "# Select JSON streaming file containing Web Robots data\n",
    "filename = 'data/Kickstarter_2017-06-15T22_20_03_059Z.json'"
   ]
  },
  {
   "cell_type": "markdown",
   "metadata": {},
   "source": [
    "Since the database is in JSON streaming format (i.e., each line represents a single project and its data is stored as an individual JSON object), let's read in one line at a time, decode the JSON object and store it in a dictionary. Next, we'll extract the data using indexing store it in a DataFrame."
   ]
  },
  {
   "cell_type": "code",
   "execution_count": 4,
   "metadata": {},
   "outputs": [
    {
     "data": {
      "text/plain": [
       "19261.93027496338"
      ]
     },
     "execution_count": 4,
     "metadata": {},
     "output_type": "execute_result"
    }
   ],
   "source": [
    "# Record start time\n",
    "start = time.time()\n",
    "\n",
    "# Open JSON streaming file\n",
    "with open(filename, encoding='utf8') as file:\n",
    "    for index, line in enumerate(file):\n",
    "        # Read each line and record data in a dictionary\n",
    "        json_obj = json.loads(line)\n",
    "        \n",
    "        # Catch any potential typos or missing keys that raising a KeyError\n",
    "        try:\n",
    "            df.loc[index, 'name'] = json_obj['data']['name']\n",
    "        except KeyError:\n",
    "            continue \n",
    "        \n",
    "        try:\n",
    "            df.loc[index, 'category'] = json_obj['data']['category']['name']\n",
    "        except KeyError:\n",
    "            continue\n",
    "        \n",
    "        try:\n",
    "            df.loc[index, 'hyperlink'] = \\\n",
    "                json_obj['data']['urls']['web']['project']\n",
    "        except KeyError:\n",
    "            continue\n",
    "        \n",
    "        try:\n",
    "            df.loc[index, 'currency'] = json_obj['data']['currency']\n",
    "        except KeyError:\n",
    "            continue\n",
    "            \n",
    "        try:\n",
    "            df.loc[index, 'pledged'] = json_obj['data']['pledged']\n",
    "        except KeyError:\n",
    "            continue\n",
    "            \n",
    "        try:\n",
    "            df.loc[index, 'goal'] = json_obj['data']['goal']\n",
    "        except KeyError:\n",
    "            continue\n",
    "        \n",
    "        try:\n",
    "            df.loc[index, 'location'] = \\\n",
    "                json_obj['data']['location']['displayable_name']\n",
    "        except KeyError:\n",
    "            continue\n",
    "            \n",
    "# Report elapsed time in seconds\n",
    "time.time() - start"
   ]
  },
  {
   "cell_type": "markdown",
   "metadata": {},
   "source": [
    "Since the Web Robots database doesn't tell us whether a project was funded or not, let's define this with a Boolean where `pledged > goal`."
   ]
  },
  {
   "cell_type": "code",
   "execution_count": 5,
   "metadata": {
    "scrolled": true
   },
   "outputs": [
    {
     "name": "stdout",
     "output_type": "stream",
     "text": [
      "<class 'pandas.core.frame.DataFrame'>\n",
      "Int64Index: 194818 entries, 0 to 194817\n",
      "Data columns (total 8 columns):\n",
      "name         194818 non-null object\n",
      "category     194818 non-null object\n",
      "hyperlink    194818 non-null object\n",
      "currency     194818 non-null object\n",
      "pledged      194818 non-null float64\n",
      "goal         194818 non-null float64\n",
      "location     194020 non-null object\n",
      "funded       194818 non-null bool\n",
      "dtypes: bool(1), float64(2), object(5)\n",
      "memory usage: 17.1+ MB\n"
     ]
    }
   ],
   "source": [
    "# Convert 'pledged' and 'goal' columns from strings to numeric variables\n",
    "df['pledged'] = pd.to_numeric(df['pledged'])\n",
    "df['goal'] = pd.to_numeric(df['goal'])\n",
    "\n",
    "# Define a new column called 'funded' that identifies whether the project was \n",
    "# funded or not\n",
    "df['funded'] = df['pledged'] > df['goal']\n",
    "\n",
    "# Display collected data information\n",
    "df.info()"
   ]
  },
  {
   "cell_type": "markdown",
   "metadata": {},
   "source": [
    "Finally, let's save the data."
   ]
  },
  {
   "cell_type": "code",
   "execution_count": 7,
   "metadata": {},
   "outputs": [
    {
     "data": {
      "text/plain": [
       "['2017-09-10_full_extracted_data.pkl']"
      ]
     },
     "execution_count": 7,
     "metadata": {},
     "output_type": "execute_result"
    }
   ],
   "source": [
    "# Serialize the collected data\n",
    "joblib.dump(df, 'web_robots_data_to_06-2017')"
   ]
  }
 ],
 "metadata": {
  "kernelspec": {
   "display_name": "Python 3",
   "language": "python",
   "name": "python3"
  },
  "language_info": {
   "codemirror_mode": {
    "name": "ipython",
    "version": 3
   },
   "file_extension": ".py",
   "mimetype": "text/x-python",
   "name": "python",
   "nbconvert_exporter": "python",
   "pygments_lexer": "ipython3",
   "version": "3.6.2"
  }
 },
 "nbformat": 4,
 "nbformat_minor": 2
}
