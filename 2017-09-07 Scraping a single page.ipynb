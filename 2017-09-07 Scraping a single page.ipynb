{
 "cells": [
  {
   "cell_type": "markdown",
   "metadata": {},
   "source": [
    "Load required libraries."
   ]
  },
  {
   "cell_type": "code",
   "execution_count": 48,
   "metadata": {
    "collapsed": true
   },
   "outputs": [],
   "source": [
    "import requests\n",
    "from bs4 import BeautifulSoup\n",
    "import re"
   ]
  },
  {
   "cell_type": "markdown",
   "metadata": {},
   "source": [
    "Select a test hyperlink for a Kickstarter project."
   ]
  },
  {
   "cell_type": "code",
   "execution_count": null,
   "metadata": {
    "collapsed": true
   },
   "outputs": [],
   "source": [
    "project_hyperlink = 'https://www.kickstarter.com/projects/636921542/mobile-phone-cup-holder-dock-and-stand-apple-and-a?ref=category'"
   ]
  },
  {
   "cell_type": "markdown",
   "metadata": {},
   "source": [
    "Scrape the HTML content from the hyperlink."
   ]
  },
  {
   "cell_type": "code",
   "execution_count": 86,
   "metadata": {
    "collapsed": true
   },
   "outputs": [],
   "source": [
    "doc = requests.get(project_hyperlink)\n",
    "soup = BeautifulSoup(p.text, 'html.parser')"
   ]
  },
  {
   "cell_type": "markdown",
   "metadata": {},
   "source": [
    "Remove all line breaks."
   ]
  },
  {
   "cell_type": "code",
   "execution_count": 87,
   "metadata": {},
   "outputs": [],
   "source": [
    "text1 = soup.get_text().replace('\\n', ' ')"
   ]
  },
  {
   "cell_type": "markdown",
   "metadata": {},
   "source": [
    "Define functions to extract information on the two main sections."
   ]
  },
  {
   "cell_type": "code",
   "execution_count": 105,
   "metadata": {},
   "outputs": [],
   "source": [
    "def extract_about(text):\n",
    "    # Extracts the 'About this project' blurb\n",
    "    return re.findall(\n",
    "        r'(?<=About this project).*(?=Risks and challenges)',\n",
    "        text\n",
    "    )"
   ]
  },
  {
   "cell_type": "code",
   "execution_count": 74,
   "metadata": {
    "collapsed": true
   },
   "outputs": [],
   "source": [
    "def extract_risks(text):\n",
    "    # Extracts the 'Risks and challenges' blurb\n",
    "    return re.findall(\n",
    "        r'(?<=Risks and challenges).*(?=Learn about accountability on Kickstarter)',\n",
    "        text\n",
    "    )"
   ]
  },
  {
   "cell_type": "code",
   "execution_count": 94,
   "metadata": {
    "collapsed": true
   },
   "outputs": [],
   "source": [
    "def clean_whitespace(messy_text):\n",
    "    clean_text = re.sub(r'\\s+', ' ', messy_text)\n",
    "    return re.sub(r'^\\s+|\\s+?$', '', clean_text)"
   ]
  },
  {
   "cell_type": "markdown",
   "metadata": {},
   "source": [
    "Test the functions."
   ]
  },
  {
   "cell_type": "code",
   "execution_count": 109,
   "metadata": {},
   "outputs": [
    {
     "data": {
      "text/plain": [
       "'The first and only vehicle cup holder mobile phone dock and stand. This dock and stand is very easy to use with just one hand, no more getting in the vehicle and have to find your charging or syncing cord then plug in and put your phone on your seat or your lap only to have to turn sharply or break and your phone slides in the crevice of the seat or the floor, no more getting a call and cannot find your phone, with the mount you simply get in and drop your phone on the mount and it stays put and where you can always see the display, once docked the phone charges and connects to your stereo.'"
      ]
     },
     "execution_count": 109,
     "metadata": {},
     "output_type": "execute_result"
    }
   ],
   "source": [
    "clean_whitespace(''.join(extract_about(text1)))"
   ]
  },
  {
   "cell_type": "code",
   "execution_count": 110,
   "metadata": {},
   "outputs": [
    {
     "data": {
      "text/plain": [
       "'Only risks could be timing issues from obtaining parts.'"
      ]
     },
     "execution_count": 110,
     "metadata": {},
     "output_type": "execute_result"
    }
   ],
   "source": [
    "clean_whitespace(''.join(extract_risks(text1)))"
   ]
  }
 ],
 "metadata": {
  "kernelspec": {
   "display_name": "Python 3",
   "language": "python",
   "name": "python3"
  },
  "language_info": {
   "codemirror_mode": {
    "name": "ipython",
    "version": 3
   },
   "file_extension": ".py",
   "mimetype": "text/x-python",
   "name": "python",
   "nbconvert_exporter": "python",
   "pygments_lexer": "ipython3",
   "version": "3.6.2"
  }
 },
 "nbformat": 4,
 "nbformat_minor": 2
}
