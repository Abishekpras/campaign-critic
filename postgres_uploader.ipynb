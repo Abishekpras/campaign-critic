{
 "cells": [
  {
   "cell_type": "markdown",
   "metadata": {},
   "source": [
    "# Uploading data into PostgreSQL\n",
    "\n",
    "**This notebook will load prepared training sets for each campaign section, containing processed features and their corresponding target variable, and append them to their respective PostgreSQL databases.**"
   ]
  },
  {
   "cell_type": "code",
   "execution_count": 6,
   "metadata": {
    "collapsed": true
   },
   "outputs": [],
   "source": [
    "# Load required libraries\n",
    "from sqlalchemy import create_engine\n",
    "from sqlalchemy_utils import database_exists, create_database\n",
    "import psycopg2\n",
    "import pandas as pd\n",
    "from sklearn.externals import joblib"
   ]
  },
  {
   "cell_type": "markdown",
   "metadata": {},
   "source": [
    "We'll be adding data into two distinct databases, `section1` and `section2`&mdash;one for each campaign section."
   ]
  },
  {
   "cell_type": "code",
   "execution_count": 7,
   "metadata": {
    "collapsed": true
   },
   "outputs": [],
   "source": [
    "# Set Postgres credentials\n",
    "db_name1 = 'section1'\n",
    "db_name2 = 'section2'\n",
    "usernm = 'redwan'\n",
    "host = 'localhost'\n",
    "port = '5432'\n",
    "# pwd = ''"
   ]
  },
  {
   "cell_type": "markdown",
   "metadata": {},
   "source": [
    "Next, let's create a SQLAlchemy engine for both database connections."
   ]
  },
  {
   "cell_type": "code",
   "execution_count": 8,
   "metadata": {
    "collapsed": true
   },
   "outputs": [],
   "source": [
    "# Create engines for both databases\n",
    "engine1 = create_engine(\n",
    "    'postgresql://{}:{}@{}:{}/{}'.format(usernm, pwd, host, port, db_name1)\n",
    ")\n",
    "\n",
    "engine2 = create_engine(\n",
    "    'postgresql://{}:{}@{}:{}/{}'.format(usernm, pwd, host, port, db_name2)\n",
    ")"
   ]
  },
  {
   "cell_type": "markdown",
   "metadata": {},
   "source": [
    "We'll create a database only if it doesn't yet exist."
   ]
  },
  {
   "cell_type": "code",
   "execution_count": 9,
   "metadata": {},
   "outputs": [
    {
     "name": "stdout",
     "output_type": "stream",
     "text": [
      "True True\n"
     ]
    }
   ],
   "source": [
    "# Create a new database for each section if it already does not exist\n",
    "if not database_exists(engine1.url):\n",
    "    create_database(engine1.url)\n",
    "\n",
    "if not database_exists(engine2.url):\n",
    "    create_database(engine2.url)\n",
    "\n",
    "# Display whether the database exists\n",
    "print(database_exists(engine1.url), database_exists(engine2.url) )"
   ]
  },
  {
   "cell_type": "markdown",
   "metadata": {},
   "source": [
    "Let's load the prepared training sets for each campaign section."
   ]
  },
  {
   "cell_type": "code",
   "execution_count": 11,
   "metadata": {
    "collapsed": true
   },
   "outputs": [],
   "source": [
    "# Load DataFrames from pickle files\n",
    "section1_df = joblib.load(\n",
    "    'data/extracted_data/section1_extracted_data_20000-24558.pkl'\n",
    ")\n",
    "\n",
    "section2_df = joblib.load(\n",
    "    'data/extracted_data/section2_extracted_data_20000-24558.pkl'\n",
    ")"
   ]
  },
  {
   "cell_type": "markdown",
   "metadata": {},
   "source": [
    "Next, let's upload and append the tables containing the training sets into their respective SQL databases."
   ]
  },
  {
   "cell_type": "code",
   "execution_count": 12,
   "metadata": {
    "collapsed": true
   },
   "outputs": [],
   "source": [
    "# Append data into the corresponding SQL database\n",
    "section1_df.to_sql(\n",
    "    name=db_name1, \n",
    "    con=engine1,\n",
    "    if_exists='append'\n",
    ")\n",
    "\n",
    "section2_df.to_sql(\n",
    "    name=db_name2, \n",
    "    con=engine2,\n",
    "    if_exists='append'\n",
    ")"
   ]
  },
  {
   "cell_type": "markdown",
   "metadata": {},
   "source": [
    "Finally, let's examine if the uploading was successful by querying the complete SQL database for a campaign section."
   ]
  },
  {
   "cell_type": "code",
   "execution_count": 13,
   "metadata": {},
   "outputs": [
    {
     "data": {
      "text/html": [
       "<div>\n",
       "<style>\n",
       "    .dataframe thead tr:only-child th {\n",
       "        text-align: right;\n",
       "    }\n",
       "\n",
       "    .dataframe thead th {\n",
       "        text-align: left;\n",
       "    }\n",
       "\n",
       "    .dataframe tbody tr th {\n",
       "        vertical-align: top;\n",
       "    }\n",
       "</style>\n",
       "<table border=\"1\" class=\"dataframe\">\n",
       "  <thead>\n",
       "    <tr style=\"text-align: right;\">\n",
       "      <th></th>\n",
       "      <th>level_0</th>\n",
       "      <th>index</th>\n",
       "      <th>num_sents</th>\n",
       "      <th>num_words</th>\n",
       "      <th>num_all_caps</th>\n",
       "      <th>percent_all_caps</th>\n",
       "      <th>num_exclms</th>\n",
       "      <th>percent_exclms</th>\n",
       "      <th>num_apple_words</th>\n",
       "      <th>percent_apple_words</th>\n",
       "      <th>...</th>\n",
       "      <th>num_bolded</th>\n",
       "      <th>percent_bolded</th>\n",
       "      <th>name</th>\n",
       "      <th>category</th>\n",
       "      <th>hyperlink</th>\n",
       "      <th>currency</th>\n",
       "      <th>pledged</th>\n",
       "      <th>goal</th>\n",
       "      <th>location</th>\n",
       "      <th>funded</th>\n",
       "    </tr>\n",
       "  </thead>\n",
       "  <tbody>\n",
       "    <tr>\n",
       "      <th>0</th>\n",
       "      <td>0</td>\n",
       "      <td>88389</td>\n",
       "      <td>15.0</td>\n",
       "      <td>223.0</td>\n",
       "      <td>0.0</td>\n",
       "      <td>0.000000</td>\n",
       "      <td>3.0</td>\n",
       "      <td>0.002317</td>\n",
       "      <td>0.0</td>\n",
       "      <td>0.000000</td>\n",
       "      <td>...</td>\n",
       "      <td>0.0</td>\n",
       "      <td>0.000000</td>\n",
       "      <td>Help me start my cottage industry ... Bakesale...</td>\n",
       "      <td>Small Batch</td>\n",
       "      <td>https://www.kickstarter.com/projects/138529431...</td>\n",
       "      <td>USD</td>\n",
       "      <td>0.0</td>\n",
       "      <td>10000.0</td>\n",
       "      <td>Cape Coral, FL</td>\n",
       "      <td>False</td>\n",
       "    </tr>\n",
       "    <tr>\n",
       "      <th>1</th>\n",
       "      <td>1</td>\n",
       "      <td>190378</td>\n",
       "      <td>15.0</td>\n",
       "      <td>383.0</td>\n",
       "      <td>0.0</td>\n",
       "      <td>0.000000</td>\n",
       "      <td>4.0</td>\n",
       "      <td>0.003089</td>\n",
       "      <td>0.0</td>\n",
       "      <td>0.000000</td>\n",
       "      <td>...</td>\n",
       "      <td>0.0</td>\n",
       "      <td>0.000000</td>\n",
       "      <td>The Sock Who Lost His Mate at NY Children's Th...</td>\n",
       "      <td>Musical</td>\n",
       "      <td>https://www.kickstarter.com/projects/987315242...</td>\n",
       "      <td>USD</td>\n",
       "      <td>2600.0</td>\n",
       "      <td>7000.0</td>\n",
       "      <td>Greenwich Village, Manhattan, NY</td>\n",
       "      <td>False</td>\n",
       "    </tr>\n",
       "    <tr>\n",
       "      <th>2</th>\n",
       "      <td>2</td>\n",
       "      <td>21028</td>\n",
       "      <td>15.0</td>\n",
       "      <td>259.0</td>\n",
       "      <td>17.0</td>\n",
       "      <td>0.013127</td>\n",
       "      <td>0.0</td>\n",
       "      <td>0.000000</td>\n",
       "      <td>1.0</td>\n",
       "      <td>0.000772</td>\n",
       "      <td>...</td>\n",
       "      <td>0.0</td>\n",
       "      <td>0.000000</td>\n",
       "      <td>The 4 Disciples</td>\n",
       "      <td>Comic Books</td>\n",
       "      <td>https://www.kickstarter.com/projects/the4disci...</td>\n",
       "      <td>USD</td>\n",
       "      <td>165.0</td>\n",
       "      <td>2200.0</td>\n",
       "      <td>Rahway, NJ</td>\n",
       "      <td>False</td>\n",
       "    </tr>\n",
       "    <tr>\n",
       "      <th>3</th>\n",
       "      <td>3</td>\n",
       "      <td>154207</td>\n",
       "      <td>18.0</td>\n",
       "      <td>431.0</td>\n",
       "      <td>0.0</td>\n",
       "      <td>0.000000</td>\n",
       "      <td>3.0</td>\n",
       "      <td>0.002317</td>\n",
       "      <td>1.0</td>\n",
       "      <td>0.000772</td>\n",
       "      <td>...</td>\n",
       "      <td>0.0</td>\n",
       "      <td>0.000000</td>\n",
       "      <td>Every Precious Boy and Girl - Stories of Women...</td>\n",
       "      <td>Children's Books</td>\n",
       "      <td>https://www.kickstarter.com/projects/646886749...</td>\n",
       "      <td>USD</td>\n",
       "      <td>1836.0</td>\n",
       "      <td>1590.0</td>\n",
       "      <td>Ann Arbor, MI</td>\n",
       "      <td>True</td>\n",
       "    </tr>\n",
       "    <tr>\n",
       "      <th>4</th>\n",
       "      <td>4</td>\n",
       "      <td>46223</td>\n",
       "      <td>23.0</td>\n",
       "      <td>283.0</td>\n",
       "      <td>2.0</td>\n",
       "      <td>0.001544</td>\n",
       "      <td>15.0</td>\n",
       "      <td>0.011583</td>\n",
       "      <td>0.0</td>\n",
       "      <td>0.000000</td>\n",
       "      <td>...</td>\n",
       "      <td>12.0</td>\n",
       "      <td>0.009266</td>\n",
       "      <td>Message in a Bottle Necklaces</td>\n",
       "      <td>Jewelry</td>\n",
       "      <td>https://www.kickstarter.com/projects/764561485...</td>\n",
       "      <td>USD</td>\n",
       "      <td>11.0</td>\n",
       "      <td>100.0</td>\n",
       "      <td>Pasadena, CA</td>\n",
       "      <td>False</td>\n",
       "    </tr>\n",
       "  </tbody>\n",
       "</table>\n",
       "<p>5 rows × 29 columns</p>\n",
       "</div>"
      ],
      "text/plain": [
       "   level_0   index  num_sents  num_words  num_all_caps  percent_all_caps  \\\n",
       "0        0   88389       15.0      223.0           0.0          0.000000   \n",
       "1        1  190378       15.0      383.0           0.0          0.000000   \n",
       "2        2   21028       15.0      259.0          17.0          0.013127   \n",
       "3        3  154207       18.0      431.0           0.0          0.000000   \n",
       "4        4   46223       23.0      283.0           2.0          0.001544   \n",
       "\n",
       "   num_exclms  percent_exclms  num_apple_words  percent_apple_words   ...    \\\n",
       "0         3.0        0.002317              0.0             0.000000   ...     \n",
       "1         4.0        0.003089              0.0             0.000000   ...     \n",
       "2         0.0        0.000000              1.0             0.000772   ...     \n",
       "3         3.0        0.002317              1.0             0.000772   ...     \n",
       "4        15.0        0.011583              0.0             0.000000   ...     \n",
       "\n",
       "   num_bolded  percent_bolded  \\\n",
       "0         0.0        0.000000   \n",
       "1         0.0        0.000000   \n",
       "2         0.0        0.000000   \n",
       "3         0.0        0.000000   \n",
       "4        12.0        0.009266   \n",
       "\n",
       "                                                name          category  \\\n",
       "0  Help me start my cottage industry ... Bakesale...       Small Batch   \n",
       "1  The Sock Who Lost His Mate at NY Children's Th...           Musical   \n",
       "2                                    The 4 Disciples       Comic Books   \n",
       "3  Every Precious Boy and Girl - Stories of Women...  Children's Books   \n",
       "4                      Message in a Bottle Necklaces           Jewelry   \n",
       "\n",
       "                                           hyperlink  currency  pledged  \\\n",
       "0  https://www.kickstarter.com/projects/138529431...       USD      0.0   \n",
       "1  https://www.kickstarter.com/projects/987315242...       USD   2600.0   \n",
       "2  https://www.kickstarter.com/projects/the4disci...       USD    165.0   \n",
       "3  https://www.kickstarter.com/projects/646886749...       USD   1836.0   \n",
       "4  https://www.kickstarter.com/projects/764561485...       USD     11.0   \n",
       "\n",
       "      goal                          location  funded  \n",
       "0  10000.0                    Cape Coral, FL   False  \n",
       "1   7000.0  Greenwich Village, Manhattan, NY   False  \n",
       "2   2200.0                        Rahway, NJ   False  \n",
       "3   1590.0                     Ann Arbor, MI    True  \n",
       "4    100.0                      Pasadena, CA   False  \n",
       "\n",
       "[5 rows x 29 columns]"
      ]
     },
     "execution_count": 13,
     "metadata": {},
     "output_type": "execute_result"
    }
   ],
   "source": [
    "# Connect to a database\n",
    "con1 = psycopg2.connect(\n",
    "    database=db_name1, \n",
    "    host='localhost',\n",
    "    user=usernm,\n",
    "    password=pwd\n",
    ")\n",
    "\n",
    "# Define a SQL query to load a section\n",
    "sql_query = \"\"\"\n",
    "SELECT * \n",
    "  FROM section1;\n",
    "\"\"\"\n",
    "\n",
    "# Perform SQL query and store results in a DataFrame\n",
    "test_data_from_sql = pd.read_sql_query(sql_query, con1)\n",
    "\n",
    "# Display the first five rows\n",
    "test_data_from_sql.head()"
   ]
  },
  {
   "cell_type": "markdown",
   "metadata": {},
   "source": [
    "We can read in the data from the database. Let's see how large the new database is."
   ]
  },
  {
   "cell_type": "code",
   "execution_count": 14,
   "metadata": {
    "scrolled": true
   },
   "outputs": [
    {
     "data": {
      "text/plain": [
       "24558"
      ]
     },
     "execution_count": 14,
     "metadata": {},
     "output_type": "execute_result"
    }
   ],
   "source": [
    "len(test_data_from_sql)"
   ]
  },
  {
   "cell_type": "markdown",
   "metadata": {},
   "source": [
    "We can also examine the database information."
   ]
  },
  {
   "cell_type": "code",
   "execution_count": 15,
   "metadata": {},
   "outputs": [
    {
     "name": "stdout",
     "output_type": "stream",
     "text": [
      "<class 'pandas.core.frame.DataFrame'>\n",
      "RangeIndex: 24558 entries, 0 to 24557\n",
      "Data columns (total 29 columns):\n",
      "level_0                    24558 non-null int64\n",
      "index                      24558 non-null int64\n",
      "num_sents                  24527 non-null float64\n",
      "num_words                  24450 non-null float64\n",
      "num_all_caps               24527 non-null float64\n",
      "percent_all_caps           24450 non-null float64\n",
      "num_exclms                 24527 non-null float64\n",
      "percent_exclms             24450 non-null float64\n",
      "num_apple_words            24527 non-null float64\n",
      "percent_apple_words        24450 non-null float64\n",
      "avg_words_per_sent         24447 non-null float64\n",
      "num_paragraphs             24527 non-null float64\n",
      "avg_sents_per_paragraph    24116 non-null float64\n",
      "avg_words_per_paragraph    24116 non-null float64\n",
      "num_images                 24527 non-null float64\n",
      "num_videos                 24527 non-null float64\n",
      "num_youtubes               24527 non-null float64\n",
      "num_gifs                   24527 non-null float64\n",
      "num_hyperlinks             24527 non-null float64\n",
      "num_bolded                 24527 non-null float64\n",
      "percent_bolded             24450 non-null float64\n",
      "name                       24558 non-null object\n",
      "category                   24558 non-null object\n",
      "hyperlink                  24558 non-null object\n",
      "currency                   24558 non-null object\n",
      "pledged                    24558 non-null float64\n",
      "goal                       24558 non-null float64\n",
      "location                   24421 non-null object\n",
      "funded                     24558 non-null bool\n",
      "dtypes: bool(1), float64(21), int64(2), object(5)\n",
      "memory usage: 5.3+ MB\n"
     ]
    }
   ],
   "source": [
    "test_data_from_sql.info()"
   ]
  }
 ],
 "metadata": {
  "kernelspec": {
   "display_name": "Python 3",
   "language": "python",
   "name": "python3"
  },
  "language_info": {
   "codemirror_mode": {
    "name": "ipython",
    "version": 3
   },
   "file_extension": ".py",
   "mimetype": "text/x-python",
   "name": "python",
   "nbconvert_exporter": "python",
   "pygments_lexer": "ipython3",
   "version": "3.6.2"
  }
 },
 "nbformat": 4,
 "nbformat_minor": 2
}
