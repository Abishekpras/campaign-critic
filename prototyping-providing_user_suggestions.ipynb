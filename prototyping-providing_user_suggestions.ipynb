{
 "cells": [
  {
   "cell_type": "markdown",
   "metadata": {},
   "source": [
    "# Suggesting how a project can be improved\n",
    "\n",
    "**The purpose of this notebook is determine and validate a method to compare the most predictive meta features of a project with top performing projects with the goal of providing areas for improvement.**"
   ]
  },
  {
   "cell_type": "code",
   "execution_count": 1,
   "metadata": {
    "collapsed": true
   },
   "outputs": [],
   "source": [
    "# Load required packages\n",
    "import numpy as np\n",
    "import pandas as pd\n",
    "import matplotlib.pyplot as plt\n",
    "import seaborn as sns\n",
    "import psycopg2\n",
    "import feature_engineering\n",
    "from scipy import sparse\n",
    "from sklearn.externals import joblib\n",
    "\n",
    "# Set figure display options\n",
    "%matplotlib inline\n",
    "sns.set(context='notebook', style='darkgrid')\n",
    "sns.set(font_scale=1.3)"
   ]
  },
  {
   "cell_type": "markdown",
   "metadata": {},
   "source": [
    "Let's begin loading the pre-trained scaler, vectorizer and classifier."
   ]
  },
  {
   "cell_type": "code",
   "execution_count": 2,
   "metadata": {
    "collapsed": true
   },
   "outputs": [],
   "source": [
    "# Load serialized scaler and vectorizer\n",
    "scaler = joblib.load('data/trained_models/trained_scaler.pkl')\n",
    "vectorizer = joblib.load('data/trained_models/vectorizer_250.pkl')\n",
    "\n",
    "# Load model pretrained on meta features and n-grams\n",
    "clf = joblib.load('data/trained_models/trained_classifier.pkl')"
   ]
  },
  {
   "cell_type": "markdown",
   "metadata": {},
   "source": [
    "We need to define which meta features we want to provide recommendations for. These will be selected as the top positive predictors of success."
   ]
  },
  {
   "cell_type": "code",
   "execution_count": 3,
   "metadata": {
    "collapsed": true
   },
   "outputs": [],
   "source": [
    "# List of meta features to use in models\n",
    "features = ['num_sents', 'num_words', 'num_all_caps', 'percent_all_caps',\n",
    "            'num_exclms', 'percent_exclms', 'num_apple_words',\n",
    "            'percent_apple_words', 'avg_words_per_sent', 'num_paragraphs',\n",
    "            'avg_sents_per_paragraph', 'avg_words_per_paragraph',\n",
    "            'num_images', 'num_videos', 'num_youtubes', 'num_gifs',\n",
    "            'num_hyperlinks', 'num_bolded', 'percent_bolded']\n",
    "\n",
    "# List of meta features that were most predictive of funded projects\n",
    "predictive_features = ['num_hyperlinks', 'num_images', 'num_apple_words',\n",
    "                       'num_exclms', 'percent_bolded', 'num_words']"
   ]
  },
  {
   "cell_type": "markdown",
   "metadata": {},
   "source": [
    "Let's load up the training set from PostgreSQL so we can determine the top performing projects."
   ]
  },
  {
   "cell_type": "code",
   "execution_count": 4,
   "metadata": {
    "collapsed": true
   },
   "outputs": [],
   "source": [
    "# Set database credentials\n",
    "db_name1 = 'section1_db'\n",
    "usernm = 'redwan'\n",
    "host = 'localhost'\n",
    "port = '5432'\n",
    "pwd = 'pentium'\n",
    "\n",
    "# Prepare a connection to database for section 1\n",
    "con1 = psycopg2.connect(\n",
    "    database=db_name1, \n",
    "    host='localhost',\n",
    "    user=usernm,\n",
    "    password=pwd\n",
    ")\n",
    "\n",
    "# Query all data from both campaign sections\n",
    "sql_query1 = 'SELECT * FROM section1_db;'\n",
    "section1_df_full = pd.read_sql_query(sql_query1, con1)"
   ]
  },
  {
   "cell_type": "markdown",
   "metadata": {},
   "source": [
    "To define a quantitative measure of success, we'll use the percent above or below the project goal. Next, we'll select the projects in the top 5% and clean the dataset."
   ]
  },
  {
   "cell_type": "code",
   "execution_count": 5,
   "metadata": {
    "collapsed": true
   },
   "outputs": [],
   "source": [
    "# Define a target variable for defining top performing projects\n",
    "section1_df_full['percent_funded'] = section1_df_full['pledged'] / \\\n",
    "    section1_df_full['goal']\n",
    "\n",
    "# Select projects that are within the top 1%\n",
    "quantile_limit = section1_df_full['percent_funded'].quantile(q=0.95)\n",
    "top_projects = section1_df_full[section1_df_full['percent_funded'] >= \\\n",
    "                                quantile_limit]\n",
    "\n",
    "# Select meta features for top projects\n",
    "X = top_projects[features]\n",
    "\n",
    "# Remove all rows with no data\n",
    "X_cleaned = X[~X.isnull().all(axis=1)]\n",
    "\n",
    "# Fill remaining missing values with zero\n",
    "X_cleaned = X_cleaned.fillna(0)"
   ]
  },
  {
   "cell_type": "markdown",
   "metadata": {},
   "source": [
    "To aggregate the top performing projects, we can use the mean of the values of each meta feature. Next, we'll standardize the averaged meta features using the scaler used in the training set."
   ]
  },
  {
   "cell_type": "code",
   "execution_count": 6,
   "metadata": {
    "collapsed": true
   },
   "outputs": [],
   "source": [
    "# Compute the average meta feature of the top projects\n",
    "avg_top_projects = X_cleaned.mean()\n",
    "\n",
    "# Compute the feature vector for the average top project\n",
    "top_project_std = pd.Series(\n",
    "    scaler.transform([avg_top_projects]).ravel(),\n",
    "    index=features)"
   ]
  },
  {
   "cell_type": "markdown",
   "metadata": {},
   "source": [
    "Let's store the standardized meta features of the averaged top projects for later use."
   ]
  },
  {
   "cell_type": "code",
   "execution_count": 7,
   "metadata": {
    "collapsed": true
   },
   "outputs": [],
   "source": [
    "# Save the top project vector\n",
    "#joblib.dump(top_project_std, 'top_5_percent_vector.pkl')\n",
    "\n",
    "# Alternatively load the feature vector for the average top project\n",
    "#top_project_std = joblib.load('data/top_5_percent_vector.pkl')"
   ]
  },
  {
   "cell_type": "markdown",
   "metadata": {},
   "source": [
    "Let's select a project hyperlink to test."
   ]
  },
  {
   "cell_type": "code",
   "execution_count": 8,
   "metadata": {
    "collapsed": true
   },
   "outputs": [],
   "source": [
    "# Select a hyperlink\n",
    "#hyperlink = 'https://www.kickstarter.com/projects/getpebble/pebble-time-awesome-smartwatch-no-compromises'\n",
    "#hyperlink = 'https://www.kickstarter.com/projects/1385294316/help-me-start-my-cottage-industry-bakesalecom?ref=category_newest'\n",
    "hyperlink = 'https://www.kickstarter.com/projects/getpebble/pebble-2-time-2-and-core-an-entirely-new-3g-ultra'"
   ]
  },
  {
   "cell_type": "markdown",
   "metadata": {},
   "source": [
    "We need to scape the project page, collect the campaign, and extract meta features. Next, we'll use the scaler used in the training set to standardize the meta features."
   ]
  },
  {
   "cell_type": "code",
   "execution_count": 9,
   "metadata": {
    "collapsed": true
   },
   "outputs": [],
   "source": [
    "# Compute the meta features and preprocess the campaign section\n",
    "meta_features, processed_section = feature_engineering.process_project(\n",
    "    hyperlink\n",
    ")\n",
    "\n",
    "# Standardize the feature vector\n",
    "feature_vector_std = pd.Series(\n",
    "    scaler.transform([meta_features]).ravel(),\n",
    "    index=features\n",
    ")"
   ]
  },
  {
   "cell_type": "markdown",
   "metadata": {},
   "source": [
    "Using the classifier we can compute the feature importance."
   ]
  },
  {
   "cell_type": "code",
   "execution_count": 10,
   "metadata": {
    "collapsed": true
   },
   "outputs": [],
   "source": [
    "# Compute meta feature ranks\n",
    "feature_ranks = pd.Series(\n",
    "    clf.coef_.T.ravel()[:len(features)],\n",
    "    index=features\n",
    ")"
   ]
  },
  {
   "cell_type": "markdown",
   "metadata": {},
   "source": [
    "To determine how much each project focused on each feature, let's define the \"strength\" of each of the feature we're interested in by multiplying the parameter weight of the feature with the value of that feature. High values of this product are indicative of project's that emphasized this feature. Finally, we'll compare these products to those of the top performing projects as a standard."
   ]
  },
  {
   "cell_type": "code",
   "execution_count": 11,
   "metadata": {
    "collapsed": true
   },
   "outputs": [],
   "source": [
    "# Compute the strength of the meta features of the user's project\n",
    "user_project_strength = np.multiply(\n",
    "    feature_vector_std[predictive_features],\n",
    "    feature_ranks[predictive_features]\n",
    ")\n",
    "\n",
    "# Compute the strength of the meta features of the average top project\n",
    "top_project_strength = np.multiply(\n",
    "    top_project_std[predictive_features],\n",
    "    feature_ranks[predictive_features]\n",
    ")"
   ]
  },
  {
   "cell_type": "markdown",
   "metadata": {},
   "source": [
    "To visualize the two strength metrics easily in Seaborn, we need to transform the dataset into \"tidy\" format."
   ]
  },
  {
   "cell_type": "code",
   "execution_count": 12,
   "metadata": {
    "collapsed": true
   },
   "outputs": [],
   "source": [
    "# Combine the strength metrics into one DataFrame\n",
    "messy = pd.DataFrame(\n",
    "    [user_project_strength, top_project_strength], \n",
    "    index=['My project', 'Top 5% of projects']\n",
    ").T.reset_index()\n",
    "\n",
    "# Transform the combined data into tidy format\n",
    "tidy = pd.melt(\n",
    "    messy,\n",
    "    id_vars='index',\n",
    "    value_vars=['My project', 'Top 5% of projects'],\n",
    "    var_name=' '\n",
    ")"
   ]
  },
  {
   "cell_type": "markdown",
   "metadata": {},
   "source": [
    "Finally, let's draw a grouped plot of the strengths. This graph serves to provide the user a way to "
   ]
  },
  {
   "cell_type": "code",
   "execution_count": 17,
   "metadata": {
    "scrolled": true
   },
   "outputs": [
    {
     "data": {
      "image/png": "[encoded data removed]",
      "text/plain": [
       "<matplotlib.figure.Figure at 0x7facafaa20f0>"
      ]
     },
     "metadata": {},
     "output_type": "display_data"
    }
   ],
   "source": [
    "# Draw a grouped bar plot\n",
    "fig = sns.factorplot(\n",
    "    data=tidy,\n",
    "    y='index',\n",
    "    x='value',\n",
    "    hue=' ',\n",
    "    kind='bar',\n",
    "    size=5,\n",
    "    aspect=1.5,\n",
    "    palette='Set1',\n",
    "    legend_out=False\n",
    ").set(xlabel='', ylabel='', xticks=[]);\n",
    "\n",
    "# Re-label the y-axis\n",
    "labels = ['# of hyperlinks', '# of images', '# of innovation words',\n",
    "          '# of exclamation marks', '% of text bolded', '# of words']\n",
    "plt.yticks(np.arange(6), labels)\n",
    "fig.ax.legend(loc='lower right');"
   ]
  }
 ],
 "metadata": {
  "kernelspec": {
   "display_name": "Python 3",
   "language": "python",
   "name": "python3"
  },
  "language_info": {
   "codemirror_mode": {
    "name": "ipython",
    "version": 3
   },
   "file_extension": ".py",
   "mimetype": "text/x-python",
   "name": "python",
   "nbconvert_exporter": "python",
   "pygments_lexer": "ipython3",
   "version": "3.6.2"
  }
 },
 "nbformat": 4,
 "nbformat_minor": 2
}
