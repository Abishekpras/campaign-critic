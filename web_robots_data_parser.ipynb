{
 "cells": [
  {
   "cell_type": "markdown",
   "metadata": {},
   "source": [
    "# Parsing Web Robots data\n",
    "\n",
    "Web Robots is a web scraping company that collects some aspects of Kickstarter project pages on a monthly basis and shares that data freely and publicly in a streaming JSON file. \n",
    "\n",
    "Since Kickstarter projects last 60 days maximum, I am to parse through the Web Robots data from June 2017 and earlier and collect the following features for each project page.\n",
    "\n",
    "- `name` - project's name\n",
    "- `category` - project's category as defined by Kickstarter\n",
    "- `hyperlink` - project's web page URL\n",
    "- `currency` - type of currency used for fundraising\n",
    "- `pledged` - total amount of money pledged by backers over the course of the project\n",
    "- `goal` - funding goal set by the creator\n",
    "- `location` - creator's location information\n",
    "\n",
    "Web Robots raw data can be found [here](https://webrobots.io/kickstarter-datasets/)."
   ]
  },
  {
   "cell_type": "code",
   "execution_count": 1,
   "metadata": {
    "collapsed": true
   },
   "outputs": [],
   "source": [
    "# Load the required libraries\n",
    "import pandas as pd\n",
    "import numpy as np\n",
    "from sklearn.externals import joblib\n",
    "import json\n",
    "import time"
   ]
  },
  {
   "cell_type": "code",
   "execution_count": 2,
   "metadata": {
    "collapsed": true
   },
   "outputs": [],
   "source": [
    "# Initalize an empty DataFrame with features of interest\n",
    "df = pd.DataFrame(\n",
    "    columns=[\n",
    "        'name',\n",
    "        'category',\n",
    "        'hyperlink',\n",
    "        'currency',\n",
    "        'pledged',\n",
    "        'goal',\n",
    "        'location'\n",
    "    ]\n",
    ")"
   ]
  },
  {
   "cell_type": "code",
   "execution_count": 3,
   "metadata": {
    "collapsed": true
   },
   "outputs": [],
   "source": [
    "# Select jsonlines file containing Web Robots data\n",
    "filename = 'Kickstarter_2017-06-15T22_20_03_059Z.json'"
   ]
  },
  {
   "cell_type": "markdown",
   "metadata": {},
   "source": [
    "Since the file is in JSON streaming format (i.e., each line represents a single project and its data is stored as an individual JSON object), let's read in one line at a time, decode the JSON object and store it as a Python `dict`, extract the features via indexing, and store the final results in the DataFrame created above."
   ]
  },
  {
   "cell_type": "code",
   "execution_count": 4,
   "metadata": {},
   "outputs": [
    {
     "data": {
      "text/plain": [
       "19261.93027496338"
      ]
     },
     "execution_count": 4,
     "metadata": {},
     "output_type": "execute_result"
    }
   ],
   "source": [
    "# Record start time \n",
    "start = time.time()\n",
    "\n",
    "# Open jsonlines file\n",
    "with open(filename, encoding='utf8') as file:\n",
    "    for index, line in enumerate(file):\n",
    "        # Read each line and record features in a DataFrame\n",
    "        json_obj = json.loads(line)\n",
    "        \n",
    "        # Use try/except statements, in case any data has a missing or mispelt\n",
    "        # dictionary key, to collect each feature\n",
    "        try:\n",
    "            df.loc[index, 'name'] = json_obj['data']['name']\n",
    "        except KeyError:\n",
    "            continue \n",
    "        \n",
    "        try:\n",
    "            df.loc[index, 'category'] = json_obj['data']['category']['name']\n",
    "        except KeyError:\n",
    "            continue\n",
    "        \n",
    "        try:\n",
    "            df.loc[index, 'hyperlink'] = \\\n",
    "                json_obj['data']['urls']['web']['project']\n",
    "        except KeyError:\n",
    "            continue\n",
    "        \n",
    "        try:\n",
    "            df.loc[index, 'currency'] = json_obj['data']['currency']\n",
    "        except KeyError:\n",
    "            continue\n",
    "            \n",
    "        try:\n",
    "            df.loc[index, 'pledged'] = json_obj['data']['pledged']\n",
    "        except KeyError:\n",
    "            continue\n",
    "            \n",
    "        try:\n",
    "            df.loc[index, 'goal'] = json_obj['data']['goal']\n",
    "        except KeyError:\n",
    "            continue\n",
    "        \n",
    "        try:\n",
    "            df.loc[index, 'location'] = \\\n",
    "                json_obj['data']['location']['displayable_name']\n",
    "        except KeyError:\n",
    "            continue\n",
    "            \n",
    "# Report elapsed time in seconds\n",
    "time.time() - start"
   ]
  },
  {
   "cell_type": "markdown",
   "metadata": {},
   "source": [
    "Since the JSON data doesn't tell us whether a project was funded or not, let's determine this by labeling successfully funded projects as those that have `pledged > goal`."
   ]
  },
  {
   "cell_type": "code",
   "execution_count": 5,
   "metadata": {
    "scrolled": true
   },
   "outputs": [
    {
     "name": "stdout",
     "output_type": "stream",
     "text": [
      "<class 'pandas.core.frame.DataFrame'>\n",
      "Int64Index: 194818 entries, 0 to 194817\n",
      "Data columns (total 8 columns):\n",
      "name         194818 non-null object\n",
      "category     194818 non-null object\n",
      "hyperlink    194818 non-null object\n",
      "currency     194818 non-null object\n",
      "pledged      194818 non-null float64\n",
      "goal         194818 non-null float64\n",
      "location     194020 non-null object\n",
      "funded       194818 non-null bool\n",
      "dtypes: bool(1), float64(2), object(5)\n",
      "memory usage: 17.1+ MB\n"
     ]
    }
   ],
   "source": [
    "# Convert pledged and goal columns from strings to numeric variables\n",
    "df['pledged'] = pd.to_numeric(df['pledged'])\n",
    "df['goal'] = pd.to_numeric(df['goal'])\n",
    "\n",
    "# Define a new column that determines whether the project was funded\n",
    "df['funded'] = df['pledged'] > df['goal']\n",
    "\n",
    "# Display data information\n",
    "df.info()"
   ]
  },
  {
   "cell_type": "markdown",
   "metadata": {},
   "source": [
    "Let's save the data."
   ]
  },
  {
   "cell_type": "code",
   "execution_count": 7,
   "metadata": {},
   "outputs": [
    {
     "data": {
      "text/plain": [
       "['2017-09-10_full_extracted_data.pkl']"
      ]
     },
     "execution_count": 7,
     "metadata": {},
     "output_type": "execute_result"
    }
   ],
   "source": [
    "# Serialize the collected data\n",
    "joblib.dump(df, 'web_robots_data_to_06-2017')"
   ]
  }
 ],
 "metadata": {
  "kernelspec": {
   "display_name": "Python 3",
   "language": "python",
   "name": "python3"
  },
  "language_info": {
   "codemirror_mode": {
    "name": "ipython",
    "version": 3
   },
   "file_extension": ".py",
   "mimetype": "text/x-python",
   "name": "python",
   "nbconvert_exporter": "python",
   "pygments_lexer": "ipython3",
   "version": "3.6.2"
  }
 },
 "nbformat": 4,
 "nbformat_minor": 2
}
