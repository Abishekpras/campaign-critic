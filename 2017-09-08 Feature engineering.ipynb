{
 "cells": [
  {
   "cell_type": "markdown",
   "metadata": {},
   "source": [
    "# Feature engineering"
   ]
  },
  {
   "cell_type": "code",
   "execution_count": 1,
   "metadata": {
    "collapsed": true
   },
   "outputs": [],
   "source": [
    "# Load required libraries\n",
    "import nltk\n",
    "import requests\n",
    "from bs4 import BeautifulSoup\n",
    "import re\n",
    "import pandas as pd"
   ]
  },
  {
   "cell_type": "markdown",
   "metadata": {},
   "source": [
    "Load extraction and cleanup functions."
   ]
  },
  {
   "cell_type": "code",
   "execution_count": 2,
   "metadata": {
    "collapsed": true
   },
   "outputs": [],
   "source": [
    "def extract_about_project(text):\n",
    "    # Extracts the 'About this project' blurb\n",
    "    return ''.join(re.findall(\n",
    "        r'(?<=About this project).*(?=Risks and challenges)',\n",
    "        text\n",
    "    ))\n",
    "\n",
    "def extract_risks(text):\n",
    "    # Extracts the 'Risks and challenges' blurb\n",
    "    return ''.join(re.findall(\n",
    "        r'(?<=Risks and challenges).*(?=Learn about accountability on Kickstarter)',\n",
    "        text\n",
    "    ))\n",
    "\n",
    "def clean_up(messy_text):    \n",
    "    # Shrinks all whitespace to a single space\n",
    "    clean_text = re.sub(r'\\s+', ' ', messy_text)\n",
    "    \n",
    "    # Removes leading and trailing whitespace\n",
    "    clean_text = re.sub(r'^\\s+|\\s+?$', '', clean_text)\n",
    "    \n",
    "    # Removes the video warning in the scraped content\n",
    "    warning_str = \"You'll need an HTML5 capable browser to see this content. Play Replay with sound Play with sound 00:00 00:00\"\n",
    "    return clean_text.replace(warning_str, '')\n",
    "\n",
    "def extract_content(hyperlink):\n",
    "    # Scrape the HTML content from the website pointed by the hyperlink\n",
    "    doc = requests.get(hyperlink)\n",
    "    soup = BeautifulSoup(doc.text, 'html.parser')\n",
    "    \n",
    "    # Return content all line break markers with a whitespace\n",
    "    return soup.get_text().replace('\\n', ' ')\n",
    "\n",
    "def extract_sections(page_content):    \n",
    "    # Extract and clean up both sections\n",
    "    return (\n",
    "        clean_up(extract_about_project(page_content)), \n",
    "        clean_up(extract_risks(page_content))\n",
    "    )"
   ]
  },
  {
   "cell_type": "markdown",
   "metadata": {},
   "source": [
    "Extract content from a hyperlink."
   ]
  },
  {
   "cell_type": "code",
   "execution_count": 3,
   "metadata": {},
   "outputs": [],
   "source": [
    "hyperlink = 'https://www.kickstarter.com/projects/sbf/sculpto-the-worlds-most-user-friendly-desktop-3d-p'\n",
    "page_content = extract_content(hyperlink)\n",
    "about_project_text, risks_text = extract_sections(page_content)"
   ]
  },
  {
   "cell_type": "markdown",
   "metadata": {},
   "source": [
    "## Define functions to extract features\n",
    "\n",
    "Count the number of sentences in the *About This Project* section."
   ]
  },
  {
   "cell_type": "code",
   "execution_count": 4,
   "metadata": {
    "collapsed": true
   },
   "outputs": [],
   "source": [
    "def tokenize_sentences(text):\n",
    "    # Tokenizes text into sentences and returns them in a list\n",
    "    return nltk.sent_tokenize(text)"
   ]
  },
  {
   "cell_type": "code",
   "execution_count": 5,
   "metadata": {},
   "outputs": [
    {
     "data": {
      "text/plain": [
       "84"
      ]
     },
     "execution_count": 5,
     "metadata": {},
     "output_type": "execute_result"
    }
   ],
   "source": [
    "len(tokenize_sentences(about_project_text))"
   ]
  },
  {
   "cell_type": "markdown",
   "metadata": {},
   "source": [
    "Count the number of all-caps words in the *About This Project* section."
   ]
  },
  {
   "cell_type": "code",
   "execution_count": 6,
   "metadata": {
    "collapsed": true
   },
   "outputs": [],
   "source": [
    "def count_all_caps(text):\n",
    "    # Counts the number of words in all-caps\n",
    "    return len(re.findall(r'[A-Z]{2,}', text))"
   ]
  },
  {
   "cell_type": "code",
   "execution_count": 7,
   "metadata": {},
   "outputs": [
    {
     "data": {
      "text/plain": [
       "8"
      ]
     },
     "execution_count": 7,
     "metadata": {},
     "output_type": "execute_result"
    }
   ],
   "source": [
    "count_all_caps(about_project_text)"
   ]
  },
  {
   "cell_type": "markdown",
   "metadata": {},
   "source": [
    "Count the number of exclamation points in the *About This Project* section."
   ]
  },
  {
   "cell_type": "code",
   "execution_count": 8,
   "metadata": {
    "collapsed": true
   },
   "outputs": [],
   "source": [
    "def count_exclamations(text):\n",
    "    # Counts the number of exclamation marks present in the text\n",
    "    return len(re.findall(r'!', text))"
   ]
  },
  {
   "cell_type": "code",
   "execution_count": 9,
   "metadata": {},
   "outputs": [
    {
     "data": {
      "text/plain": [
       "5"
      ]
     },
     "execution_count": 9,
     "metadata": {},
     "output_type": "execute_result"
    }
   ],
   "source": [
    "count_exclamations(about_project_text)"
   ]
  },
  {
   "cell_type": "markdown",
   "metadata": {},
   "source": [
    "Count the number of words in the *About This Project* section."
   ]
  },
  {
   "cell_type": "code",
   "execution_count": 10,
   "metadata": {
    "collapsed": true
   },
   "outputs": [],
   "source": [
    "def remove_punc(text):\n",
    "    # Returns the text with punctuation removed\n",
    "    return re.sub(r'[^\\w\\d\\s]', '', text)"
   ]
  },
  {
   "cell_type": "code",
   "execution_count": 11,
   "metadata": {
    "collapsed": true
   },
   "outputs": [],
   "source": [
    "def tokenize_words(text):\n",
    "    # Tokenizes text into words and returns them in a list\n",
    "    return nltk.word_tokenize(remove_punc(text))"
   ]
  },
  {
   "cell_type": "code",
   "execution_count": 12,
   "metadata": {
    "scrolled": true
   },
   "outputs": [
    {
     "data": {
      "text/plain": [
       "1664"
      ]
     },
     "execution_count": 12,
     "metadata": {},
     "output_type": "execute_result"
    }
   ],
   "source": [
    "len(tokenize_words(about_project_text))"
   ]
  },
  {
   "cell_type": "markdown",
   "metadata": {},
   "source": [
    "Count the number of words per sentence in the *About This Project* section."
   ]
  },
  {
   "cell_type": "code",
   "execution_count": 13,
   "metadata": {
    "collapsed": true
   },
   "outputs": [],
   "source": [
    "def compute_avg_words(text):\n",
    "    return pd.Series(\n",
    "        [len(tokenize_words(sentence)) for sentence in \\\n",
    "         tokenize_sentences(text)]\n",
    "    ).mean()"
   ]
  },
  {
   "cell_type": "code",
   "execution_count": 14,
   "metadata": {
    "scrolled": false
   },
   "outputs": [
    {
     "data": {
      "text/plain": [
       "19.80952380952381"
      ]
     },
     "execution_count": 14,
     "metadata": {},
     "output_type": "execute_result"
    }
   ],
   "source": [
    "compute_avg_words(about_project_text)"
   ]
  },
  {
   "cell_type": "markdown",
   "metadata": {},
   "source": [
    "## Create a master function for feature engineering\n",
    "\n",
    "Define a function to extract all features given a text section."
   ]
  },
  {
   "cell_type": "code",
   "execution_count": 15,
   "metadata": {
    "collapsed": true
   },
   "outputs": [],
   "source": [
    "def extract_features(text):\n",
    "    # Compute all features and return them in a list\n",
    "    sentence_count = len(tokenize_sentences(text))\n",
    "    all_caps_count = count_all_caps(text)\n",
    "    exclm_count = count_exclamations(text)\n",
    "    word_count = len(tokenize_words(text))\n",
    "    avg_words = compute_avg_words(text)\n",
    "    return [sentence_count, all_caps_count, exclm_count, word_count, avg_words]"
   ]
  },
  {
   "cell_type": "code",
   "execution_count": 16,
   "metadata": {},
   "outputs": [
    {
     "data": {
      "text/plain": [
       "[84, 8, 5, 1664, 19.80952380952381]"
      ]
     },
     "execution_count": 16,
     "metadata": {},
     "output_type": "execute_result"
    }
   ],
   "source": [
    "extract_features(about_project_text)"
   ]
  }
 ],
 "metadata": {
  "kernelspec": {
   "display_name": "Python 3",
   "language": "python",
   "name": "python3"
  },
  "language_info": {
   "codemirror_mode": {
    "name": "ipython",
    "version": 3
   },
   "file_extension": ".py",
   "mimetype": "text/x-python",
   "name": "python",
   "nbconvert_exporter": "python",
   "pygments_lexer": "ipython3",
   "version": "3.6.2"
  }
 },
 "nbformat": 4,
 "nbformat_minor": 2
}
