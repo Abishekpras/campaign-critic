{
 "cells": [
  {
   "cell_type": "markdown",
   "metadata": {},
   "source": [
    "# Feature engineering"
   ]
  },
  {
   "cell_type": "code",
   "execution_count": 1,
   "metadata": {
    "collapsed": true
   },
   "outputs": [],
   "source": [
    "# Load required libraries\n",
    "import nltk\n",
    "import requests\n",
    "from bs4 import BeautifulSoup\n",
    "import re\n",
    "import pandas as pd"
   ]
  },
  {
   "cell_type": "markdown",
   "metadata": {},
   "source": [
    "Load extraction and cleanup functions."
   ]
  },
  {
   "cell_type": "code",
   "execution_count": 2,
   "metadata": {
    "collapsed": true
   },
   "outputs": [],
   "source": [
    "def extract_about_project(text):\n",
    "    # Extracts the 'About this project' blurb\n",
    "    return ''.join(re.findall(\n",
    "        r'(?<=About this project).*(?=Risks and challenges)',\n",
    "        text\n",
    "    ))\n",
    "\n",
    "def extract_risks(text):\n",
    "    # Extracts the 'Risks and challenges' blurb\n",
    "    return ''.join(re.findall(\n",
    "        r'(?<=Risks and challenges).*(?=Learn about accountability on Kickstarter)',\n",
    "        text\n",
    "    ))\n",
    "\n",
    "def clean_up(messy_text):    \n",
    "    # Shrinks all whitespace to a single space\n",
    "    clean_text = re.sub(r'\\s+', ' ', messy_text)\n",
    "    \n",
    "    # Removes leading and trailing whitespace\n",
    "    clean_text = re.sub(r'^\\s+|\\s+?$', '', clean_text)\n",
    "    \n",
    "    # Removes the video warning in the scraped content\n",
    "    warning_str = \"You'll need an HTML5 capable browser to see this content. Play Replay with sound Play with sound 00:00 00:00\"\n",
    "    return clean_text.replace(warning_str, '')\n",
    "\n",
    "def get_soup(hyperlink):\n",
    "    # Scrape the HTML content from the website pointed by the hyperlink\n",
    "    doc = requests.get(hyperlink)\n",
    "    soup = BeautifulSoup(doc.text, 'html.parser')\n",
    "    \n",
    "    # Return content all line break markers with a whitespace\n",
    "    return soup\n",
    "\n",
    "def extract_sections(soup):    \n",
    "    # Extract and clean up both sections\n",
    "    return (\n",
    "        clean_up(extract_about_project(soup.get_text().replace('\\n', ' '))), \n",
    "        clean_up(extract_risks(soup.get_text().replace('\\n', ' ')))\n",
    "    )"
   ]
  },
  {
   "cell_type": "markdown",
   "metadata": {},
   "source": [
    "Extract content from a hyperlink."
   ]
  },
  {
   "cell_type": "code",
   "execution_count": 3,
   "metadata": {},
   "outputs": [],
   "source": [
    "hyperlink = 'https://www.kickstarter.com/projects/sbf/sculpto-the-worlds-most-user-friendly-desktop-3d-p'\n",
    "soup = get_soup(hyperlink)\n",
    "about_project_text, risks_text = extract_sections(soup)"
   ]
  },
  {
   "cell_type": "markdown",
   "metadata": {},
   "source": [
    "## Define functions to extract features\n",
    "\n",
    "Count the number of sentences in the *About This Project* section."
   ]
  },
  {
   "cell_type": "code",
   "execution_count": 4,
   "metadata": {
    "collapsed": true
   },
   "outputs": [],
   "source": [
    "def tokenize_sentences(text):\n",
    "    # Tokenizes text into sentences and returns them in a list\n",
    "    return nltk.sent_tokenize(text)"
   ]
  },
  {
   "cell_type": "code",
   "execution_count": 5,
   "metadata": {},
   "outputs": [
    {
     "data": {
      "text/plain": [
       "84"
      ]
     },
     "execution_count": 5,
     "metadata": {},
     "output_type": "execute_result"
    }
   ],
   "source": [
    "len(tokenize_sentences(about_project_text))"
   ]
  },
  {
   "cell_type": "markdown",
   "metadata": {},
   "source": [
    "Count the number of all-caps words in the *About This Project* section."
   ]
  },
  {
   "cell_type": "code",
   "execution_count": 6,
   "metadata": {
    "collapsed": true
   },
   "outputs": [],
   "source": [
    "def count_all_caps(text):\n",
    "    # Counts the number of words in all-caps\n",
    "    return len(re.findall(r'[A-Z]{2,}', text))"
   ]
  },
  {
   "cell_type": "code",
   "execution_count": 7,
   "metadata": {},
   "outputs": [
    {
     "data": {
      "text/plain": [
       "8"
      ]
     },
     "execution_count": 7,
     "metadata": {},
     "output_type": "execute_result"
    }
   ],
   "source": [
    "count_all_caps(about_project_text)"
   ]
  },
  {
   "cell_type": "markdown",
   "metadata": {},
   "source": [
    "Count the number of exclamation points in the *About This Project* section."
   ]
  },
  {
   "cell_type": "code",
   "execution_count": 8,
   "metadata": {
    "collapsed": true
   },
   "outputs": [],
   "source": [
    "def count_exclamations(text):\n",
    "    # Counts the number of exclamation marks present in the text\n",
    "    return len(re.findall(r'!', text))"
   ]
  },
  {
   "cell_type": "code",
   "execution_count": 9,
   "metadata": {},
   "outputs": [
    {
     "data": {
      "text/plain": [
       "5"
      ]
     },
     "execution_count": 9,
     "metadata": {},
     "output_type": "execute_result"
    }
   ],
   "source": [
    "count_exclamations(about_project_text)"
   ]
  },
  {
   "cell_type": "markdown",
   "metadata": {},
   "source": [
    "Count the number of words in the *About This Project* section."
   ]
  },
  {
   "cell_type": "code",
   "execution_count": 10,
   "metadata": {
    "collapsed": true
   },
   "outputs": [],
   "source": [
    "def remove_punc(text):\n",
    "    # Returns the text with punctuation removed\n",
    "    return re.sub(r'[^\\w\\d\\s]', '', text)"
   ]
  },
  {
   "cell_type": "code",
   "execution_count": 11,
   "metadata": {
    "collapsed": true
   },
   "outputs": [],
   "source": [
    "def tokenize_words(text):\n",
    "    # Tokenizes text into words and returns them in a list\n",
    "    return nltk.word_tokenize(remove_punc(text))"
   ]
  },
  {
   "cell_type": "code",
   "execution_count": 12,
   "metadata": {
    "scrolled": true
   },
   "outputs": [
    {
     "data": {
      "text/plain": [
       "1664"
      ]
     },
     "execution_count": 12,
     "metadata": {},
     "output_type": "execute_result"
    }
   ],
   "source": [
    "len(tokenize_words(about_project_text))"
   ]
  },
  {
   "cell_type": "markdown",
   "metadata": {},
   "source": [
    "Count the number of words per sentence in the *About This Project* section."
   ]
  },
  {
   "cell_type": "code",
   "execution_count": 13,
   "metadata": {
    "collapsed": true
   },
   "outputs": [],
   "source": [
    "def compute_avg_words(text):\n",
    "    return pd.Series(\n",
    "        [len(tokenize_words(sentence)) for sentence in \\\n",
    "         tokenize_sentences(text)]\n",
    "    ).mean()"
   ]
  },
  {
   "cell_type": "code",
   "execution_count": 14,
   "metadata": {},
   "outputs": [
    {
     "data": {
      "text/plain": [
       "19.80952380952381"
      ]
     },
     "execution_count": 14,
     "metadata": {},
     "output_type": "execute_result"
    }
   ],
   "source": [
    "compute_avg_words(about_project_text)"
   ]
  },
  {
   "cell_type": "code",
   "execution_count": 15,
   "metadata": {},
   "outputs": [
    {
     "name": "stdout",
     "output_type": "stream",
     "text": [
      "/\n",
      "#discover_dropdown\n",
      "/login\n",
      "/discover/recommended\n",
      "/discover/popular\n",
      "/discover/places/brooklyn-ny/recommended\n",
      "/discover/categories/art?ref=dropdown\n",
      "/discover/categories/comics?ref=dropdown\n",
      "/discover/categories/crafts?ref=dropdown\n",
      "/discover/categories/dance?ref=dropdown\n",
      "/discover/categories/design?ref=dropdown\n",
      "/discover/categories/fashion?ref=dropdown\n",
      "/discover/categories/film%20&%20video?ref=dropdown\n",
      "/discover/categories/food?ref=dropdown\n",
      "/discover/categories/games?ref=dropdown\n",
      "/discover/categories/journalism?ref=dropdown\n",
      "/discover/categories/music?ref=dropdown\n",
      "/discover/categories/photography?ref=dropdown\n",
      "/discover/categories/publishing?ref=dropdown\n",
      "/discover/categories/technology?ref=dropdown\n",
      "/discover/categories/theater?ref=dropdown\n",
      "/discover/categories/art?ref=dropdown\n",
      "/discover/categories/comics?ref=dropdown\n",
      "/discover/categories/crafts?ref=dropdown\n",
      "/discover/categories/dance?ref=dropdown\n",
      "/discover/categories/design?ref=dropdown\n",
      "/discover/categories/fashion?ref=dropdown\n",
      "/discover/categories/film%20&%20video?ref=dropdown\n",
      "/discover/categories/food?ref=dropdown\n",
      "/discover/categories/games?ref=dropdown\n",
      "/discover/categories/journalism?ref=dropdown\n",
      "/discover/categories/music?ref=dropdown\n",
      "/discover/categories/photography?ref=dropdown\n",
      "/discover/categories/publishing?ref=dropdown\n",
      "/discover/categories/technology?ref=dropdown\n",
      "/discover/categories/theater?ref=dropdown\n",
      "https://twitter.com/intent/tweet?text=Sculpto%2B%3A%20The%20world%27s%20most%20user-friendly%20desktop%203D%20printer%20is%20popular%20on%20%40Kickstarter%21&url=http%3A%2F%2Fkck.st%2F2eABWS4\n",
      "https://www.facebook.com/share.php?u=http%3A%2F%2Fkck.st%2F2iWyiXL&t=Sculpto%2B%3A%20The%20world%27s%20most%20user-friendly%20desktop%203D%20printer&v=4\n",
      "mailto:?body=%0A%20%20%20%20%20%20Sculpto%2B%3A%20The%20world%27s%20most%20user-friendly%20desktop%203D%20printer%0A%0A%20%20%20%20%20%20https%3A%2F%2Fwww.kickstarter.com%2Fprojects%2Fsbf%2Fsculpto-the-worlds-most-user-friendly-desktop-3d-p%0A\n",
      "https://twitter.com/intent/tweet?text=Sculpto%2B%3A%20The%20world%27s%20most%20user-friendly%20desktop%203D%20printer%20is%20popular%20on%20%40Kickstarter%21&url=http%3A%2F%2Fkck.st%2F2eABWS4\n",
      "https://www.facebook.com/share.php?u=http%3A%2F%2Fkck.st%2F2iWyiXL&t=Sculpto%2B%3A%20The%20world%27s%20most%20user-friendly%20desktop%203D%20printer&v=4\n",
      "mailto:?body=%0A%20%20%20%20%20%20Sculpto%2B%3A%20The%20world%27s%20most%20user-friendly%20desktop%203D%20printer%0A%0A%20%20%20%20%20%20https%3A%2F%2Fwww.kickstarter.com%2Fprojects%2Fsbf%2Fsculpto-the-worlds-most-user-friendly-desktop-3d-p%0A\n",
      "/discover/recommended?ref=pwl_badge\n",
      "/discover/categories/technology/3d%20printing?ref=category\n",
      "/discover/places/arhus-dk?ref=city\n",
      "/projects/sbf/sculpto-the-worlds-most-user-friendly-desktop-3d-p/pledge/new?clicked_reward=false&ref=direct\n",
      "/help/faq/kickstarter+basics?ref=project_header#faq_41848\n",
      "/projects/sbf/sculpto-the-worlds-most-user-friendly-desktop-3d-p/creator_bio\n",
      "/projects/sbf/sculpto-the-worlds-most-user-friendly-desktop-3d-p/creator_bio\n",
      "/profile/sbf/created\n",
      "/projects/sbf/sculpto-the-worlds-most-user-friendly-desktop-3d-p/description\n",
      "/discover/recommended?ref=pwl_badge\n",
      "/discover/categories/technology/3d%20printing?ref=category\n",
      "/discover/places/arhus-dk?ref=city\n",
      "/projects/sbf/sculpto-the-worlds-most-user-friendly-desktop-3d-p/pledge/new?clicked_reward=false&ref=direct\n",
      "/help/faq/kickstarter+basics?ref=project_header#faq_41848\n",
      "/projects/sbf/sculpto-the-worlds-most-user-friendly-desktop-3d-p/rewards\n",
      "/projects/sbf/sculpto-the-worlds-most-user-friendly-desktop-3d-p/description\n",
      "/projects/sbf/sculpto-the-worlds-most-user-friendly-desktop-3d-p/faqs\n",
      "/projects/sbf/sculpto-the-worlds-most-user-friendly-desktop-3d-p/updates\n",
      "/projects/sbf/sculpto-the-worlds-most-user-friendly-desktop-3d-p/comments\n",
      "/projects/sbf/sculpto-the-worlds-most-user-friendly-desktop-3d-p/community\n",
      "/projects/sbf/sculpto-the-worlds-most-user-friendly-desktop-3d-p/pledge/new?clicked_reward=false\n",
      "/projects/sbf/sculpto-the-worlds-most-user-friendly-desktop-3d-p/showcase\n",
      "https://sculpto.eu\n",
      "https://sculpto.de\n",
      "https://sculpto.dk\n",
      "/help/faq/kickstarter%20basics#Acco\n",
      "/projects/sbf/sculpto-the-worlds-most-user-friendly-desktop-3d-p/faqs\n",
      "/login?then=%2Fprojects%2Fsbf%2Fsculpto-the-worlds-most-user-friendly-desktop-3d-p\n",
      "/trust?ref=project_reward\n",
      "#\n",
      "/trust?ref=project_reward\n",
      "#\n",
      "/trust?ref=project_reward\n",
      "#\n",
      "/trust?ref=project_reward\n",
      "#\n",
      "/trust?ref=project_reward\n",
      "#\n",
      "/trust?ref=project_reward\n",
      "/about?ref=footer\n",
      "/about?ref=footer\n",
      "/team?ref=footer\n",
      "/impact?ref=footer\n",
      "/jobs?ref=footer\n",
      "/press?ref=footer\n",
      "/help/stats?ref=footer\n",
      "/newsletters?ref=footer\n",
      "/spotlight?ref=footer\n",
      "https://drip.kickstarter.com\n",
      "https://live.kickstarter.com\n",
      "/year/2016?ref=footer\n",
      "/help?ref=footer\n",
      "/help?ref=footer\n",
      "/rules?ref=footer\n",
      "/help/handbook?ref=footer\n",
      "/campus?ref=footer\n",
      "/experts?ref=footer\n",
      "/trust?ref=footer\n",
      "/contact?ref=footer\n",
      "/terms-of-use?ref=footer\n",
      "/privacy?ref=footer\n",
      "/cookies?ref=footer\n",
      "/discover/advanced?ref=footer\n",
      "/discover/categories/art?ref=footer\n",
      "/discover/categories/comics?ref=footer\n",
      "/discover/categories/crafts?ref=footer\n",
      "/discover/categories/dance?ref=footer\n",
      "/discover/categories/design?ref=footer\n",
      "/discover/categories/fashion?ref=footer\n",
      "/discover/categories/film%20&%20video?ref=footer\n",
      "/discover/categories/food?ref=footer\n",
      "/discover/categories/games?ref=footer\n",
      "/discover/categories/journalism?ref=footer\n",
      "/discover/categories/music?ref=footer\n",
      "/discover/categories/photography?ref=footer\n",
      "/discover/categories/publishing?ref=footer\n",
      "/discover/categories/technology?ref=footer\n",
      "/discover/categories/theater?ref=footer\n",
      "/happening?ref=footer\n",
      "/blog?ref=footer\n",
      "/backing-and-hacking?ref=footer\n",
      "https://thecreativeindependent.com\n",
      "/?ref=footer\n",
      "https://twitter.com/kickstarter\n",
      "https://www.facebook.com/Kickstarter\n",
      "http://kickstarter.tumblr.com\n",
      "http://instagram.com/kickstarter\n",
      "https://www.pinterest.com/kickstarter/\n",
      "https://www.youtube.com/user/kickstarter\n"
     ]
    }
   ],
   "source": [
    "for link in soup.find_all('a'):\n",
    "    print(link.get('href'))"
   ]
  },
  {
   "cell_type": "markdown",
   "metadata": {},
   "source": [
    "## Create a master function for feature engineering\n",
    "\n",
    "Define a function to extract all features given a text section."
   ]
  },
  {
   "cell_type": "code",
   "execution_count": 16,
   "metadata": {
    "collapsed": true
   },
   "outputs": [],
   "source": [
    "def extract_features(text):\n",
    "    # Compute all features and return them in a list\n",
    "    sentence_count = len(tokenize_sentences(text))\n",
    "    all_caps_count = count_all_caps(text)\n",
    "    exclm_count = count_exclamations(text)\n",
    "    word_count = len(tokenize_words(text))\n",
    "    avg_words = compute_avg_words(text)\n",
    "    return [sentence_count, all_caps_count, exclm_count, word_count, avg_words]"
   ]
  },
  {
   "cell_type": "code",
   "execution_count": 17,
   "metadata": {},
   "outputs": [
    {
     "data": {
      "text/plain": [
       "[84, 8, 5, 1664, 19.80952380952381]"
      ]
     },
     "execution_count": 17,
     "metadata": {},
     "output_type": "execute_result"
    }
   ],
   "source": [
    "extract_features(about_project_text)"
   ]
  }
 ],
 "metadata": {
  "kernelspec": {
   "display_name": "Python 3",
   "language": "python",
   "name": "python3"
  },
  "language_info": {
   "codemirror_mode": {
    "name": "ipython",
    "version": 3
   },
   "file_extension": ".py",
   "mimetype": "text/x-python",
   "name": "python",
   "nbconvert_exporter": "python",
   "pygments_lexer": "ipython3",
   "version": "3.6.2"
  }
 },
 "nbformat": 4,
 "nbformat_minor": 2
}
