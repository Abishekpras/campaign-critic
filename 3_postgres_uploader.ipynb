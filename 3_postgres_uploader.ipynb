{
 "cells": [
  {
   "cell_type": "markdown",
   "metadata": {},
   "source": [
    "# Uploading data into PostgreSQL\n",
    "\n",
    "**Goal: Load prepared training sets for each campaign section containing meta features, the normalized text, and additional data from the Web Robots database. Next, append the training sets to their respective PostgreSQL databases.**"
   ]
  },
  {
   "cell_type": "code",
   "execution_count": 1,
   "metadata": {
    "collapsed": true
   },
   "outputs": [],
   "source": [
    "# Load required libraries\n",
    "from sqlalchemy import create_engine\n",
    "from sqlalchemy_utils import database_exists, create_database\n",
    "import psycopg2\n",
    "import pandas as pd\n",
    "from sklearn.externals import joblib"
   ]
  },
  {
   "cell_type": "markdown",
   "metadata": {},
   "source": [
    "We'll be adding data into two distinct databases, `section1` and `section2`&mdash;one for each campaign section."
   ]
  },
  {
   "cell_type": "code",
   "execution_count": 2,
   "metadata": {
    "collapsed": true
   },
   "outputs": [],
   "source": [
    "# Set Postgres credentials\n",
    "db_name1 = 'section1_db'\n",
    "db_name2 = 'section2_db'\n",
    "usernm = 'redwan'\n",
    "host = 'localhost'\n",
    "port = '5432'\n",
    "# pwd = '***'"
   ]
  },
  {
   "cell_type": "markdown",
   "metadata": {},
   "source": [
    "Next, let's create a SQLAlchemy engine for both database connections."
   ]
  },
  {
   "cell_type": "code",
   "execution_count": 3,
   "metadata": {
    "collapsed": true
   },
   "outputs": [],
   "source": [
    "# Create engines for both databases\n",
    "engine1 = create_engine(\n",
    "    'postgresql://{}:{}@{}:{}/{}'.format(usernm, pwd, host, port, db_name1)\n",
    ")\n",
    "\n",
    "engine2 = create_engine(\n",
    "    'postgresql://{}:{}@{}:{}/{}'.format(usernm, pwd, host, port, db_name2)\n",
    ")"
   ]
  },
  {
   "cell_type": "markdown",
   "metadata": {},
   "source": [
    "We'll create a database only if it doesn't yet exist."
   ]
  },
  {
   "cell_type": "code",
   "execution_count": 4,
   "metadata": {},
   "outputs": [
    {
     "name": "stdout",
     "output_type": "stream",
     "text": [
      "True True\n"
     ]
    }
   ],
   "source": [
    "# Create a new database for each section if it already does not exist\n",
    "if not database_exists(engine1.url):\n",
    "    create_database(engine1.url)\n",
    "\n",
    "if not database_exists(engine2.url):\n",
    "    create_database(engine2.url)\n",
    "\n",
    "# Display whether the database exists\n",
    "print(database_exists(engine1.url), database_exists(engine2.url) )"
   ]
  },
  {
   "cell_type": "markdown",
   "metadata": {},
   "source": [
    "Let's load the prepared training sets for each campaign section."
   ]
  },
  {
   "cell_type": "code",
   "execution_count": 5,
   "metadata": {
    "collapsed": true
   },
   "outputs": [],
   "source": [
    "# Load DataFrames from pickle files\n",
    "section1_df = joblib.load(\n",
    "    'data/extracted_data/section1_all_features_20000-24558.pkl'\n",
    ")\n",
    "\n",
    "section2_df = joblib.load(\n",
    "    'data/extracted_data/section2_all_features_20000-24558.pkl'\n",
    ")"
   ]
  },
  {
   "cell_type": "markdown",
   "metadata": {},
   "source": [
    "Next, let's upload and append the tables containing the training sets into their respective SQL databases."
   ]
  },
  {
   "cell_type": "code",
   "execution_count": 6,
   "metadata": {
    "collapsed": true
   },
   "outputs": [],
   "source": [
    "# Append data into the corresponding SQL database\n",
    "section1_df.to_sql(\n",
    "    name=db_name1, \n",
    "    con=engine1,\n",
    "    if_exists='append'\n",
    ")\n",
    "\n",
    "section2_df.to_sql(\n",
    "    name=db_name2, \n",
    "    con=engine2,\n",
    "    if_exists='append'\n",
    ")"
   ]
  },
  {
   "cell_type": "markdown",
   "metadata": {},
   "source": [
    "Finally, let's examine if the uploading was successful by querying the entire SQL database for a campaign section."
   ]
  },
  {
   "cell_type": "code",
   "execution_count": 12,
   "metadata": {},
   "outputs": [
    {
     "data": {
      "text/html": [
       "<div>\n",
       "<style>\n",
       "    .dataframe thead tr:only-child th {\n",
       "        text-align: right;\n",
       "    }\n",
       "\n",
       "    .dataframe thead th {\n",
       "        text-align: left;\n",
       "    }\n",
       "\n",
       "    .dataframe tbody tr th {\n",
       "        vertical-align: top;\n",
       "    }\n",
       "</style>\n",
       "<table border=\"1\" class=\"dataframe\">\n",
       "  <thead>\n",
       "    <tr style=\"text-align: right;\">\n",
       "      <th></th>\n",
       "      <th>level_0</th>\n",
       "      <th>index</th>\n",
       "      <th>num_sents</th>\n",
       "      <th>num_words</th>\n",
       "      <th>num_all_caps</th>\n",
       "      <th>percent_all_caps</th>\n",
       "      <th>num_exclms</th>\n",
       "      <th>percent_exclms</th>\n",
       "      <th>num_apple_words</th>\n",
       "      <th>percent_apple_words</th>\n",
       "      <th>...</th>\n",
       "      <th>percent_bolded</th>\n",
       "      <th>normalized_text</th>\n",
       "      <th>name</th>\n",
       "      <th>category</th>\n",
       "      <th>hyperlink</th>\n",
       "      <th>currency</th>\n",
       "      <th>pledged</th>\n",
       "      <th>goal</th>\n",
       "      <th>location</th>\n",
       "      <th>funded</th>\n",
       "    </tr>\n",
       "  </thead>\n",
       "  <tbody>\n",
       "    <tr>\n",
       "      <th>24553</th>\n",
       "      <td>4554</td>\n",
       "      <td>160083</td>\n",
       "      <td>NaN</td>\n",
       "      <td>NaN</td>\n",
       "      <td>NaN</td>\n",
       "      <td>NaN</td>\n",
       "      <td>NaN</td>\n",
       "      <td>NaN</td>\n",
       "      <td>NaN</td>\n",
       "      <td>NaN</td>\n",
       "      <td>...</td>\n",
       "      <td>NaN</td>\n",
       "      <td>None</td>\n",
       "      <td>The Life After (PTSD Poetry)</td>\n",
       "      <td>Poetry</td>\n",
       "      <td>https://www.kickstarter.com/projects/clay12b/p...</td>\n",
       "      <td>USD</td>\n",
       "      <td>200.00</td>\n",
       "      <td>10000.0</td>\n",
       "      <td>Cincinnati, OH</td>\n",
       "      <td>False</td>\n",
       "    </tr>\n",
       "    <tr>\n",
       "      <th>24554</th>\n",
       "      <td>4555</td>\n",
       "      <td>83744</td>\n",
       "      <td>3.0</td>\n",
       "      <td>67.0</td>\n",
       "      <td>0.0</td>\n",
       "      <td>0.0</td>\n",
       "      <td>0.0</td>\n",
       "      <td>0.000000</td>\n",
       "      <td>0.0</td>\n",
       "      <td>0.0</td>\n",
       "      <td>...</td>\n",
       "      <td>0.0</td>\n",
       "      <td>Biggest obstacle is people being skeptical of ...</td>\n",
       "      <td>Protein Pacs.  SAY GOOD-BYE to Annoying TUBS!!!!!</td>\n",
       "      <td>Drinks</td>\n",
       "      <td>https://www.kickstarter.com/projects/519818862...</td>\n",
       "      <td>USD</td>\n",
       "      <td>2.00</td>\n",
       "      <td>12000.0</td>\n",
       "      <td>San Marcos, TX</td>\n",
       "      <td>False</td>\n",
       "    </tr>\n",
       "    <tr>\n",
       "      <th>24555</th>\n",
       "      <td>4556</td>\n",
       "      <td>92726</td>\n",
       "      <td>5.0</td>\n",
       "      <td>97.0</td>\n",
       "      <td>0.0</td>\n",
       "      <td>0.0</td>\n",
       "      <td>0.0</td>\n",
       "      <td>0.000000</td>\n",
       "      <td>0.0</td>\n",
       "      <td>0.0</td>\n",
       "      <td>...</td>\n",
       "      <td>0.0</td>\n",
       "      <td>The largest, and almost single entity, that is...</td>\n",
       "      <td>Billionaire Chronicles: A Family Affair That N...</td>\n",
       "      <td>Mobile Games</td>\n",
       "      <td>https://www.kickstarter.com/projects/171479360...</td>\n",
       "      <td>USD</td>\n",
       "      <td>956.00</td>\n",
       "      <td>30000.0</td>\n",
       "      <td>Roseville, CA</td>\n",
       "      <td>False</td>\n",
       "    </tr>\n",
       "    <tr>\n",
       "      <th>24556</th>\n",
       "      <td>4557</td>\n",
       "      <td>126291</td>\n",
       "      <td>13.0</td>\n",
       "      <td>212.0</td>\n",
       "      <td>0.0</td>\n",
       "      <td>0.0</td>\n",
       "      <td>2.0</td>\n",
       "      <td>0.009434</td>\n",
       "      <td>0.0</td>\n",
       "      <td>0.0</td>\n",
       "      <td>...</td>\n",
       "      <td>0.0</td>\n",
       "      <td>We have a great event location, a really solid...</td>\n",
       "      <td>Preserving Jazz...</td>\n",
       "      <td>Jazz</td>\n",
       "      <td>https://www.kickstarter.com/projects/347067171...</td>\n",
       "      <td>USD</td>\n",
       "      <td>0.00</td>\n",
       "      <td>5000.0</td>\n",
       "      <td>Birmingham, AL</td>\n",
       "      <td>False</td>\n",
       "    </tr>\n",
       "    <tr>\n",
       "      <th>24557</th>\n",
       "      <td>4558</td>\n",
       "      <td>128592</td>\n",
       "      <td>NaN</td>\n",
       "      <td>NaN</td>\n",
       "      <td>NaN</td>\n",
       "      <td>NaN</td>\n",
       "      <td>NaN</td>\n",
       "      <td>NaN</td>\n",
       "      <td>NaN</td>\n",
       "      <td>NaN</td>\n",
       "      <td>...</td>\n",
       "      <td>NaN</td>\n",
       "      <td>None</td>\n",
       "      <td>Bucket of Honey's First Full Length Album</td>\n",
       "      <td>Pop</td>\n",
       "      <td>https://www.kickstarter.com/projects/213894853...</td>\n",
       "      <td>USD</td>\n",
       "      <td>5342.32</td>\n",
       "      <td>5000.0</td>\n",
       "      <td>Seattle, WA</td>\n",
       "      <td>True</td>\n",
       "    </tr>\n",
       "  </tbody>\n",
       "</table>\n",
       "<p>5 rows × 30 columns</p>\n",
       "</div>"
      ],
      "text/plain": [
       "       level_0   index  num_sents  num_words  num_all_caps  percent_all_caps  \\\n",
       "24553     4554  160083        NaN        NaN           NaN               NaN   \n",
       "24554     4555   83744        3.0       67.0           0.0               0.0   \n",
       "24555     4556   92726        5.0       97.0           0.0               0.0   \n",
       "24556     4557  126291       13.0      212.0           0.0               0.0   \n",
       "24557     4558  128592        NaN        NaN           NaN               NaN   \n",
       "\n",
       "       num_exclms  percent_exclms  num_apple_words  percent_apple_words  \\\n",
       "24553         NaN             NaN              NaN                  NaN   \n",
       "24554         0.0        0.000000              0.0                  0.0   \n",
       "24555         0.0        0.000000              0.0                  0.0   \n",
       "24556         2.0        0.009434              0.0                  0.0   \n",
       "24557         NaN             NaN              NaN                  NaN   \n",
       "\n",
       "        ...    percent_bolded  \\\n",
       "24553   ...               NaN   \n",
       "24554   ...               0.0   \n",
       "24555   ...               0.0   \n",
       "24556   ...               0.0   \n",
       "24557   ...               NaN   \n",
       "\n",
       "                                         normalized_text  \\\n",
       "24553                                               None   \n",
       "24554  Biggest obstacle is people being skeptical of ...   \n",
       "24555  The largest, and almost single entity, that is...   \n",
       "24556  We have a great event location, a really solid...   \n",
       "24557                                               None   \n",
       "\n",
       "                                                    name      category  \\\n",
       "24553                       The Life After (PTSD Poetry)        Poetry   \n",
       "24554  Protein Pacs.  SAY GOOD-BYE to Annoying TUBS!!!!!        Drinks   \n",
       "24555  Billionaire Chronicles: A Family Affair That N...  Mobile Games   \n",
       "24556                                 Preserving Jazz...          Jazz   \n",
       "24557          Bucket of Honey's First Full Length Album           Pop   \n",
       "\n",
       "                                               hyperlink  currency  pledged  \\\n",
       "24553  https://www.kickstarter.com/projects/clay12b/p...       USD   200.00   \n",
       "24554  https://www.kickstarter.com/projects/519818862...       USD     2.00   \n",
       "24555  https://www.kickstarter.com/projects/171479360...       USD   956.00   \n",
       "24556  https://www.kickstarter.com/projects/347067171...       USD     0.00   \n",
       "24557  https://www.kickstarter.com/projects/213894853...       USD  5342.32   \n",
       "\n",
       "          goal        location  funded  \n",
       "24553  10000.0  Cincinnati, OH   False  \n",
       "24554  12000.0  San Marcos, TX   False  \n",
       "24555  30000.0   Roseville, CA   False  \n",
       "24556   5000.0  Birmingham, AL   False  \n",
       "24557   5000.0     Seattle, WA    True  \n",
       "\n",
       "[5 rows x 30 columns]"
      ]
     },
     "execution_count": 12,
     "metadata": {},
     "output_type": "execute_result"
    }
   ],
   "source": [
    "# Connect to a database\n",
    "con1 = psycopg2.connect(\n",
    "    database=db_name1, \n",
    "    host='localhost',\n",
    "    user=usernm,\n",
    "    password=pwd\n",
    ")\n",
    "\n",
    "# Define a SQL query to load a section\n",
    "sql_query = \"\"\"\n",
    "SELECT * \n",
    "  FROM section1_db;\n",
    "\"\"\"\n",
    "\n",
    "# Perform SQL query and store results in a DataFrame\n",
    "test_data_from_sql = pd.read_sql_query(sql_query, con1)\n",
    "\n",
    "# Display the first five rows\n",
    "test_data_from_sql.tail()"
   ]
  },
  {
   "cell_type": "markdown",
   "metadata": {},
   "source": [
    "We can read in the data from the database. Let's see how many entires this database has."
   ]
  },
  {
   "cell_type": "code",
   "execution_count": 8,
   "metadata": {
    "scrolled": true
   },
   "outputs": [
    {
     "data": {
      "text/plain": [
       "24558"
      ]
     },
     "execution_count": 8,
     "metadata": {},
     "output_type": "execute_result"
    }
   ],
   "source": [
    "# Display the number of entries in the dataset\n",
    "len(test_data_from_sql)"
   ]
  },
  {
   "cell_type": "markdown",
   "metadata": {},
   "source": [
    "Finally, let's examine the database information."
   ]
  },
  {
   "cell_type": "code",
   "execution_count": 9,
   "metadata": {},
   "outputs": [
    {
     "name": "stdout",
     "output_type": "stream",
     "text": [
      "<class 'pandas.core.frame.DataFrame'>\n",
      "RangeIndex: 24558 entries, 0 to 24557\n",
      "Data columns (total 30 columns):\n",
      "level_0                    24558 non-null int64\n",
      "index                      24558 non-null int64\n",
      "num_sents                  24527 non-null float64\n",
      "num_words                  24444 non-null float64\n",
      "num_all_caps               24527 non-null float64\n",
      "percent_all_caps           24444 non-null float64\n",
      "num_exclms                 24527 non-null float64\n",
      "percent_exclms             24444 non-null float64\n",
      "num_apple_words            24527 non-null float64\n",
      "percent_apple_words        24444 non-null float64\n",
      "avg_words_per_sent         24447 non-null float64\n",
      "num_paragraphs             24527 non-null float64\n",
      "avg_sents_per_paragraph    24116 non-null float64\n",
      "avg_words_per_paragraph    24116 non-null float64\n",
      "num_images                 24527 non-null float64\n",
      "num_videos                 24527 non-null float64\n",
      "num_youtubes               24527 non-null float64\n",
      "num_gifs                   24527 non-null float64\n",
      "num_hyperlinks             24527 non-null float64\n",
      "num_bolded                 24527 non-null float64\n",
      "percent_bolded             24444 non-null float64\n",
      "normalized_text            24527 non-null object\n",
      "name                       24558 non-null object\n",
      "category                   24558 non-null object\n",
      "hyperlink                  24558 non-null object\n",
      "currency                   24558 non-null object\n",
      "pledged                    24558 non-null float64\n",
      "goal                       24558 non-null float64\n",
      "location                   24421 non-null object\n",
      "funded                     24558 non-null bool\n",
      "dtypes: bool(1), float64(21), int64(2), object(6)\n",
      "memory usage: 5.5+ MB\n"
     ]
    }
   ],
   "source": [
    "# Display DataFrame information\n",
    "test_data_from_sql.info()"
   ]
  }
 ],
 "metadata": {
  "kernelspec": {
   "display_name": "Python 3",
   "language": "python",
   "name": "python3"
  },
  "language_info": {
   "codemirror_mode": {
    "name": "ipython",
    "version": 3
   },
   "file_extension": ".py",
   "mimetype": "text/x-python",
   "name": "python",
   "nbconvert_exporter": "python",
   "pygments_lexer": "ipython3",
   "version": "3.6.2"
  }
 },
 "nbformat": 4,
 "nbformat_minor": 2
}
