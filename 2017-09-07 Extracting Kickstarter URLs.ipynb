{
 "cells": [
  {
   "cell_type": "code",
   "execution_count": 53,
   "metadata": {
    "collapsed": true
   },
   "outputs": [],
   "source": [
    "# Load the required libraries\n",
    "import pandas as pd\n",
    "import numpy as np\n",
    "import re\n",
    "from sklearn.externals import joblib"
   ]
  },
  {
   "cell_type": "code",
   "execution_count": 49,
   "metadata": {
    "collapsed": true
   },
   "outputs": [],
   "source": [
    "# Initalize an empty DataFrame\n",
    "df = pd.DataFrame(columns=['name', 'hyperlink', 'pledged', 'goal'])"
   ]
  },
  {
   "cell_type": "code",
   "execution_count": 50,
   "metadata": {},
   "outputs": [],
   "source": [
    "filename = '/mnt/c/Users/Redwan Huq/Downloads/Kickstarter_2016-05-15T02_04_46_813Z.json'\n",
    "\n",
    "# Open the file and load data into a DataFrame\n",
    "with open(filename, encoding='utf8') as file:\n",
    "    for index in range(2900):\n",
    "        # Identify the project name\n",
    "        entry = file.readline()\n",
    "        df.loc[index, 'name'] = re.search(\n",
    "            r'(?<=\"name\": \").*?(?=\")', entry\n",
    "        ).group(0)\n",
    "        \n",
    "        # Identify the project hyperlink\n",
    "        df.loc[index, 'hyperlink'] = re.search(\n",
    "            r'(?<=\"urls\": \\{\"web\": \\{\"project\": \").*?(?=\")', entry\n",
    "        ).group(0)\n",
    "\n",
    "        # Identify the total pledged amount\n",
    "        df.loc[index, 'pledged'] = re.search(\n",
    "            r'(?<=\"pledged\": ).*?(?=,)', entry\n",
    "        ).group(0)\n",
    "        \n",
    "        # Identify the project goal amount\n",
    "        df.loc[index, 'goal'] = re.search(\n",
    "            r'(?<=\"goal\": ).*?(?=,)', entry\n",
    "        ).group(0)"
   ]
  },
  {
   "cell_type": "code",
   "execution_count": 51,
   "metadata": {},
   "outputs": [
    {
     "name": "stdout",
     "output_type": "stream",
     "text": [
      "<class 'pandas.core.frame.DataFrame'>\n",
      "Int64Index: 2900 entries, 0 to 2899\n",
      "Data columns (total 5 columns):\n",
      "name         2900 non-null object\n",
      "hyperlink    2900 non-null object\n",
      "pledged      2900 non-null float64\n",
      "goal         2900 non-null float64\n",
      "funded       2900 non-null bool\n",
      "dtypes: bool(1), float64(2), object(2)\n",
      "memory usage: 196.1+ KB\n"
     ]
    }
   ],
   "source": [
    "# Convert pledged and goal columns from strings to numeric variables\n",
    "df['pledged'] = pd.to_numeric(df['pledged'])\n",
    "df['goal'] = pd.to_numeric(df['goal'])\n",
    "\n",
    "# Define a new column that determines whether the project was funded\n",
    "df['funded'] = df['pledged'] > df['goal']\n",
    "df.info()"
   ]
  },
  {
   "cell_type": "code",
   "execution_count": 52,
   "metadata": {},
   "outputs": [
    {
     "data": {
      "text/plain": [
       "['extracted_data.pkl']"
      ]
     },
     "execution_count": 52,
     "metadata": {},
     "output_type": "execute_result"
    }
   ],
   "source": [
    "joblib.dump(df, 'extracted_data.pkl')"
   ]
  },
  {
   "cell_type": "code",
   "execution_count": 29,
   "metadata": {},
   "outputs": [
    {
     "data": {
      "text/plain": [
       "'https://www.kickstarter.com/projects/243406575/snowjob-burning-man-art-car-fundraiser?ref=category'"
      ]
     },
     "execution_count": 29,
     "metadata": {},
     "output_type": "execute_result"
    }
   ],
   "source": [
    "df.loc[4, 'hyperlink']"
   ]
  },
  {
   "cell_type": "code",
   "execution_count": 47,
   "metadata": {},
   "outputs": [
    {
     "data": {
      "text/plain": [
       "'https://www.kickstarter.com/projects/1564699662/12-month-residency?ref=category'"
      ]
     },
     "execution_count": 47,
     "metadata": {},
     "output_type": "execute_result"
    }
   ],
   "source": [
    "df.loc[2]['hyperlink']"
   ]
  }
 ],
 "metadata": {
  "kernelspec": {
   "display_name": "Python 3",
   "language": "python",
   "name": "python3"
  },
  "language_info": {
   "codemirror_mode": {
    "name": "ipython",
    "version": 3
   },
   "file_extension": ".py",
   "mimetype": "text/x-python",
   "name": "python",
   "nbconvert_exporter": "python",
   "pygments_lexer": "ipython3",
   "version": "3.6.2"
  }
 },
 "nbformat": 4,
 "nbformat_minor": 2
}
