{
 "cells": [
  {
   "cell_type": "markdown",
   "metadata": {},
   "source": [
    "# 1. Scraping text from a Kickstarter page\n",
    "\n",
    "Load required libraries."
   ]
  },
  {
   "cell_type": "code",
   "execution_count": 18,
   "metadata": {
    "collapsed": true
   },
   "outputs": [],
   "source": [
    "import nltk\n",
    "import requests\n",
    "from bs4 import BeautifulSoup\n",
    "import re\n",
    "import pandas as pd"
   ]
  },
  {
   "cell_type": "markdown",
   "metadata": {},
   "source": [
    "Select a test hyperlink."
   ]
  },
  {
   "cell_type": "code",
   "execution_count": 19,
   "metadata": {
    "collapsed": true
   },
   "outputs": [],
   "source": [
    "hyperlink = 'https://www.kickstarter.com/projects/636921542/mobile-phone-cup-holder-dock-and-stand-apple-and-a?ref=category'"
   ]
  },
  {
   "cell_type": "markdown",
   "metadata": {},
   "source": [
    "Scrape the HTML content from the website pointed by the hyperlink."
   ]
  },
  {
   "cell_type": "code",
   "execution_count": 20,
   "metadata": {
    "collapsed": true
   },
   "outputs": [],
   "source": [
    "doc = requests.get(hyperlink)\n",
    "soup = BeautifulSoup(doc.text, 'html.parser')"
   ]
  },
  {
   "cell_type": "markdown",
   "metadata": {},
   "source": [
    "Replace all line break markers with a whitespace."
   ]
  },
  {
   "cell_type": "code",
   "execution_count": 21,
   "metadata": {
    "collapsed": true
   },
   "outputs": [],
   "source": [
    "parsed_text = soup.get_text().replace('\\n', ' ')"
   ]
  },
  {
   "cell_type": "markdown",
   "metadata": {},
   "source": [
    "Define functions to extract information on the two main sections: *About This Project* and *Risks and Challenges*."
   ]
  },
  {
   "cell_type": "code",
   "execution_count": 22,
   "metadata": {
    "collapsed": true
   },
   "outputs": [],
   "source": [
    "def extract_about_project(text):\n",
    "    # Extracts the 'About this project' blurb\n",
    "    return ''.join(re.findall(\n",
    "        r'(?<=About this project).*(?=Risks and challenges)',\n",
    "        text\n",
    "    ))"
   ]
  },
  {
   "cell_type": "code",
   "execution_count": 23,
   "metadata": {
    "collapsed": true
   },
   "outputs": [],
   "source": [
    "def extract_risks(text):\n",
    "    # Extracts the 'Risks and challenges' blurb\n",
    "    return ''.join(re.findall(\n",
    "        r'(?<=Risks and challenges).*(?=Learn about accountability on Kickstarter)',\n",
    "        text\n",
    "    ))"
   ]
  },
  {
   "cell_type": "markdown",
   "metadata": {},
   "source": [
    "Define a function to clean up the extracted sections."
   ]
  },
  {
   "cell_type": "code",
   "execution_count": 24,
   "metadata": {
    "collapsed": true
   },
   "outputs": [],
   "source": [
    "def clean_up(messy_text):    \n",
    "    # Shrinks all whitespace to a single space\n",
    "    clean_text = re.sub(r'\\s+', ' ', messy_text)\n",
    "    \n",
    "    # Removes leading and trailing whitespace\n",
    "    clean_text = re.sub(r'^\\s+|\\s+?$', '', clean_text)\n",
    "    \n",
    "    # Removes the video warning in the scraped content\n",
    "    warning_str = \"You'll need an HTML5 capable browser to see this content. Play Replay with sound Play with sound 00:00 00:00\"\n",
    "    return clean_text.replace(warning_str, '')"
   ]
  },
  {
   "cell_type": "markdown",
   "metadata": {},
   "source": [
    "Test the above functions on `parsed_text`."
   ]
  },
  {
   "cell_type": "code",
   "execution_count": 25,
   "metadata": {
    "scrolled": true
   },
   "outputs": [
    {
     "data": {
      "text/plain": [
       "'The first and only vehicle cup holder mobile phone dock and stand. This dock and stand is very easy to use with just one hand, no more getting in the vehicle and have to find your charging or syncing cord then plug in and put your phone on your seat or your lap only to have to turn sharply or break and your phone slides in the crevice of the seat or the floor, no more getting a call and cannot find your phone, with the mount you simply get in and drop your phone on the mount and it stays put and where you can always see the display, once docked the phone charges and connects to your stereo.'"
      ]
     },
     "execution_count": 25,
     "metadata": {},
     "output_type": "execute_result"
    }
   ],
   "source": [
    "clean_up(extract_about_project(parsed_text))"
   ]
  },
  {
   "cell_type": "code",
   "execution_count": 26,
   "metadata": {
    "scrolled": true
   },
   "outputs": [
    {
     "data": {
      "text/plain": [
       "'Only risks could be timing issues from obtaining parts.'"
      ]
     },
     "execution_count": 26,
     "metadata": {},
     "output_type": "execute_result"
    }
   ],
   "source": [
    "clean_up(extract_risks(parsed_text))"
   ]
  },
  {
   "cell_type": "markdown",
   "metadata": {},
   "source": [
    "Test the extraction functions on a more lengthy Kickstarter page."
   ]
  },
  {
   "cell_type": "code",
   "execution_count": 27,
   "metadata": {
    "collapsed": true
   },
   "outputs": [],
   "source": [
    "hyperlink = 'https://www.kickstarter.com/projects/sbf/sculpto-the-worlds-most-user-friendly-desktop-3d-p?ref=recommended'"
   ]
  },
  {
   "cell_type": "code",
   "execution_count": 28,
   "metadata": {
    "collapsed": true
   },
   "outputs": [],
   "source": [
    "doc = requests.get(hyperlink)\n",
    "soup = BeautifulSoup(doc.text, 'html.parser')\n",
    "parsed_text = soup.get_text().replace('\\n', ' ')"
   ]
  },
  {
   "cell_type": "code",
   "execution_count": 29,
   "metadata": {
    "scrolled": true
   },
   "outputs": [
    {
     "data": {
      "text/plain": [
       "\"3D printers are one of the coolest and most efficient ways for you to make your ideas go from the drawing board and into real life.Two years ago we launched a new type of 3D printer on Kickstarter. We wanted to make the amazing world of 3D printing available to everyone - not just engineers and tech-savvy people. We believe everyone should be able to bring their ideas to life. We started delivering that dream a year ago and opened a world of 3D printing for regular people and schools all over Denmark. Since then we have refined our production and software while developing Sculpto+The result is a small 3D printer with one of the biggest print areas seen on a plug'n'play printer. We have maximized printing performance while eliminating the noise and inconveniences of 3D printing - we have made the perfect desktop 3D printer. And the best part: Everyone can use it! Sculpto+ is a small 3D printer. It only weighs 2.7 KG and is about the size of your household coffeemaker, but has a printing volume of 5 liters! You can print objects at the size of a football (Soccer)! If you compare the build volume of Sculpto+ to other consumer printers in the same category and price range you will discover the print volume of Sculpto+ is up to 5 times bigger. Thanks to the compact design and the built-in handle the printer can easily be moved from room to room or house to house without any trouble. Meeting our current users' expectations we have developed the Sculpto+ to be close to soundless when printing. Now you can only hear the fan of the printer during the printing process. We have reduced the sound level to 44-47 dB during a print. This is about the same as the background noise in a normal town house. In other words, you can place Sculpto+ wherever you want without having to worry about the noise. The Sculpto+ delivers a really nice finish. The Sculpto App allows you to choose between the settings 'fine', 'normal' and 'fast' so you can adjust the printing time and resolution to your needs. Regardless of your choice the Sculpto+ delivers high level 3D prints out of the box thanks to our automated slicer-software - that takes care of the difficult trimmings and settings. When you have a 3D printer you also need some nice things to print. That's why you can browse between a selection of cool models that can be printed directly from the Sculpto App to your Sculpto+ 3D printer. It's easy and convenient. You can download the app on Google Play and App Store or you can access the printer directly from your browser via our web app. We are currently in the process of developing the app into a new and improved version where our upcoming 'model engine' will collect quality content from Thingiverse and present it to you in a even more user-friendly way. You can look forward to receiving a product that keeps getting better as we push new updates with cool features and improvements. The Sculpto+ also allows you to print your own inventions. And we made that very easy too. Just choose your STL-file (that you've designed in any given 3D modelling program), select your preferred quality, support-structure and strength of the object. Then our cloud-based slicer will prepare the model for 3D printing! 3D printing on an ordinary 3D printer often involves cables and SD cards. We have made the integration completely Wi-Fi driven which means that you can print directly from your preferred devices. You can print via your mobile devices, via our iOS or Android app or print from your computer via our web app. The printer also has a build-in-memory, so should your Wi-Fi connection fail during a print, the Sculpto+ will still finish the job.Another cool thing about wireless printing is that you can monitor the process of your print even when you're not home and once the print is finished the Sculpto App will simply send you a push-message, so you know it'a time to go start your next print. The Sculpto 3D printer prints with a plastic filament called PLA - it is made of corn and is biodegradable. Sculpto manufactures quality filament at competitive prices to ensure the best success rate and a long lifetime of your Sculpto+. Sculpto PLA is a sturdy plastic that can withstand a lot of stress, force and weather. Remember to buy extra filament with your Sculpto+. There will not be added extra shipping cost. You will be able to choose between 20 colors once the campaign ends. Prices can be found under the 'Reward' section.  Of course the 6 handsome guys in the video did not do it alone. We also want to make a big shout-out to the other employees at Sculpto, our board, our business partners, our resellers and last but definitely not least all our great users and the communities that has evolved around Sculpto. If Kickstarter is new to you and you have problems making your pledge, then don't hesitate to contact us. We can be contacted via e-mail, chat and phone and are ready to help you. We speak German, English and Danish. You can find our contact information at https://sculpto.eu (English) / https://sculpto.de (German) / https://sculpto.dk (Danish). One of the amazing things about the Sculpto+ is our software. Making a compact, quality 3D printer is actually only half the job. In order to make 3D printing for everyone we have taken things such as slicing, G-code and fine-tuning and either simplified it or made it invisible to the user. Whether you're printing models directly from the Sculpto App our you print your own STL-files we have made sure it's hassle-free! A good building platform is key to a successful print. You do not want your object to fall of the buildplate before the printer has finished. Therefore the buildplate of Sculpto+ is mounted with Buildtak which in combination with an efficient raft and high temperature first layer ensures that the print is as glued to the buildplate. When the print is finished then flex the buildplate and use a spatula to remove the object. With help from Techpeople (A daughter company of Datarespons) we have developed and implemented S-curve on the Sculpto+ firmware which has many advantages. It makes the printer able to go faster, it increase the success rate of printing by reducing jerk and it generally helps with a smoother and better 3D printing experience. We have spent a lot of hours on developing custom electronics for the Sculpto+ and the cool thing about that is that we have been able to decide exactly which components should be on the electronics. One of the two most significant upgrades of the Sculpto+ electronics are our new and very efficient micro-stepping motor controllers. This is a part of the reason for why the printer is so soundless while printing. The new motor-controllers also ensure a more stable 3D printing experience by having more strength while reducing heat. The second upgrade is more accurate and stable probes for making sure that calibration is kept to an absolute minimum. The Sculpto 3D printer and the Sculpto+ are the only two bi-polar 3D printers on the global market. What does this mean? First of all it means that the printer works in a different coordinate system than other printers. The power of the bipolar coordinate system is that it makes the Sculpto+ a very compact and lightweight printer. The Sculpto+ can basically print objects that are close to the size of the actual machine. The second advantage is it takes fewer parts to build the machine. This help us to reduce the manufacturing cost but at the same time leaves space for quality components such as the E3D hotend in the printer and the Buildtak buildplate. Are there any downsides to a bipolar 3D printer? In a diameter of 1 - 2 mm crossing the center of the building area the precision is smaller than on the rest of the cylindrical building area due to the fact that the arm of the printer - in theory - should accelerate to infinite speed when printing in dead center. But by implementing S-curve acceleration and optimizing our mechanical production methods we have been able to reduce the distortion in center to a point where it does not cause issues and are almost not visible on the finished 3D printed object.  One of the things that makes Sculpto+ great is the parts it's made of. To ensure good quality and stable manufacturing we are using some of the best parts within the 3D printing industry. As mentioned before we're using the popular E3D hotend with a silicone sleeve. We're using Buildtak for 3D printing surface. Most of the plastic parts on the printer are manufactured in our 5 injection molds which we have been trimming for the last year while producing our previous Sculpto. This also means that we now have an extremely high accuracy on the printer's mechanics which is really important in a polar printer. We have dedicated a lot of effort into making sure as much of the production setup will be ready prior to launching our campaign to make sure that we can ship as many Sculpto+ units before Christmas as possible. For more specifications feel free to ask us. In these 3 videos we will demonstrate how far we actually are with the development of the Sculpto+. In the videos we're using production prototypes - this means they are manufactured in a similar way to the final product. The software and firmware on the prototypes are still in development, so the quality will probably be even better on the final product than what is seen in the videos.  Demonstration of the Sculpto iOS App operating the Sculpto+  Timelapse and video of 3 prototypes printing rather big objects  Timelapse of Sculpto+ printing a 3D benchy (test model) in 'Fine' and 'Normal' resolution.\""
      ]
     },
     "execution_count": 29,
     "metadata": {},
     "output_type": "execute_result"
    }
   ],
   "source": [
    "about_project_text = clean_up(extract_about_project(parsed_text))\n",
    "about_project_text"
   ]
  },
  {
   "cell_type": "code",
   "execution_count": 30,
   "metadata": {},
   "outputs": [
    {
     "data": {
      "text/plain": [
       "\"The development of the Sculpto+ is almost finalized. Due to the fact that we are already manufacturing our previous Sculpto 3D printer - with a lot similarities to the Sculpto+ and have printers operating in private homes, schools and institutions all over Denmark we are very confident we can bring the Sculpto+ to production. The past 4 months we have been testing 3 stages of different prototypes and are now testing 10 production prototypes that are manufactured in a similar way to the final product. Our results have been amazing and we truly believe this 3D printer and the upgraded app will be a game-changer within 3D printing for consumers and educational use. Take a look at our 'prototype gallery' to see more. We have already started lining the production up and believe it is realistic to deliver all or a big part (Depending on the Kickstarters outcome) of the Sculpto+ 3D printers before Christmas.\""
      ]
     },
     "execution_count": 30,
     "metadata": {},
     "output_type": "execute_result"
    }
   ],
   "source": [
    "risks_text = clean_up(extract_risks(parsed_text))\n",
    "risks_text"
   ]
  },
  {
   "cell_type": "markdown",
   "metadata": {},
   "source": [
    "# 2. Feature engineering\n",
    "\n",
    "## Define functions to extract features\n",
    "\n",
    "Count the number of sentences in the *About This Project* section."
   ]
  },
  {
   "cell_type": "code",
   "execution_count": 33,
   "metadata": {
    "collapsed": true
   },
   "outputs": [],
   "source": [
    "def tokenize_sentences(text):\n",
    "    # Tokenizes text into sentences and returns them in a list\n",
    "    return nltk.sent_tokenize(text)"
   ]
  },
  {
   "cell_type": "code",
   "execution_count": 34,
   "metadata": {},
   "outputs": [
    {
     "data": {
      "text/plain": [
       "84"
      ]
     },
     "execution_count": 34,
     "metadata": {},
     "output_type": "execute_result"
    }
   ],
   "source": [
    "len(tokenize_sentences(about_project_text))"
   ]
  },
  {
   "cell_type": "markdown",
   "metadata": {},
   "source": [
    "Count the number of all-caps words in the *About This Project* section."
   ]
  },
  {
   "cell_type": "code",
   "execution_count": 35,
   "metadata": {
    "collapsed": true
   },
   "outputs": [],
   "source": [
    "def count_all_caps(text):\n",
    "    # Counts the number of words in all-caps\n",
    "    return len(re.findall(r'[A-Z]{2,}', text))"
   ]
  },
  {
   "cell_type": "code",
   "execution_count": 36,
   "metadata": {},
   "outputs": [
    {
     "data": {
      "text/plain": [
       "8"
      ]
     },
     "execution_count": 36,
     "metadata": {},
     "output_type": "execute_result"
    }
   ],
   "source": [
    "count_all_caps(about_project_text)"
   ]
  },
  {
   "cell_type": "markdown",
   "metadata": {},
   "source": [
    "Count the number of exclamation points in the *About This Project* section."
   ]
  },
  {
   "cell_type": "code",
   "execution_count": 39,
   "metadata": {
    "collapsed": true
   },
   "outputs": [],
   "source": [
    "def count_exclamations(text):\n",
    "    # Counts the number of exclamation marks present in the text\n",
    "    return len(re.findall(r'!', text))"
   ]
  },
  {
   "cell_type": "code",
   "execution_count": 41,
   "metadata": {},
   "outputs": [
    {
     "data": {
      "text/plain": [
       "5"
      ]
     },
     "execution_count": 41,
     "metadata": {},
     "output_type": "execute_result"
    }
   ],
   "source": [
    "count_exclamations(about_project_text)"
   ]
  },
  {
   "cell_type": "markdown",
   "metadata": {},
   "source": [
    "Count the number of words in the *About This Project* section."
   ]
  },
  {
   "cell_type": "code",
   "execution_count": 42,
   "metadata": {
    "collapsed": true
   },
   "outputs": [],
   "source": [
    "def remove_punc(text):\n",
    "    # Returns the text with punctuation removed\n",
    "    return re.sub(r'[^\\w\\d\\s]', '', text)"
   ]
  },
  {
   "cell_type": "code",
   "execution_count": 43,
   "metadata": {
    "collapsed": true
   },
   "outputs": [],
   "source": [
    "def tokenize_words(text):\n",
    "    # Tokenizes text into words and returns them in a list\n",
    "    return nltk.word_tokenize(remove_punc(text))"
   ]
  },
  {
   "cell_type": "code",
   "execution_count": 45,
   "metadata": {
    "scrolled": true
   },
   "outputs": [
    {
     "data": {
      "text/plain": [
       "1664"
      ]
     },
     "execution_count": 45,
     "metadata": {},
     "output_type": "execute_result"
    }
   ],
   "source": [
    "len(tokenize_words(about_project_text))"
   ]
  },
  {
   "cell_type": "markdown",
   "metadata": {},
   "source": [
    "Count the number of words per sentence in the *About This Project* section."
   ]
  },
  {
   "cell_type": "code",
   "execution_count": 60,
   "metadata": {
    "collapsed": true
   },
   "outputs": [],
   "source": [
    "def compute_avg_words(text):\n",
    "    return pd.Series(\n",
    "        [len(tokenize_words(sentence)) for sentence in \\\n",
    "         tokenize_sentences(text)]\n",
    "    ).mean()"
   ]
  },
  {
   "cell_type": "code",
   "execution_count": 61,
   "metadata": {
    "scrolled": true
   },
   "outputs": [
    {
     "data": {
      "text/plain": [
       "60.5"
      ]
     },
     "execution_count": 61,
     "metadata": {},
     "output_type": "execute_result"
    }
   ],
   "source": [
    "compute_avg_words(about_project_text)"
   ]
  },
  {
   "cell_type": "markdown",
   "metadata": {},
   "source": [
    "## Create a master function for feature engineering\n",
    "\n",
    "Using a list of hyperlinks, process each page, extract text sections, compute features, and store the results in a Pandas DataFrame."
   ]
  },
  {
   "cell_type": "code",
   "execution_count": 66,
   "metadata": {
    "collapsed": true
   },
   "outputs": [],
   "source": [
    "# Initialize empty DataFrames\n",
    "about_project_df = pd.DataFrame(\n",
    "    columns=['num_sents', 'num_all_caps', 'num_exclms', 'num_words', \n",
    "             'avg_words_per_sent']\n",
    ")\n",
    "\n",
    "risks_df = pd.DataFrame(\n",
    "    columns=['num_sents', 'num_all_caps', 'num_exclms', 'num_words', \n",
    "             'avg_words_per_sent']\n",
    ")"
   ]
  },
  {
   "cell_type": "markdown",
   "metadata": {},
   "source": [
    "Define a function to extract both sections given a hyperlink."
   ]
  },
  {
   "cell_type": "code",
   "execution_count": 57,
   "metadata": {
    "collapsed": true
   },
   "outputs": [],
   "source": [
    "def extract_sections(hyperlink):\n",
    "    # Scrape the HTML content from the website pointed by the hyperlink\n",
    "    doc = requests.get(hyperlink)\n",
    "    soup = BeautifulSoup(doc.text, 'html.parser')\n",
    "    \n",
    "    # Replace all line break markers with a whitespace\n",
    "    parsed_text = soup.get_text().replace('\\n', ' ')\n",
    "    \n",
    "    # Extract and clean up both sections\n",
    "    return (\n",
    "        clean_up(extract_about_project(parsed_text)), \n",
    "        clean_up(extract_risks(parsed_text))\n",
    "    )"
   ]
  },
  {
   "cell_type": "code",
   "execution_count": 63,
   "metadata": {
    "collapsed": true
   },
   "outputs": [],
   "source": [
    "def extract_features(text):\n",
    "    # Compute all features and return them in a list\n",
    "    sentence_count = len(tokenize_sentences(text))\n",
    "    all_caps_count = count_all_caps(text)\n",
    "    exclm_count = count_exclamations(text)\n",
    "    word_count = len(tokenize_words(text))\n",
    "    avg_words = compute_avg_words(text)\n",
    "    return [sentence_count, all_caps_count, exclm_count, word_count, avg_words]"
   ]
  },
  {
   "cell_type": "code",
   "execution_count": 55,
   "metadata": {
    "collapsed": true
   },
   "outputs": [],
   "source": [
    "hyperlinks = [\n",
    "    'https://www.kickstarter.com/projects/636921542/mobile-phone-cup-holder-dock-and-stand-apple-and-a?ref=category',\n",
    "    'https://www.kickstarter.com/projects/sbf/sculpto-the-worlds-most-user-friendly-desktop-3d-p?ref=recommended'\n",
    "]"
   ]
  },
  {
   "cell_type": "code",
   "execution_count": 67,
   "metadata": {},
   "outputs": [],
   "source": [
    "# Process text for each hyperlink and store features for each section in\n",
    "# separate DataFrames\n",
    "for index, link in enumerate(hyperlinks):\n",
    "    about_project_text, risks_text = extract_sections(link)\n",
    "    about_project_df.loc[index] = extract_features(about_project_text)\n",
    "    risks_df.loc[index] = extract_features(risks_text)"
   ]
  },
  {
   "cell_type": "code",
   "execution_count": 69,
   "metadata": {},
   "outputs": [
    {
     "data": {
      "text/html": [
       "<div>\n",
       "<style>\n",
       "    .dataframe thead tr:only-child th {\n",
       "        text-align: right;\n",
       "    }\n",
       "\n",
       "    .dataframe thead th {\n",
       "        text-align: left;\n",
       "    }\n",
       "\n",
       "    .dataframe tbody tr th {\n",
       "        vertical-align: top;\n",
       "    }\n",
       "</style>\n",
       "<table border=\"1\" class=\"dataframe\">\n",
       "  <thead>\n",
       "    <tr style=\"text-align: right;\">\n",
       "      <th></th>\n",
       "      <th>num_sents</th>\n",
       "      <th>num_all_caps</th>\n",
       "      <th>num_exclms</th>\n",
       "      <th>num_words</th>\n",
       "      <th>avg_words_per_sent</th>\n",
       "    </tr>\n",
       "  </thead>\n",
       "  <tbody>\n",
       "    <tr>\n",
       "      <th>0</th>\n",
       "      <td>2.0</td>\n",
       "      <td>0.0</td>\n",
       "      <td>0.0</td>\n",
       "      <td>121.0</td>\n",
       "      <td>60.500000</td>\n",
       "    </tr>\n",
       "    <tr>\n",
       "      <th>1</th>\n",
       "      <td>84.0</td>\n",
       "      <td>8.0</td>\n",
       "      <td>5.0</td>\n",
       "      <td>1664.0</td>\n",
       "      <td>19.809524</td>\n",
       "    </tr>\n",
       "  </tbody>\n",
       "</table>\n",
       "</div>"
      ],
      "text/plain": [
       "   num_sents  num_all_caps  num_exclms  num_words  avg_words_per_sent\n",
       "0        2.0           0.0         0.0      121.0           60.500000\n",
       "1       84.0           8.0         5.0     1664.0           19.809524"
      ]
     },
     "execution_count": 69,
     "metadata": {},
     "output_type": "execute_result"
    }
   ],
   "source": [
    "about_project_df"
   ]
  },
  {
   "cell_type": "code",
   "execution_count": 70,
   "metadata": {},
   "outputs": [
    {
     "data": {
      "text/html": [
       "<div>\n",
       "<style>\n",
       "    .dataframe thead tr:only-child th {\n",
       "        text-align: right;\n",
       "    }\n",
       "\n",
       "    .dataframe thead th {\n",
       "        text-align: left;\n",
       "    }\n",
       "\n",
       "    .dataframe tbody tr th {\n",
       "        vertical-align: top;\n",
       "    }\n",
       "</style>\n",
       "<table border=\"1\" class=\"dataframe\">\n",
       "  <thead>\n",
       "    <tr style=\"text-align: right;\">\n",
       "      <th></th>\n",
       "      <th>num_sents</th>\n",
       "      <th>num_all_caps</th>\n",
       "      <th>num_exclms</th>\n",
       "      <th>num_words</th>\n",
       "      <th>avg_words_per_sent</th>\n",
       "    </tr>\n",
       "  </thead>\n",
       "  <tbody>\n",
       "    <tr>\n",
       "      <th>0</th>\n",
       "      <td>1.0</td>\n",
       "      <td>0.0</td>\n",
       "      <td>0.0</td>\n",
       "      <td>9.0</td>\n",
       "      <td>9.000000</td>\n",
       "    </tr>\n",
       "    <tr>\n",
       "      <th>1</th>\n",
       "      <td>6.0</td>\n",
       "      <td>0.0</td>\n",
       "      <td>0.0</td>\n",
       "      <td>154.0</td>\n",
       "      <td>25.666667</td>\n",
       "    </tr>\n",
       "  </tbody>\n",
       "</table>\n",
       "</div>"
      ],
      "text/plain": [
       "   num_sents  num_all_caps  num_exclms  num_words  avg_words_per_sent\n",
       "0        1.0           0.0         0.0        9.0            9.000000\n",
       "1        6.0           0.0         0.0      154.0           25.666667"
      ]
     },
     "execution_count": 70,
     "metadata": {},
     "output_type": "execute_result"
    }
   ],
   "source": [
    "risks_df"
   ]
  }
 ],
 "metadata": {
  "kernelspec": {
   "display_name": "Python 3",
   "language": "python",
   "name": "python3"
  },
  "language_info": {
   "codemirror_mode": {
    "name": "ipython",
    "version": 3
   },
   "file_extension": ".py",
   "mimetype": "text/x-python",
   "name": "python",
   "nbconvert_exporter": "python",
   "pygments_lexer": "ipython3",
   "version": "3.6.2"
  }
 },
 "nbformat": 4,
 "nbformat_minor": 2
}
