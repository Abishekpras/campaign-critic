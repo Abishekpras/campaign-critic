{
 "cells": [
  {
   "cell_type": "markdown",
   "metadata": {},
   "source": [
    "# Scraping and extracting content from a Kickstarter project page\n",
    "\n",
    "**The purpose of this notebook is to develop and test a pipeline for scraping and parsing content from a Kickstarter project page, and then extract the two main sections of a campaign: \"About This Project\" and \"Risks and Challenges\".**"
   ]
  },
  {
   "cell_type": "code",
   "execution_count": 1,
   "metadata": {
    "collapsed": true
   },
   "outputs": [],
   "source": [
    "# Load required libraries\n",
    "import requests\n",
    "from bs4 import BeautifulSoup\n",
    "import lxml"
   ]
  },
  {
   "cell_type": "code",
   "execution_count": 2,
   "metadata": {
    "collapsed": true
   },
   "outputs": [],
   "source": [
    "# Select a Kickstarter page to process\n",
    "hyperlink = 'https://www.kickstarter.com/projects/1385294316/help-me-' + \\\n",
    "    'start-my-cottage-industry-bakesalecom?ref=category_newest'"
   ]
  },
  {
   "cell_type": "markdown",
   "metadata": {},
   "source": [
    "Let's begin by scraping the HTML content from the project page and then parsing it. I elected to use the `lxml` parser, in addition to utilizing `response.text` over `response.contents` as these parameters yield faster parsing."
   ]
  },
  {
   "cell_type": "code",
   "execution_count": 3,
   "metadata": {
    "collapsed": true
   },
   "outputs": [],
   "source": [
    "# Scrape the project page\n",
    "scraped_html = requests.get(hyperlink)\n",
    "\n",
    "# Parse the HTML\n",
    "soup = BeautifulSoup(scraped_html.text, 'lxml')"
   ]
  },
  {
   "cell_type": "markdown",
   "metadata": {},
   "source": [
    "Next, let's define a functions to a) extract the two campaign sections and b) clean up the text."
   ]
  },
  {
   "cell_type": "code",
   "execution_count": 4,
   "metadata": {
    "collapsed": true
   },
   "outputs": [],
   "source": [
    "def clean_up(messy_text):        \n",
    "    # Remove line breaks, leading and trailing whitespace, and compress all\n",
    "    # whitespace to a single space\n",
    "    clean_text = ' '.join(messy_text.split()).strip()\n",
    "    \n",
    "    # Remove the HTML5 warning for videos\n",
    "    return clean_text.replace(\n",
    "        \"You'll need an HTML5 capable browser to see this content. \" + \\\n",
    "        \"Play Replay with sound Play with sound 00:00 00:00\",\n",
    "        ''\n",
    "    )"
   ]
  },
  {
   "cell_type": "code",
   "execution_count": 5,
   "metadata": {
    "collapsed": true
   },
   "outputs": [],
   "source": [
    "def get_campaign(soup):\n",
    "    # Collect the 'About this project' section if available\n",
    "    try:\n",
    "        section1 = soup.find(\n",
    "            'div',\n",
    "            class_='full-description js-full-description responsive-media ' + \\\n",
    "                'formatted-lists'\n",
    "        ).get_text(' ')\n",
    "    except AttributeError:\n",
    "        section1 = 'section_not_found'\n",
    "    \n",
    "    # Collect the 'Risks and challenges' section if available\n",
    "    try:\n",
    "        section2 = soup.find(\n",
    "            'div', \n",
    "            class_='mb3 mb10-sm mb3 js-risks'\n",
    "        ) \\\n",
    "            .get_text(' ') \\\n",
    "            .replace('Risks and challenges', '') \\\n",
    "            .replace('Learn about accountability on Kickstarter', '')\n",
    "    except AttributeError:\n",
    "        section2 = 'section_not_found'\n",
    "    \n",
    "    # Clean up both sections and return them in a dict\n",
    "    return {'about': clean_up(section1), 'risks': clean_up(section2)}"
   ]
  },
  {
   "cell_type": "markdown",
   "metadata": {},
   "source": [
    "Finally, let's test the extraction function on the parsed HTML."
   ]
  },
  {
   "cell_type": "code",
   "execution_count": 6,
   "metadata": {},
   "outputs": [
    {
     "data": {
      "text/plain": [
       "\"I am a 51 year old woman who was a general manager for restaurants for years. I moved to Florida 3 years ago and found unemployment at 11%. Without being able to find a good job I started my own business as a house cleaner. I have been very successful cleaning two houses a day during season (or city rely's on snowbirds) and right now there is little work. House cleaning is a very hard physical job, that I like, but I don't love. And I'm finding that my body only has a few more years left to be doing this kind of work. What will I do, when I can't do this anymore?????? So I sat down and started listing the things that I love. And my list kept coming back to. I love to bake! After sitting down and making a business plan, if I could get kickstarted with a few thousand dollars I could rent a small space and equip it with what I need. It would help me with licensing and insurance. And if anything was left I could get a professional website done, and have a strong base to give my last try at making it....a go! This is my last dream, hope you can help me get to 70! Thank you, Barbara\""
      ]
     },
     "execution_count": 6,
     "metadata": {},
     "output_type": "execute_result"
    }
   ],
   "source": [
    "# Display the `About this project` section\n",
    "campaign = get_campaign(soup)\n",
    "campaign['about']"
   ]
  },
  {
   "cell_type": "code",
   "execution_count": 7,
   "metadata": {},
   "outputs": [
    {
     "data": {
      "text/plain": [
       "'Challenges will be getting my name out there and getting a website done. Being a restaurant manager will help my endeavors, but actually setting up a facility will require some expertise outside my knowledge, I am planning on working with the small business administration for help. I have already attended workshops with them.'"
      ]
     },
     "execution_count": 7,
     "metadata": {},
     "output_type": "execute_result"
    }
   ],
   "source": [
    "# Display the `Risks and challenges` section\n",
    "campaign['risks']"
   ]
  }
 ],
 "metadata": {
  "kernelspec": {
   "display_name": "Python 3",
   "language": "python",
   "name": "python3"
  },
  "language_info": {
   "codemirror_mode": {
    "name": "ipython",
    "version": 3
   },
   "file_extension": ".py",
   "mimetype": "text/x-python",
   "name": "python",
   "nbconvert_exporter": "python",
   "pygments_lexer": "ipython3",
   "version": "3.6.2"
  }
 },
 "nbformat": 4,
 "nbformat_minor": 2
}
