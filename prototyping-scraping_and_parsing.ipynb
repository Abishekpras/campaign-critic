{
 "cells": [
  {
   "cell_type": "markdown",
   "metadata": {},
   "source": [
    "# Scraping and extracting content from a Kickstarter project page\n",
    "\n",
    "**The purpose of this notebook is to develop and test a pipeline for scraping and parsing content from a Kickstarter project page, and then extract the two main sections of a campaign: \"About This Project\" and \"Risks and Challenges\".**"
   ]
  },
  {
   "cell_type": "code",
   "execution_count": 1,
   "metadata": {
    "collapsed": true
   },
   "outputs": [],
   "source": [
    "# Load required libraries\n",
    "import requests\n",
    "from bs4 import BeautifulSoup\n",
    "import lxml\n",
    "import pandas as pd"
   ]
  },
  {
   "cell_type": "code",
   "execution_count": 2,
   "metadata": {
    "collapsed": true
   },
   "outputs": [],
   "source": [
    "# Select a Kickstarter page to process\n",
    "hyperlink = 'https://www.kickstarter.com/projects/sbf/sculpto-the-worlds-' + \\\n",
    "    'most-user-friendly-desktop-3d-p?ref=discovery'"
   ]
  },
  {
   "cell_type": "markdown",
   "metadata": {},
   "source": [
    "Let's begin by scraping the HTML content from the project page and then parsing it. I elected to use the `lxml` parser, in addition to utilizing `response.text` over `response.contents` as these parameters yield faster parsing."
   ]
  },
  {
   "cell_type": "code",
   "execution_count": 3,
   "metadata": {
    "collapsed": true
   },
   "outputs": [],
   "source": [
    "# Scrape the project page\n",
    "scraped_html = requests.get(hyperlink)\n",
    "\n",
    "# Parse the HTML\n",
    "soup = BeautifulSoup(scraped_html.text, 'lxml')"
   ]
  },
  {
   "cell_type": "markdown",
   "metadata": {},
   "source": [
    "Next, let's define a functions to a) extract the two campaign sections and b) clean up the text."
   ]
  },
  {
   "cell_type": "code",
   "execution_count": 4,
   "metadata": {
    "collapsed": true
   },
   "outputs": [],
   "source": [
    "def clean_up(messy_text):        \n",
    "    # Remove line breaks, leading and trailing whitespace, and compress all\n",
    "    # whitespace to a single space\n",
    "    clean_text = ' '.join(messy_text.split()).strip()\n",
    "    \n",
    "    # Remove the HTML5 warning for videos\n",
    "    return clean_text.replace(\n",
    "        \"You'll need an HTML5 capable browser to see this content. \" + \\\n",
    "        \"Play Replay with sound Play with sound 00:00 00:00\",\n",
    "        ''\n",
    "    )"
   ]
  },
  {
   "cell_type": "code",
   "execution_count": 5,
   "metadata": {
    "collapsed": true
   },
   "outputs": [],
   "source": [
    "def get_campaign(soup):\n",
    "    # Collect the 'About this project' section if available\n",
    "    try:\n",
    "        section1 = soup.find(\n",
    "            'div',\n",
    "            class_='full-description js-full-description responsive-media ' + \\\n",
    "                'formatted-lists'\n",
    "        ).get_text(' ')\n",
    "    except AttributeError:\n",
    "        section1 = 'section_not_found'\n",
    "    \n",
    "    # Collect the 'Risks and challenges' section if available\n",
    "    try:\n",
    "        section2 = soup.find(\n",
    "            'div', \n",
    "            class_='mb3 mb10-sm mb3 js-risks'\n",
    "        ) \\\n",
    "            .get_text(' ') \\\n",
    "            .replace('Risks and challenges', '') \\\n",
    "            .replace('Learn about accountability on Kickstarter', '')\n",
    "    except AttributeError:\n",
    "        section2 = 'section_not_found'\n",
    "    \n",
    "    # Clean up both sections and return them in a dict\n",
    "    return {'about': clean_up(section1), 'risks': clean_up(section2)}"
   ]
  },
  {
   "cell_type": "markdown",
   "metadata": {},
   "source": [
    "Finally, let's test the extraction function on the parsed HTML."
   ]
  },
  {
   "cell_type": "code",
   "execution_count": 6,
   "metadata": {},
   "outputs": [
    {
     "data": {
      "text/plain": [
       "\"3D printers are one of the coolest and most efficient ways for you to make your ideas go from the drawing board and into real life. Two years ago we launched a new type of 3D printer on Kickstarter. We wanted to make the amazing world of 3D printing available to everyone - not just engineers and tech-savvy people. We believe everyone should be able to bring their ideas to life. We started delivering that dream a year ago and opened a world of 3D printing for regular people and schools all over Denmark. Since then we have refined our production and software while developing Sculpto+ The result is a small 3D printer with one of the biggest print areas seen on a plug'n'play printer. We have maximized printing performance while eliminating the noise and inconveniences of 3D printing - we have made the perfect desktop 3D printer. And the best part: Everyone can use it! Sculpto+ is a small 3D printer. It only weighs 2.7 KG and is about the size of your household coffeemaker, but has a printing volume of 5 liters! You can print objects at the size of a football (Soccer)! If you compare the build volume of Sculpto+ to other consumer printers in the same category and price range you will discover the print volume of Sculpto+ is up to 5 times bigger. Thanks to the compact design and the built-in handle the printer can easily be moved from room to room or house to house without any trouble. Meeting our current users' expectations we have developed the Sculpto+ to be close to soundless when printing. Now you can only hear the fan of the printer during the printing process. We have reduced the sound level to 44-47 dB during a print. This is about the same as the background noise in a normal town house. In other words, you can place Sculpto+ wherever you want without having to worry about the noise. The Sculpto+ delivers a really nice finish. The Sculpto App allows you to choose between the settings 'fine', 'normal' and 'fast' so you can adjust the printing time and resolution to your needs. Regardless of your choice the Sculpto+ delivers high level 3D prints out of the box thanks to our automated slicer-software - that takes care of the difficult trimmings and settings. When you have a 3D printer you also need some nice things to print. That's why you can browse between a selection of cool models that can be printed directly from the Sculpto App to your Sculpto+ 3D printer. It's easy and convenient. You can download the app on Google Play and App Store or you can access the printer directly from your browser via our web app. We are currently in the process of developing the app into a new and improved version where our upcoming 'model engine' will collect quality content from Thingiverse and present it to you in a even more user-friendly way. You can look forward to receiving a product that keeps getting better as we push new updates with cool features and improvements. The Sculpto+ also allows you to print your own inventions. And we made that very easy too. Just choose your STL-file (that you've designed in any given 3D modelling program), select your preferred quality, support-structure and strength of the object. Then our cloud-based slicer will prepare the model for 3D printing! 3D printing on an ordinary 3D printer often involves cables and SD cards. We have made the integration completely Wi-Fi driven which means that you can print directly from your preferred devices. You can print via your mobile devices, via our iOS or Android app or print from your computer via our web app. The printer also has a build-in-memory, so should your Wi-Fi connection fail during a print, the Sculpto+ will still finish the job. Another cool thing about wireless printing is that you can monitor the process of your print even when you're not home and once the print is finished the Sculpto App will simply send you a push-message, so you know it'a time to go start your next print. The Sculpto 3D printer prints with a plastic filament called PLA - it is made of corn and is biodegradable. Sculpto manufactures quality filament at competitive prices to ensure the best success rate and a long lifetime of your Sculpto+. Sculpto PLA is a sturdy plastic that can withstand a lot of stress, force and weather. Remember to buy extra filament with your Sculpto+. There will not be added extra shipping cost. You will be able to choose between 20 colors once the campaign ends. Prices can be found under the 'Reward' section.  Of course the 6 handsome guys in the video did not do it alone. We also want to make a big shout-out to the other employees at Sculpto, our board, our business partners, our resellers and last but definitely not least all our great users and the communities that has evolved around Sculpto. If Kickstarter is new to you and you have problems making your pledge, then don't hesitate to contact us. We can be contacted via e-mail, chat and phone and are ready to help you. We speak German, English and Danish. You can find our contact information at https://sculpto.eu (English) / https://sculpto.de (German) / https://sculpto.dk (Danish). One of the amazing things about the Sculpto+ is our software. Making a compact, quality 3D printer is actually only half the job. In order to make 3D printing for everyone we have taken things such as slicing, G-code and fine-tuning and either simplified it or made it invisible to the user. Whether you're printing models directly from the Sculpto App our you print your own STL-files we have made sure it's hassle-free! A good building platform is key to a successful print. You do not want your object to fall of the buildplate before the printer has finished. Therefore the buildplate of Sculpto+ is mounted with Buildtak which in combination with an efficient raft and high temperature first layer ensures that the print is as glued to the buildplate. When the print is finished then flex the buildplate and use a spatula to remove the object. With help from Techpeople (A daughter company of Datarespons) we have developed and implemented S-curve on the Sculpto+ firmware which has many advantages. It makes the printer able to go faster, it increase the success rate of printing by reducing jerk and it generally helps with a smoother and better 3D printing experience. We have spent a lot of hours on developing custom electronics for the Sculpto+ and the cool thing about that is that we have been able to decide exactly which components should be on the electronics. One of the two most significant upgrades of the Sculpto+ electronics are our new and very efficient micro-stepping motor controllers. This is a part of the reason for why the printer is so soundless while printing. The new motor-controllers also ensure a more stable 3D printing experience by having more strength while reducing heat. The second upgrade is more accurate and stable probes for making sure that calibration is kept to an absolute minimum. The Sculpto 3D printer and the Sculpto+ are the only two bi-polar 3D printers on the global market. What does this mean? First of all it means that the printer works in a different coordinate system than other printers. The power of the bipolar coordinate system is that it makes the Sculpto+ a very compact and lightweight printer. The Sculpto+ can basically print objects that are close to the size of the actual machine. The second advantage is it takes fewer parts to build the machine. This help us to reduce the manufacturing cost but at the same time leaves space for quality components such as the E3D hotend in the printer and the Buildtak buildplate. Are there any downsides to a bipolar 3D printer? In a diameter of 1 - 2 mm crossing the center of the building area the precision is smaller than on the rest of the cylindrical building area due to the fact that the arm of the printer - in theory - should accelerate to infinite speed when printing in dead center. But by implementing S-curve acceleration and optimizing our mechanical production methods we have been able to reduce the distortion in center to a point where it does not cause issues and are almost not visible on the finished 3D printed object.  One of the things that makes Sculpto+ great is the parts it's made of. To ensure good quality and stable manufacturing we are using some of the best parts within the 3D printing industry. As mentioned before we're using the popular E3D hotend with a silicone sleeve. We're using Buildtak for 3D printing surface. Most of the plastic parts on the printer are manufactured in our 5 injection molds which we have been trimming for the last year while producing our previous Sculpto. This also means that we now have an extremely high accuracy on the printer's mechanics which is really important in a polar printer. We have dedicated a lot of effort into making sure as much of the production setup will be ready prior to launching our campaign to make sure that we can ship as many Sculpto+ units before Christmas as possible. For more specifications feel free to ask us. In these 3 videos we will demonstrate how far we actually are with the development of the Sculpto+. In the videos we're using production prototypes - this means they are manufactured in a similar way to the final product. The software and firmware on the prototypes are still in development, so the quality will probably be even better on the final product than what is seen in the videos.  Demonstration of the Sculpto iOS App operating the Sculpto+  Timelapse and video of 3 prototypes printing rather big objects  Timelapse of Sculpto+ printing a 3D benchy (test model) in 'Fine' and 'Normal' resolution.\""
      ]
     },
     "execution_count": 6,
     "metadata": {},
     "output_type": "execute_result"
    }
   ],
   "source": [
    "# Display the `About this project` section\n",
    "campaign = get_campaign(soup)\n",
    "campaign['about']"
   ]
  },
  {
   "cell_type": "code",
   "execution_count": 7,
   "metadata": {},
   "outputs": [
    {
     "data": {
      "text/plain": [
       "\"The development of the Sculpto+ is almost finalized. Due to the fact that we are already manufacturing our previous Sculpto 3D printer - with a lot similarities to the Sculpto+ and have printers operating in private homes, schools and institutions all over Denmark we are very confident we can bring the Sculpto+ to production. The past 4 months we have been testing 3 stages of different prototypes and are now testing 10 production prototypes that are manufactured in a similar way to the final product. Our results have been amazing and we truly believe this 3D printer and the upgraded app will be a game-changer within 3D printing for consumers and educational use. Take a look at our 'prototype gallery' to see more. We have already started lining the production up and believe it is realistic to deliver all or a big part (Depending on the Kickstarters outcome) of the Sculpto+ 3D printers before Christmas.\""
      ]
     },
     "execution_count": 7,
     "metadata": {},
     "output_type": "execute_result"
    }
   ],
   "source": [
    "# Display the `Risks and challenges` section\n",
    "campaign['risks']"
   ]
  }
 ],
 "metadata": {
  "kernelspec": {
   "display_name": "Python 3",
   "language": "python",
   "name": "python3"
  },
  "language_info": {
   "codemirror_mode": {
    "name": "ipython",
    "version": 3
   },
   "file_extension": ".py",
   "mimetype": "text/x-python",
   "name": "python",
   "nbconvert_exporter": "python",
   "pygments_lexer": "ipython3",
   "version": "3.6.2"
  }
 },
 "nbformat": 4,
 "nbformat_minor": 2
}
