{
 "cells": [
  {
   "cell_type": "markdown",
   "metadata": {},
   "source": [
    "# Developing a machine learning strategy\n",
    "\n",
    "**Goal: Research and validate models for predicting whether a Kickstarter project will be funded based on a campaign section.** \n",
    "\n",
    "## Table of contents\n",
    "1. [Loading the data](#cell1)\n",
    "2. [Building the design matrix for meta features](#cell2)\n",
    "3. [Building a design matrix for the $n$-gram model](#cell3)\n",
    "4. [Preparing the target variable](#cell4)\n",
    "5. [Evaluating models](#cell5)\n",
    "7. [Diagnosing the classifier](#cell6)\n",
    "8. [Using nested cross-validation to optimize hyperparameters](#cell7)\n",
    "9. [Training a validated model](#cell8)\n",
    "10. [Determining the top predictors of funded projects](#cell9)\n",
    "11. [Testing Kickstarter pages](#cell10)\n",
    "\n",
    "<a id=\"cell1\"></a>\n",
    "## 1. Loading the data"
   ]
  },
  {
   "cell_type": "code",
   "execution_count": 1,
   "metadata": {
    "collapsed": true
   },
   "outputs": [],
   "source": [
    "# Load required packages\n",
    "import numpy as np\n",
    "import pandas as pd\n",
    "import matplotlib.pyplot as plt\n",
    "import seaborn as sns\n",
    "import psycopg2\n",
    "import nltk\n",
    "import feature_engineering\n",
    "from scipy import sparse\n",
    "from sklearn.preprocessing import LabelEncoder, StandardScaler\n",
    "from sklearn import metrics\n",
    "from sklearn.calibration import calibration_curve\n",
    "from sklearn.linear_model import LogisticRegression, LinearRegression\n",
    "from sklearn.externals import joblib\n",
    "from sklearn.feature_extraction.text import TfidfVectorizer\n",
    "from sklearn.model_selection import (\n",
    "    learning_curve, StratifiedShuffleSplit, GridSearchCV, cross_val_score,\n",
    "    ShuffleSplit, cross_val_predict\n",
    ")\n",
    "\n",
    "# Set figure display options\n",
    "%matplotlib inline\n",
    "sns.set(context='notebook', style='darkgrid')\n",
    "sns.set(font_scale=1.3)"
   ]
  },
  {
   "cell_type": "markdown",
   "metadata": {},
   "source": [
    "The training set for both campaign sections are stored in PostgreSQL databases. Let's begin by loading the credentials to connect to the databases."
   ]
  },
  {
   "cell_type": "code",
   "execution_count": 2,
   "metadata": {
    "collapsed": true
   },
   "outputs": [],
   "source": [
    "# Set database credentials\n",
    "db_name1 = 'section1_db'\n",
    "db_name2 = 'section2_db'\n",
    "usernm = 'redwan'\n",
    "host = 'localhost'\n",
    "port = '5432'\n",
    "pwd = 'pentium'"
   ]
  },
  {
   "cell_type": "markdown",
   "metadata": {},
   "source": [
    "Next we'll query all the data for both campaign sections and store them locally."
   ]
  },
  {
   "cell_type": "code",
   "execution_count": 3,
   "metadata": {
    "collapsed": true
   },
   "outputs": [],
   "source": [
    "# Connect to database containing section 1\n",
    "con1 = psycopg2.connect(\n",
    "    database=db_name1, \n",
    "    host='localhost',\n",
    "    user=usernm,\n",
    "    password=pwd\n",
    ")\n",
    "\n",
    "# Connect to database containing section 2\n",
    "con2 = psycopg2.connect(\n",
    "    database=db_name2, \n",
    "    host='localhost',\n",
    "    user=usernm,\n",
    "    password=pwd\n",
    ")\n",
    "\n",
    "# Query all data from both campaign sections\n",
    "sql_query1 = 'SELECT * FROM section1_db;'\n",
    "sql_query2 = 'SELECT * FROM section2_db;'\n",
    "section1_df_full = pd.read_sql_query(sql_query1, con1)\n",
    "section2_df_full = pd.read_sql_query(sql_query2, con2)"
   ]
  },
  {
   "cell_type": "markdown",
   "metadata": {},
   "source": [
    "### Regression vs. classification\n",
    "\n",
    "We can either approach this problem as a classification task and attempt to predict whether a project will be funded or not. Another option is to predict what % of the goal will the project reach and therefore, approach the problem as a regression task. \n",
    "\n",
    "Let's start with the latter since it's more interesting. We'll begin by defining a new target variable `percent_funded` to compute what % of the goal was reached for each project."
   ]
  },
  {
   "cell_type": "code",
   "execution_count": 4,
   "metadata": {},
   "outputs": [
    {
     "data": {
      "text/html": [
       "<div>\n",
       "<style>\n",
       "    .dataframe thead tr:only-child th {\n",
       "        text-align: right;\n",
       "    }\n",
       "\n",
       "    .dataframe thead th {\n",
       "        text-align: left;\n",
       "    }\n",
       "\n",
       "    .dataframe tbody tr th {\n",
       "        vertical-align: top;\n",
       "    }\n",
       "</style>\n",
       "<table border=\"1\" class=\"dataframe\">\n",
       "  <thead>\n",
       "    <tr style=\"text-align: right;\">\n",
       "      <th></th>\n",
       "      <th>level_0</th>\n",
       "      <th>index</th>\n",
       "      <th>num_sents</th>\n",
       "      <th>num_words</th>\n",
       "      <th>num_all_caps</th>\n",
       "      <th>percent_all_caps</th>\n",
       "      <th>num_exclms</th>\n",
       "      <th>percent_exclms</th>\n",
       "      <th>num_apple_words</th>\n",
       "      <th>percent_apple_words</th>\n",
       "      <th>...</th>\n",
       "      <th>normalized_text</th>\n",
       "      <th>name</th>\n",
       "      <th>category</th>\n",
       "      <th>hyperlink</th>\n",
       "      <th>currency</th>\n",
       "      <th>pledged</th>\n",
       "      <th>goal</th>\n",
       "      <th>location</th>\n",
       "      <th>funded</th>\n",
       "      <th>percent_funded</th>\n",
       "    </tr>\n",
       "  </thead>\n",
       "  <tbody>\n",
       "    <tr>\n",
       "      <th>0</th>\n",
       "      <td>0</td>\n",
       "      <td>88389</td>\n",
       "      <td>15.0</td>\n",
       "      <td>223.0</td>\n",
       "      <td>0.0</td>\n",
       "      <td>0.0</td>\n",
       "      <td>3.0</td>\n",
       "      <td>0.013453</td>\n",
       "      <td>0.0</td>\n",
       "      <td>0.0</td>\n",
       "      <td>...</td>\n",
       "      <td>I am a numbr year old woman who was a general ...</td>\n",
       "      <td>Help me start my cottage industry ... Bakesale...</td>\n",
       "      <td>Small Batch</td>\n",
       "      <td>https://www.kickstarter.com/projects/138529431...</td>\n",
       "      <td>USD</td>\n",
       "      <td>0.0</td>\n",
       "      <td>10000.0</td>\n",
       "      <td>Cape Coral, FL</td>\n",
       "      <td>False</td>\n",
       "      <td>0.000000</td>\n",
       "    </tr>\n",
       "    <tr>\n",
       "      <th>1</th>\n",
       "      <td>1</td>\n",
       "      <td>190378</td>\n",
       "      <td>15.0</td>\n",
       "      <td>383.0</td>\n",
       "      <td>0.0</td>\n",
       "      <td>0.0</td>\n",
       "      <td>4.0</td>\n",
       "      <td>0.010444</td>\n",
       "      <td>0.0</td>\n",
       "      <td>0.0</td>\n",
       "      <td>...</td>\n",
       "      <td>What happens to a sock that disappears in the ...</td>\n",
       "      <td>The Sock Who Lost His Mate at NY Children's Th...</td>\n",
       "      <td>Musical</td>\n",
       "      <td>https://www.kickstarter.com/projects/987315242...</td>\n",
       "      <td>USD</td>\n",
       "      <td>2600.0</td>\n",
       "      <td>7000.0</td>\n",
       "      <td>Greenwich Village, Manhattan, NY</td>\n",
       "      <td>False</td>\n",
       "      <td>0.371429</td>\n",
       "    </tr>\n",
       "  </tbody>\n",
       "</table>\n",
       "<p>2 rows × 31 columns</p>\n",
       "</div>"
      ],
      "text/plain": [
       "   level_0   index  num_sents  num_words  num_all_caps  percent_all_caps  \\\n",
       "0        0   88389       15.0      223.0           0.0               0.0   \n",
       "1        1  190378       15.0      383.0           0.0               0.0   \n",
       "\n",
       "   num_exclms  percent_exclms  num_apple_words  percent_apple_words  \\\n",
       "0         3.0        0.013453              0.0                  0.0   \n",
       "1         4.0        0.010444              0.0                  0.0   \n",
       "\n",
       "        ...                                          normalized_text  \\\n",
       "0       ...        I am a numbr year old woman who was a general ...   \n",
       "1       ...        What happens to a sock that disappears in the ...   \n",
       "\n",
       "                                                name     category  \\\n",
       "0  Help me start my cottage industry ... Bakesale...  Small Batch   \n",
       "1  The Sock Who Lost His Mate at NY Children's Th...      Musical   \n",
       "\n",
       "                                           hyperlink  currency  pledged  \\\n",
       "0  https://www.kickstarter.com/projects/138529431...       USD      0.0   \n",
       "1  https://www.kickstarter.com/projects/987315242...       USD   2600.0   \n",
       "\n",
       "      goal                          location  funded  percent_funded  \n",
       "0  10000.0                    Cape Coral, FL   False        0.000000  \n",
       "1   7000.0  Greenwich Village, Manhattan, NY   False        0.371429  \n",
       "\n",
       "[2 rows x 31 columns]"
      ]
     },
     "execution_count": 4,
     "metadata": {},
     "output_type": "execute_result"
    }
   ],
   "source": [
    "# Define a target variable for regression\n",
    "section1_df_full['percent_funded'] = section1_df_full['pledged'] / \\\n",
    "    section1_df_full['goal']\n",
    "\n",
    "# Display a few rows\n",
    "section1_df_full.head(2)"
   ]
  },
  {
   "cell_type": "markdown",
   "metadata": {},
   "source": [
    "<a id=\"cell2\"></a>\n",
    "## 2. Building the design matrix for meta features\n",
    "\n",
    "Let's use the extracted meta features for just the \"About this project\" section for now."
   ]
  },
  {
   "cell_type": "code",
   "execution_count": 5,
   "metadata": {},
   "outputs": [
    {
     "data": {
      "text/html": [
       "<div>\n",
       "<style>\n",
       "    .dataframe thead tr:only-child th {\n",
       "        text-align: right;\n",
       "    }\n",
       "\n",
       "    .dataframe thead th {\n",
       "        text-align: left;\n",
       "    }\n",
       "\n",
       "    .dataframe tbody tr th {\n",
       "        vertical-align: top;\n",
       "    }\n",
       "</style>\n",
       "<table border=\"1\" class=\"dataframe\">\n",
       "  <thead>\n",
       "    <tr style=\"text-align: right;\">\n",
       "      <th></th>\n",
       "      <th>num_sents</th>\n",
       "      <th>num_words</th>\n",
       "      <th>num_all_caps</th>\n",
       "      <th>percent_all_caps</th>\n",
       "      <th>num_exclms</th>\n",
       "      <th>percent_exclms</th>\n",
       "      <th>num_apple_words</th>\n",
       "      <th>percent_apple_words</th>\n",
       "      <th>avg_words_per_sent</th>\n",
       "      <th>num_paragraphs</th>\n",
       "      <th>avg_sents_per_paragraph</th>\n",
       "      <th>avg_words_per_paragraph</th>\n",
       "      <th>num_images</th>\n",
       "      <th>num_videos</th>\n",
       "      <th>num_youtubes</th>\n",
       "      <th>num_gifs</th>\n",
       "      <th>num_hyperlinks</th>\n",
       "      <th>num_bolded</th>\n",
       "      <th>percent_bolded</th>\n",
       "    </tr>\n",
       "  </thead>\n",
       "  <tbody>\n",
       "    <tr>\n",
       "      <th>0</th>\n",
       "      <td>15.0</td>\n",
       "      <td>223.0</td>\n",
       "      <td>0.0</td>\n",
       "      <td>0.000000</td>\n",
       "      <td>3.0</td>\n",
       "      <td>0.013453</td>\n",
       "      <td>0.0</td>\n",
       "      <td>0.000000</td>\n",
       "      <td>14.866667</td>\n",
       "      <td>9.0</td>\n",
       "      <td>1.888889</td>\n",
       "      <td>24.777778</td>\n",
       "      <td>0.0</td>\n",
       "      <td>0.0</td>\n",
       "      <td>0.0</td>\n",
       "      <td>0.0</td>\n",
       "      <td>0.0</td>\n",
       "      <td>0.0</td>\n",
       "      <td>0.000000</td>\n",
       "    </tr>\n",
       "    <tr>\n",
       "      <th>1</th>\n",
       "      <td>15.0</td>\n",
       "      <td>383.0</td>\n",
       "      <td>0.0</td>\n",
       "      <td>0.000000</td>\n",
       "      <td>4.0</td>\n",
       "      <td>0.010444</td>\n",
       "      <td>0.0</td>\n",
       "      <td>0.000000</td>\n",
       "      <td>25.533333</td>\n",
       "      <td>5.0</td>\n",
       "      <td>3.000000</td>\n",
       "      <td>76.600000</td>\n",
       "      <td>0.0</td>\n",
       "      <td>0.0</td>\n",
       "      <td>0.0</td>\n",
       "      <td>0.0</td>\n",
       "      <td>0.0</td>\n",
       "      <td>0.0</td>\n",
       "      <td>0.000000</td>\n",
       "    </tr>\n",
       "    <tr>\n",
       "      <th>2</th>\n",
       "      <td>15.0</td>\n",
       "      <td>259.0</td>\n",
       "      <td>17.0</td>\n",
       "      <td>0.065637</td>\n",
       "      <td>0.0</td>\n",
       "      <td>0.000000</td>\n",
       "      <td>1.0</td>\n",
       "      <td>0.003861</td>\n",
       "      <td>17.266667</td>\n",
       "      <td>17.0</td>\n",
       "      <td>0.823529</td>\n",
       "      <td>11.470588</td>\n",
       "      <td>15.0</td>\n",
       "      <td>0.0</td>\n",
       "      <td>0.0</td>\n",
       "      <td>0.0</td>\n",
       "      <td>8.0</td>\n",
       "      <td>0.0</td>\n",
       "      <td>0.000000</td>\n",
       "    </tr>\n",
       "    <tr>\n",
       "      <th>3</th>\n",
       "      <td>18.0</td>\n",
       "      <td>431.0</td>\n",
       "      <td>0.0</td>\n",
       "      <td>0.000000</td>\n",
       "      <td>3.0</td>\n",
       "      <td>0.006961</td>\n",
       "      <td>1.0</td>\n",
       "      <td>0.002320</td>\n",
       "      <td>23.944444</td>\n",
       "      <td>3.0</td>\n",
       "      <td>6.000000</td>\n",
       "      <td>143.666667</td>\n",
       "      <td>0.0</td>\n",
       "      <td>0.0</td>\n",
       "      <td>0.0</td>\n",
       "      <td>0.0</td>\n",
       "      <td>2.0</td>\n",
       "      <td>0.0</td>\n",
       "      <td>0.000000</td>\n",
       "    </tr>\n",
       "    <tr>\n",
       "      <th>4</th>\n",
       "      <td>23.0</td>\n",
       "      <td>282.0</td>\n",
       "      <td>2.0</td>\n",
       "      <td>0.007092</td>\n",
       "      <td>15.0</td>\n",
       "      <td>0.053191</td>\n",
       "      <td>0.0</td>\n",
       "      <td>0.000000</td>\n",
       "      <td>12.260870</td>\n",
       "      <td>5.0</td>\n",
       "      <td>4.600000</td>\n",
       "      <td>56.600000</td>\n",
       "      <td>1.0</td>\n",
       "      <td>0.0</td>\n",
       "      <td>0.0</td>\n",
       "      <td>0.0</td>\n",
       "      <td>0.0</td>\n",
       "      <td>12.0</td>\n",
       "      <td>0.042553</td>\n",
       "    </tr>\n",
       "  </tbody>\n",
       "</table>\n",
       "</div>"
      ],
      "text/plain": [
       "   num_sents  num_words  num_all_caps  percent_all_caps  num_exclms  \\\n",
       "0       15.0      223.0           0.0          0.000000         3.0   \n",
       "1       15.0      383.0           0.0          0.000000         4.0   \n",
       "2       15.0      259.0          17.0          0.065637         0.0   \n",
       "3       18.0      431.0           0.0          0.000000         3.0   \n",
       "4       23.0      282.0           2.0          0.007092        15.0   \n",
       "\n",
       "   percent_exclms  num_apple_words  percent_apple_words  avg_words_per_sent  \\\n",
       "0        0.013453              0.0             0.000000           14.866667   \n",
       "1        0.010444              0.0             0.000000           25.533333   \n",
       "2        0.000000              1.0             0.003861           17.266667   \n",
       "3        0.006961              1.0             0.002320           23.944444   \n",
       "4        0.053191              0.0             0.000000           12.260870   \n",
       "\n",
       "   num_paragraphs  avg_sents_per_paragraph  avg_words_per_paragraph  \\\n",
       "0             9.0                 1.888889                24.777778   \n",
       "1             5.0                 3.000000                76.600000   \n",
       "2            17.0                 0.823529                11.470588   \n",
       "3             3.0                 6.000000               143.666667   \n",
       "4             5.0                 4.600000                56.600000   \n",
       "\n",
       "   num_images  num_videos  num_youtubes  num_gifs  num_hyperlinks  num_bolded  \\\n",
       "0         0.0         0.0           0.0       0.0             0.0         0.0   \n",
       "1         0.0         0.0           0.0       0.0             0.0         0.0   \n",
       "2        15.0         0.0           0.0       0.0             8.0         0.0   \n",
       "3         0.0         0.0           0.0       0.0             2.0         0.0   \n",
       "4         1.0         0.0           0.0       0.0             0.0        12.0   \n",
       "\n",
       "   percent_bolded  \n",
       "0        0.000000  \n",
       "1        0.000000  \n",
       "2        0.000000  \n",
       "3        0.000000  \n",
       "4        0.042553  "
      ]
     },
     "execution_count": 5,
     "metadata": {},
     "output_type": "execute_result"
    }
   ],
   "source": [
    "# List of meta features to use in models\n",
    "features = ['num_sents', 'num_words', 'num_all_caps', 'percent_all_caps',\n",
    "            'num_exclms', 'percent_exclms', 'num_apple_words',\n",
    "            'percent_apple_words', 'avg_words_per_sent', 'num_paragraphs',\n",
    "            'avg_sents_per_paragraph', 'avg_words_per_paragraph',\n",
    "            'num_images', 'num_videos', 'num_youtubes', 'num_gifs',\n",
    "            'num_hyperlinks', 'num_bolded', 'percent_bolded']\n",
    "\n",
    "# Select meta features\n",
    "X = section1_df_full[features]\n",
    "\n",
    "# Display the first five rows of the design matrix\n",
    "X.head()"
   ]
  },
  {
   "cell_type": "markdown",
   "metadata": {},
   "source": [
    "### Data wrangling\n",
    "\n",
    "Some of the projects may contain missing values. We need to decide how to deal with these projects since models in Scikit-learn cannot interpret them.\n",
    "\n",
    "One strategy is to first remove all projects that have no data. These projects are most likely those that failed to complete an \"About this project\" section and can safely be excluded."
   ]
  },
  {
   "cell_type": "code",
   "execution_count": 6,
   "metadata": {
    "collapsed": true
   },
   "outputs": [],
   "source": [
    "# Remove all rows with no data\n",
    "X_cleaned = X[~X.isnull().all(axis=1)]"
   ]
  },
  {
   "cell_type": "markdown",
   "metadata": {},
   "source": [
    "For the remaining projects with missing values, we can fill them with zeros. This makes sense since missing values arise as a result of missing data or if the number of words in the section is zero. This latter result may have caused a `DivisionByZeroError` during feature engineering but we addressed it by setting those features to `NaN`."
   ]
  },
  {
   "cell_type": "code",
   "execution_count": 7,
   "metadata": {
    "collapsed": true
   },
   "outputs": [],
   "source": [
    "# Fill remaining missing values with zero\n",
    "X_cleaned = X_cleaned.fillna(0)"
   ]
  },
  {
   "cell_type": "markdown",
   "metadata": {},
   "source": [
    "### Considering the \"Risks and challenges\" section\n",
    "\n",
    "I noticed that some Kickstarter projects don't have a \"Risks and challenges\" section. Let's determine what proportion of projects this is by defining a new feature called `risks_present` that computes stores a value of one if the section is present, otherwise a zero. "
   ]
  },
  {
   "cell_type": "code",
   "execution_count": 8,
   "metadata": {},
   "outputs": [
    {
     "data": {
      "text/plain": [
       "0.22762439938105708"
      ]
     },
     "execution_count": 8,
     "metadata": {},
     "output_type": "execute_result"
    }
   ],
   "source": [
    "# Identify projects without a \"Risks and challenges\" section\n",
    "section2_df_full['risks_present'] = ~section2_df_full['normalized_text'] \\\n",
    "    .isnull()\n",
    "\n",
    "# Select the projects without a \"Risks and challenges\"'\" section\n",
    "section1_df_full = section1_df_full.merge(\n",
    "    section2_df_full[['index', 'risks_present']],\n",
    "    how='left', \n",
    "    on='index'\n",
    ")\n",
    "\n",
    "# Compute the proportion of projects without a \"Risks and challenges\" section\n",
    "(len(section1_df_full) - section1_df_full['risks_present'].sum()) / \\\n",
    "    len(section1_df_full)"
   ]
  },
  {
   "cell_type": "markdown",
   "metadata": {},
   "source": [
    "That's concerning&mdash;nearly 23% of projects are missing a \"Risks and challenges\" section. Let's compare this to the number of projects missing an \"About this project\" section."
   ]
  },
  {
   "cell_type": "code",
   "execution_count": 9,
   "metadata": {},
   "outputs": [
    {
     "data": {
      "text/plain": [
       "0.0012623177783207102"
      ]
     },
     "execution_count": 9,
     "metadata": {},
     "output_type": "execute_result"
    }
   ],
   "source": [
    "# Compute the proportion of projects without a \"About this projects\" section\n",
    "(len(section1_df_full) - len(X_cleaned)) / len(section1_df_full)"
   ]
  },
  {
   "cell_type": "markdown",
   "metadata": {},
   "source": [
    "It looks like almost every project has an \"About this project\" section. After some digging, I discovered that the \"Risks and challenges\" became mandatory only a few years ago. I've elected to not include the \"Risks and challenges\" section in the feature space because of two reasons:\n",
    "\n",
    "1. A large proportion of the data is missing, which may skew the remaining projects that *do* contain this section.\n",
    "2. There have been many successful projects in the past that didn't have this section (as it wasn't required) such as the original [Pebble watch](https://www.kickstarter.com/projects/getpebble/pebble-e-paper-watch-for-iphone-and-android/description). \n",
    "\n",
    "### Standardizing the meta features\n",
    "\n",
    "Most machine learning models, besides tree-based models, only function if the features are standardized to have zero mean and unit variance, while others will converge faster. Therefore, let's go ahead and standardize the meta features of the first campaign section."
   ]
  },
  {
   "cell_type": "code",
   "execution_count": 10,
   "metadata": {
    "collapsed": true
   },
   "outputs": [],
   "source": [
    "# Standardize the meta features\n",
    "scaler = StandardScaler()\n",
    "X_std = scaler.fit_transform(X_cleaned)"
   ]
  },
  {
   "cell_type": "markdown",
   "metadata": {},
   "source": [
    "<a id=\"cell3\"></a>\n",
    "## 3. Building a design matrix for the $n$-gram model\n",
    "\n",
    "We can use the normalized text data from each project's \"About this project\" section to build an $n$-gram model to determine the specific words or pairs of words that are most predictive of funded projects. These contextual data may improve the model's performance if added to the meta features.\n",
    "\n",
    "It's possible that the $n$-gram model might pick up noise or convey irrelevant information because they probe into the context of the campaign section, which likely includes particular terms linked to the project category. However, building a tailored model for the 100+ categories will be tedious. Nevertheless, to build the $n$-gram model, we'll need to perform some additional preprocessing.\n",
    "\n",
    "1. Remove punctuation\n",
    "2. Lowercase the text\n",
    "3. Remove stop words\n",
    "4. Stem remaining words"
   ]
  },
  {
   "cell_type": "code",
   "execution_count": 11,
   "metadata": {
    "collapsed": true
   },
   "outputs": [],
   "source": [
    "def preprocess_text(text):\n",
    "    # Access stop word dictionary\n",
    "    stop_words = set(nltk.corpus.stopwords.words('english'))\n",
    "\n",
    "    # Prepare the Porter stemmer\n",
    "    porter = nltk.PorterStemmer()\n",
    "    \n",
    "    # Remove punctuation and lowercase each word\n",
    "    text = feature_engineering.remove_punc(text).lower()\n",
    "    \n",
    "    # Remove stop words and stem each word\n",
    "    return ' '.join(\n",
    "        porter.stem(term )\n",
    "        for term in text.split()\n",
    "        if term not in stop_words\n",
    "    )"
   ]
  },
  {
   "cell_type": "markdown",
   "metadata": {},
   "source": [
    "Let's go ahead and preprocess the campaign section for each project."
   ]
  },
  {
   "cell_type": "code",
   "execution_count": 12,
   "metadata": {
    "collapsed": true
   },
   "outputs": [],
   "source": [
    "# Preprocess text\n",
    "#preprocessed_text = section1_df_full.loc[X_cleaned.index, 'normalized_text'] \\\n",
    "#    .apply(preprocess_text)\n",
    "\n",
    "# Alternatively load a pickle that contains the already preprocessed text \n",
    "preprocessed_text = joblib.load('data/nlp/preprocessed_text_training_set.pkl')"
   ]
  },
  {
   "cell_type": "markdown",
   "metadata": {},
   "source": [
    "For the $n$-gram model, I've elected to use unigrams and bigrams quantified using the tf-idf statistic and then selecting the top 250 features measured by term frequency. The reason for fewer $n$-grams is to a) avoid overfitting and b) prevent the model from having too much contextual data when making a prediction. "
   ]
  },
  {
   "cell_type": "code",
   "execution_count": 13,
   "metadata": {
    "collapsed": true
   },
   "outputs": [],
   "source": [
    "# Construct a design matrix using an n-gram model and tf-idf statistics\n",
    "#vectorizer = TfidfVectorizer(ngram_range=(1, 2), max_features=250)\n",
    "#X_ngrams = vectorizer.fit_transform(preprocessed_text)\n",
    "#joblib.dump(vectorizer, 'vectorizer_250.pkl')\n",
    "#joblib.dump(X_ngrams, 'X_ngrams_250.pkl')\n",
    "\n",
    "# Alternatively we can load a pickle that contains the already constructed \n",
    "# n-grams and vectorizer\n",
    "X_ngrams = joblib.load('data/nlp/X_ngrams_250.pkl')\n",
    "vectorizer = joblib.load('data/nlp/vectorizer_250.pkl')"
   ]
  },
  {
   "cell_type": "markdown",
   "metadata": {},
   "source": [
    "### Combining meta features with $n$-grams\n",
    "\n",
    "Since the meta features are housed in a Numpy array while the $n$-grams are inside a Scipy sparse matrix, we need to convert the former into a sparse matrix and then concatenate all the features together."
   ]
  },
  {
   "cell_type": "code",
   "execution_count": 14,
   "metadata": {},
   "outputs": [
    {
     "data": {
      "text/plain": [
       "(24527, 269)"
      ]
     },
     "execution_count": 14,
     "metadata": {},
     "output_type": "execute_result"
    }
   ],
   "source": [
    "# Convert the meta features into a sparse matrix\n",
    "X_std_sparse = sparse.csr_matrix(X_std)\n",
    "\n",
    "# Concatenate the meta features with the n-grams\n",
    "X_full = sparse.hstack([X_std_sparse, X_ngrams])\n",
    "\n",
    "# Display the shape of the combined matrix for confirmation\n",
    "X_full.shape"
   ]
  },
  {
   "cell_type": "markdown",
   "metadata": {},
   "source": [
    "<a id=\"cell4\"></a>\n",
    "## 4. Preparing the target variable\n",
    "\n",
    "Let's select all rows of the regression target variable `percent_funded` that correspond to the rows in the cleaned design matrix."
   ]
  },
  {
   "cell_type": "code",
   "execution_count": 15,
   "metadata": {
    "collapsed": true
   },
   "outputs": [],
   "source": [
    "# Prepare the regression target variable\n",
    "y_reg = section1_df_full.loc[X_cleaned.index, 'percent_funded'].to_frame()"
   ]
  },
  {
   "cell_type": "markdown",
   "metadata": {},
   "source": [
    "Since some of the regression models expect the target variable to be normally distributed, let's take a look at the distribution of `percent_funded`."
   ]
  },
  {
   "cell_type": "code",
   "execution_count": 16,
   "metadata": {},
   "outputs": [
    {
     "data": {
      "image/png": "[encoded data removed]",
      "text/plain": [
       "<matplotlib.figure.Figure at 0x7fd8ff5b7ac8>"
      ]
     },
     "metadata": {},
     "output_type": "display_data"
    }
   ],
   "source": [
    "# Display a histogram of the regression target variable\n",
    "sns.distplot(y_reg['percent_funded'], kde=False);"
   ]
  },
  {
   "cell_type": "markdown",
   "metadata": {},
   "source": [
    "The histogram is clearly skewed to the right, meaning we have some large outliers. Let's zoom in on the left side."
   ]
  },
  {
   "cell_type": "code",
   "execution_count": 17,
   "metadata": {},
   "outputs": [
    {
     "data": {
      "image/png": "[encoded data removed]",
      "text/plain": [
       "<matplotlib.figure.Figure at 0x7fd8ff40c908>"
      ]
     },
     "metadata": {},
     "output_type": "display_data"
    }
   ],
   "source": [
    "# Display a kde plot of the regression target variable\n",
    "sns.distplot(\n",
    "    y_reg[y_reg['percent_funded'] < 5000]['percent_funded'],\n",
    "    kde=False\n",
    ");"
   ]
  },
  {
   "cell_type": "markdown",
   "metadata": {},
   "source": [
    "Still not enough, let's zoom in further."
   ]
  },
  {
   "cell_type": "code",
   "execution_count": 18,
   "metadata": {},
   "outputs": [
    {
     "data": {
      "image/png": "[encoded data removed]",
      "text/plain": [
       "<matplotlib.figure.Figure at 0x7fd8fe9d0d68>"
      ]
     },
     "metadata": {},
     "output_type": "display_data"
    }
   ],
   "source": [
    "# Display a kde plot of the regression target variable\n",
    "sns.distplot(\n",
    "    y_reg[y_reg['percent_funded'] < 10]['percent_funded'],\n",
    "    kde=False\n",
    ");"
   ]
  },
  {
   "cell_type": "markdown",
   "metadata": {},
   "source": [
    "Clearly, the regression target variable has a bimodal distribution. Interestingly, about 50% of the projects raise little or no funding, while about 25% barely reach the goal or come very near it. \n",
    "\n",
    "We can't apply standard regression techniques on the regression target variable. One option would be to separate the two distributions, label them and then perform classification. However, not only would we lose a lot of information, we'd lose the remaining 25% of the data that isn't found in the bimodal distribution. This seems like a risky proposition, therefore, let's turn to the original classification approach.\n",
    "\n",
    "### Encoding the target variable for classification\n",
    "\n",
    "For classification tasks, the models in Scikit-learn will work only if the classification target variable is encoded numerically. To do so, let's first select all rows of `funded` that correspond to the rows in the cleaned design matrix."
   ]
  },
  {
   "cell_type": "code",
   "execution_count": 19,
   "metadata": {
    "collapsed": true
   },
   "outputs": [],
   "source": [
    "# Prepare the classification target variable\n",
    "y = section1_df_full.loc[X_cleaned.index, 'funded'].to_frame()"
   ]
  },
  {
   "cell_type": "markdown",
   "metadata": {},
   "source": [
    "Before encoding the classification target variable, let's take a peek at the class distribution."
   ]
  },
  {
   "cell_type": "code",
   "execution_count": 20,
   "metadata": {},
   "outputs": [
    {
     "data": {
      "text/plain": [
       "False    13894\n",
       "True     10633\n",
       "Name: funded, dtype: int64"
      ]
     },
     "execution_count": 20,
     "metadata": {},
     "output_type": "execute_result"
    }
   ],
   "source": [
    "# Display the class distribution\n",
    "y['funded'].value_counts()"
   ]
  },
  {
   "cell_type": "markdown",
   "metadata": {},
   "source": [
    "The funded projects are distributed about 3 to 7, which is just slightly imbalanced. We'll keep this mind when choosing a performance metric. Finally, let's encode the target variable."
   ]
  },
  {
   "cell_type": "code",
   "execution_count": 21,
   "metadata": {
    "collapsed": true
   },
   "outputs": [],
   "source": [
    "# Encode the class labels in the target variable\n",
    "le = LabelEncoder()\n",
    "y_enc = le.fit_transform(y.values.ravel())"
   ]
  },
  {
   "cell_type": "markdown",
   "metadata": {},
   "source": [
    "<a id=\"cell5\"></a>\n",
    "## 5. Evaluating models\n",
    "\n",
    "We'll approach the modeling with Occam's razor in mind and start with those models that are\n",
    "- parametric - fast to train, less prone to overfitting\n",
    "- linear - text-based data is typically linearly separable\n",
    "- explainable - it's preferable for the creator to understand how the model made its prediction as much as possible\n",
    "\n",
    "As a starting point, we'll only train a model on the meta features. Out of curiosity, let's see how an ordinary least squares regression performs on the data as it stands using the correlation of determination $R^2$ as the performance metric."
   ]
  },
  {
   "cell_type": "code",
   "execution_count": 22,
   "metadata": {},
   "outputs": [
    {
     "name": "stdout",
     "output_type": "stream",
     "text": [
      "R^2: -0.3824099497958189 +/- 0.4473846887991476\n"
     ]
    }
   ],
   "source": [
    "# Cross-validate an OLS regression model\n",
    "scores = cross_val_score(\n",
    "    estimator=LinearRegression(),\n",
    "    X=X_std,\n",
    "    y=y_reg,\n",
    "    cv=ShuffleSplit(n_splits=10, test_size=0.2, random_state=41),\n",
    "    scoring='r2',\n",
    "    n_jobs=-1\n",
    ")\n",
    "\n",
    "# Display the average and standard deviation of the cross-validation scores\n",
    "print('R^2: {} +/- {}'.format(scores.mean(), scores.std()))"
   ]
  },
  {
   "cell_type": "markdown",
   "metadata": {},
   "source": [
    "We clearly see the model is highly unstable&mdash;a likely result of the bimodal distribution of the regression target variable. \n",
    "\n",
    "### Evaluating classifiers using only meta features\n",
    "\n",
    "We'll use a randomized 10-fold cross-validation strategy with a 80/20 training/test set split in each fold. Because the classes are imbalanced, we need to incorporate stratification in the splitting process.\n",
    "\n",
    "Predicting that a project will be funded when it actually ends up not being funded (false positive) is a more egregious error than the opposite (false negative). A false positive will engender disappointment and distrust in the model; on the other hand, a creator isn't likely to be swayed with a false negative&mdash;it's unlikely that anyone would abandon the painstaking efforts on their Kickstarter project after receiving an estimate from a single website! Therefore, we should aim to optimize precision, which focuses on false positives, and select this as the performance metric for classification."
   ]
  },
  {
   "cell_type": "code",
   "execution_count": 23,
   "metadata": {},
   "outputs": [
    {
     "name": "stdout",
     "output_type": "stream",
     "text": [
      "Precision: 0.656500077655795 +/- 0.011889120916948213\n"
     ]
    }
   ],
   "source": [
    "# Cross-validate a logistic regression model\n",
    "scores = cross_val_score(\n",
    "    estimator=LogisticRegression(),\n",
    "    X=X_std,\n",
    "    y=y_enc,\n",
    "    cv=StratifiedShuffleSplit(n_splits=10, test_size=0.2, random_state=41),\n",
    "    scoring='precision',\n",
    "    n_jobs=-1\n",
    ")\n",
    "\n",
    "# Display the average and standard deviation of the cross-validation scores\n",
    "print('Precision: {} +/- {}'.format(scores.mean(), scores.std()))"
   ]
  },
  {
   "cell_type": "markdown",
   "metadata": {},
   "source": [
    "An precision score of 0.66 is a decent start, especially considering a dummy classifier respecting the class distribution can't beat 0.44. Let's see where the model is making mistakes using a normalized confusion matrix."
   ]
  },
  {
   "cell_type": "code",
   "execution_count": 24,
   "metadata": {
    "scrolled": false
   },
   "outputs": [
    {
     "data": {
      "text/html": [
       "<div>\n",
       "<style>\n",
       "    .dataframe thead tr:only-child th {\n",
       "        text-align: right;\n",
       "    }\n",
       "\n",
       "    .dataframe thead th {\n",
       "        text-align: left;\n",
       "    }\n",
       "\n",
       "    .dataframe tbody tr th {\n",
       "        vertical-align: top;\n",
       "    }\n",
       "</style>\n",
       "<table border=\"1\" class=\"dataframe\">\n",
       "  <thead>\n",
       "    <tr>\n",
       "      <th></th>\n",
       "      <th></th>\n",
       "      <th colspan=\"2\" halign=\"left\">predicted</th>\n",
       "    </tr>\n",
       "    <tr>\n",
       "      <th></th>\n",
       "      <th></th>\n",
       "      <th>unfunded</th>\n",
       "      <th>funded</th>\n",
       "    </tr>\n",
       "  </thead>\n",
       "  <tbody>\n",
       "    <tr>\n",
       "      <th rowspan=\"2\" valign=\"top\">actual</th>\n",
       "      <th>unfunded</th>\n",
       "      <td>0.85</td>\n",
       "      <td>0.15</td>\n",
       "    </tr>\n",
       "    <tr>\n",
       "      <th>funded</th>\n",
       "      <td>0.64</td>\n",
       "      <td>0.36</td>\n",
       "    </tr>\n",
       "  </tbody>\n",
       "</table>\n",
       "</div>"
      ],
      "text/plain": [
       "                predicted       \n",
       "                 unfunded funded\n",
       "actual unfunded      0.85   0.15\n",
       "       funded        0.64   0.36"
      ]
     },
     "execution_count": 24,
     "metadata": {},
     "output_type": "execute_result"
    }
   ],
   "source": [
    "# Make cross-validated predictions for the training set\n",
    "y_pred = cross_val_predict(\n",
    "    estimator=LogisticRegression(),\n",
    "    X=X_std,\n",
    "    y=y_enc,\n",
    "    n_jobs=-1\n",
    ")\n",
    "\n",
    "# Compute the confusion matrix\n",
    "cm = metrics.confusion_matrix(y_enc, y_pred)\n",
    "\n",
    "# Display a normalized confusion matrix\n",
    "pd.DataFrame(\n",
    "    np.round(cm.astype('float') / cm.sum(axis=1)[:, np.newaxis], 2),\n",
    "    index=[['actual', 'actual'], ['unfunded', 'funded']],\n",
    "    columns=[['predicted', 'predicted'], ['unfunded', 'funded']]\n",
    ")"
   ]
  },
  {
   "cell_type": "markdown",
   "metadata": {},
   "source": [
    "It looks like the the model does a great job with false positives, the primary concern. However, it does make a lot of false negatives. Again, these are less of a concern&mdash;it's acceptable if some projects that end up getting funded slip through the cracks. \n",
    "\n",
    "### Adding $n$-grams to the feature space\n",
    "\n",
    "Let's see if incorporating $n$-grams into the feature space improves performance."
   ]
  },
  {
   "cell_type": "code",
   "execution_count": 25,
   "metadata": {},
   "outputs": [
    {
     "name": "stdout",
     "output_type": "stream",
     "text": [
      "Precision: 0.7006877593195074 +/- 0.00705985099426893\n"
     ]
    }
   ],
   "source": [
    "# Cross-validate a logistic regression model\n",
    "scores = cross_val_score(\n",
    "    estimator=LogisticRegression(),\n",
    "    X=X_full,\n",
    "    y=y_enc,\n",
    "    cv=StratifiedShuffleSplit(n_splits=10, test_size=0.2, random_state=41),\n",
    "    scoring='precision',\n",
    "    n_jobs=-1\n",
    ")\n",
    "\n",
    "# Display the average and standard deviation of the cross-validation scores\n",
    "print('Precision: {} +/- {}'.format(scores.mean(), scores.std()))"
   ]
  },
  {
   "cell_type": "markdown",
   "metadata": {},
   "source": [
    "It looks like the precision jumps up a bit. Let's see what kind of mistakes are being made now that we included $n$-grams."
   ]
  },
  {
   "cell_type": "code",
   "execution_count": 26,
   "metadata": {
    "scrolled": true
   },
   "outputs": [
    {
     "data": {
      "text/html": [
       "<div>\n",
       "<style>\n",
       "    .dataframe thead tr:only-child th {\n",
       "        text-align: right;\n",
       "    }\n",
       "\n",
       "    .dataframe thead th {\n",
       "        text-align: left;\n",
       "    }\n",
       "\n",
       "    .dataframe tbody tr th {\n",
       "        vertical-align: top;\n",
       "    }\n",
       "</style>\n",
       "<table border=\"1\" class=\"dataframe\">\n",
       "  <thead>\n",
       "    <tr>\n",
       "      <th></th>\n",
       "      <th></th>\n",
       "      <th colspan=\"2\" halign=\"left\">predicted</th>\n",
       "    </tr>\n",
       "    <tr>\n",
       "      <th></th>\n",
       "      <th></th>\n",
       "      <th>unfunded</th>\n",
       "      <th>funded</th>\n",
       "    </tr>\n",
       "  </thead>\n",
       "  <tbody>\n",
       "    <tr>\n",
       "      <th rowspan=\"2\" valign=\"top\">actual</th>\n",
       "      <th>unfunded</th>\n",
       "      <td>0.79</td>\n",
       "      <td>0.21</td>\n",
       "    </tr>\n",
       "    <tr>\n",
       "      <th>funded</th>\n",
       "      <td>0.35</td>\n",
       "      <td>0.65</td>\n",
       "    </tr>\n",
       "  </tbody>\n",
       "</table>\n",
       "</div>"
      ],
      "text/plain": [
       "                predicted       \n",
       "                 unfunded funded\n",
       "actual unfunded      0.79   0.21\n",
       "       funded        0.35   0.65"
      ]
     },
     "execution_count": 26,
     "metadata": {},
     "output_type": "execute_result"
    }
   ],
   "source": [
    "# Make cross-validated predictions for the training set\n",
    "y_pred = cross_val_predict(\n",
    "    estimator=LogisticRegression(),\n",
    "    X=X_full,\n",
    "    y=y_enc,\n",
    "    n_jobs=-1\n",
    ")\n",
    "\n",
    "# Compute the confusion matrix\n",
    "cm2 = metrics.confusion_matrix(y_enc, y_pred)\n",
    "\n",
    "# Display a normalized confusion matrix\n",
    "pd.DataFrame(\n",
    "    np.round(cm2.astype('float') / cm2.sum(axis=1)[:, np.newaxis], 2),\n",
    "    index=[['actual', 'actual'], ['unfunded', 'funded']],\n",
    "    columns=[['predicted', 'predicted'], ['unfunded', 'funded']]\n",
    ")"
   ]
  },
  {
   "cell_type": "markdown",
   "metadata": {},
   "source": [
    "By adding $n$-grams into the features, we increase the false positive rate by 6% points, but improve the true positive rate by 31% and also decrease the false negative rate by 29%! This also explains the jump in precision. The slight increase in false positive rate is an acceptable trade-off&mdash;we'll continue onwards using both meta features and $n$-grams for model training. \n",
    "\n",
    "<a id=\"cell6\"></a>\n",
    "## 6. Diagnosing the classifier\n",
    "\n",
    "### Computing learning curves to assess high bias or variance\n",
    "\n",
    "Because the model is performing relatively well even prior to applying regularization, let's examine whether the classifier is suffering from high variance and overfitting. We can assess this potential issue using learning curves."
   ]
  },
  {
   "cell_type": "code",
   "execution_count": 27,
   "metadata": {
    "collapsed": true
   },
   "outputs": [],
   "source": [
    "# Select 10 different sizes of the complete dataset\n",
    "sample_space = np.linspace(100, len(X_std) * 0.8, 10, dtype='int')\n",
    "\n",
    "# Compute learning curves without regularization\n",
    "train_sizes, train_scores, valid_scores = learning_curve(\n",
    "    estimator=LogisticRegression(C=1e10),\n",
    "    X=X_full,\n",
    "    y=y_enc,\n",
    "    train_sizes=sample_space,\n",
    "    cv=StratifiedShuffleSplit(n_splits=10, test_size=0.2, random_state=41),\n",
    "    scoring='precision',\n",
    "    n_jobs=-1\n",
    ")"
   ]
  },
  {
   "cell_type": "markdown",
   "metadata": {},
   "source": [
    "To display the learning curves, we'll need to transform the results into tidy format. Let's define a function that performs this transformation."
   ]
  },
  {
   "cell_type": "code",
   "execution_count": 28,
   "metadata": {
    "collapsed": true
   },
   "outputs": [],
   "source": [
    "def make_tidy(sample_space, train_scores, valid_scores):\n",
    "    # Join train_scores and valid_scores, and label with sample_space\n",
    "    messy_format = pd.DataFrame(\n",
    "        np.stack((sample_space, train_scores.mean(axis=1),\n",
    "                  valid_scores.mean(axis=1)), axis=1),\n",
    "        columns=['# of training examples', 'Training set', 'Validation set']\n",
    "    )\n",
    "    \n",
    "    # Re-structure into into tidy format\n",
    "    return pd.melt(\n",
    "        messy_format,\n",
    "        id_vars='# of training examples',\n",
    "        value_vars=['Training set', 'Validation set'],\n",
    "        var_name='Scores',\n",
    "        value_name='Precision score'\n",
    "    )"
   ]
  },
  {
   "cell_type": "markdown",
   "metadata": {},
   "source": [
    "We're now ready to plot the learning curves."
   ]
  },
  {
   "cell_type": "code",
   "execution_count": 29,
   "metadata": {},
   "outputs": [
    {
     "data": {
      "image/png": "[encoded data removed]",
      "text/plain": [
       "<matplotlib.figure.Figure at 0x7fd8f27b58d0>"
      ]
     },
     "metadata": {},
     "output_type": "display_data"
    }
   ],
   "source": [
    "# Initialize a FacetGrid object using the table of scores and facet on\n",
    "# the score from the different sets\n",
    "fig = sns.FacetGrid(\n",
    "    make_tidy(sample_space, train_scores, valid_scores), hue='Scores', size=5\n",
    ")\n",
    "\n",
    "# Plot the learning curves, add a legend, and rescale y-axis\n",
    "fig.map(plt.scatter, '# of training examples', 'Precision score')\n",
    "fig.map(plt.plot, '# of training examples', 'Precision score') \\\n",
    "    .add_legend() \\\n",
    "    .set(ylim=(0.5, 1));"
   ]
  },
  {
   "cell_type": "markdown",
   "metadata": {},
   "source": [
    "The learning curves converge quickly to a respectable precision score but potentially could do even better with more training examples. This suggests the model isn't suffering from high variance and therefore, not overfitting. Instead of adding more training examples, let's first try tuning the regularization hyperparamter.\n",
    "\n",
    "### Computing a calibration curve to assess reliability\n",
    "\n",
    "In order to determine if the probability estimates are reliable, we can compute a calibration curve. For a classifier with perfect calibration, we'd like to classify the projects such that those projects to which the model gave a probability value close to $p$, approximately $p$% of those projects were actually funded."
   ]
  },
  {
   "cell_type": "code",
   "execution_count": 30,
   "metadata": {
    "collapsed": true
   },
   "outputs": [],
   "source": [
    "# Make cross-validated probability predictions for the training set\n",
    "y_pred = cross_val_predict(\n",
    "    estimator=LogisticRegression(),\n",
    "    X=X_full,\n",
    "    y=y_enc,\n",
    "    n_jobs=-1,\n",
    "    method='predict_proba'\n",
    ")\n",
    "\n",
    "# Compute a calibration curve\n",
    "fraction_of_positives, mean_predicted_value = calibration_curve(\n",
    "    y_enc,\n",
    "    y_pred[:, 1],\n",
    "    n_bins=10\n",
    ")\n",
    "\n",
    "calibration_df = pd.DataFrame(\n",
    "    [fraction_of_positives * 100, mean_predicted_value],\n",
    "    index=['% of funded projects', 'average predicted probability']\n",
    ").T"
   ]
  },
  {
   "cell_type": "markdown",
   "metadata": {},
   "source": [
    "Let's now plot the calibration curve."
   ]
  },
  {
   "cell_type": "code",
   "execution_count": 31,
   "metadata": {},
   "outputs": [
    {
     "data": {
      "image/png": "[encoded data removed]",
      "text/plain": [
       "<matplotlib.figure.Figure at 0x7fd9116d1f28>"
      ]
     },
     "metadata": {},
     "output_type": "display_data"
    }
   ],
   "source": [
    "# Initialize a FacetGrid object using the calibration curve\n",
    "fig = sns.FacetGrid(calibration_df, size=5, aspect=1.2)\n",
    "\n",
    "# Plot the calibration curve\n",
    "fig.map(\n",
    "    plt.scatter,\n",
    "    'average predicted probability',\n",
    "    '% of funded projects',\n",
    "    s=125\n",
    ")\n",
    "fig.map(plt.plot,\n",
    "        'average predicted probability',\n",
    "        '% of funded projects', \n",
    "        linewidth=2.5\n",
    "       )\n",
    "\n",
    "# Change the ticks for the axes\n",
    "fig.set(xlim=(-0.05, 1.05), ylim=(-5, 105))\n",
    "\n",
    "# Plot the reference curve for perfect calibration\n",
    "plt.plot([0, 1], [0, 100], color='red', linestyle='dashed', linewidth=1.5)\n",
    "\n",
    "# Save the plot\n",
    "fig.savefig('calibration_curve.png', dpi=300);"
   ]
  },
  {
   "cell_type": "markdown",
   "metadata": {},
   "source": [
    "Clearly, the probability prediction is well-calibrated&mdash;this is typical for logistic regression and another reason why it's a great model for this problem.\n",
    "\n",
    "<a id=\"cell7\"></a>\n",
    "## 7. Using nested cross-validation to optimize hyperparameters\n",
    "\n",
    "We're now ready to optimize the regularization hyperparameter of the model. To do so, without optimistically biasing the model and leaking information about the test set into the training set, let's utilize nested cross-validation."
   ]
  },
  {
   "cell_type": "code",
   "execution_count": 32,
   "metadata": {},
   "outputs": [
    {
     "data": {
      "text/plain": [
       "array([ 0.71032609,  0.70515826,  0.68359788,  0.6961824 ,  0.72182121,\n",
       "        0.70260223,  0.70352069,  0.70453333,  0.71567436,  0.71368199])"
      ]
     },
     "execution_count": 32,
     "metadata": {},
     "output_type": "execute_result"
    }
   ],
   "source": [
    "# Select a range of values to test the regularization hyperparameter\n",
    "param_grid = [{'C': np.logspace(-3, 3, 10)}]\n",
    "\n",
    "# Inner cross-validation loop to tune the hyperparameter (a grid search model)\n",
    "grid_search = GridSearchCV(\n",
    "    estimator=LogisticRegression(),\n",
    "    param_grid=param_grid,\n",
    "    cv=StratifiedShuffleSplit(n_splits=10, test_size=0.2, random_state=41),\n",
    "    scoring='precision',\n",
    "    n_jobs=-1\n",
    ")\n",
    "\n",
    "# Outer cross-validation loop to assess model performance\n",
    "scores = cross_val_score(\n",
    "    estimator=grid_search,\n",
    "    X=X_full,\n",
    "    y=y_enc,\n",
    "    cv=StratifiedShuffleSplit(n_splits=10, test_size=0.2, random_state=41),\n",
    "    scoring='precision'\n",
    ")\n",
    "\n",
    "# Display cross-validation scores\n",
    "scores"
   ]
  },
  {
   "cell_type": "markdown",
   "metadata": {},
   "source": [
    "The scores across the different cross-validation folds don't vary much&mdash;this is a sign that the model is stable. Let's finish up by computing the average precision score and its standard deviation."
   ]
  },
  {
   "cell_type": "code",
   "execution_count": 33,
   "metadata": {
    "scrolled": true
   },
   "outputs": [
    {
     "name": "stdout",
     "output_type": "stream",
     "text": [
      "Precision: 0.705709844650363 +/- 0.010195987511092769\n"
     ]
    }
   ],
   "source": [
    "# Display the average precision score and its standard deviation\n",
    "print('Precision: {} +/- {}'.format(scores.mean(), scores.std()))"
   ]
  },
  {
   "cell_type": "markdown",
   "metadata": {},
   "source": [
    "<a id=\"cell8\"></a>\n",
    "## 8. Training a validated model\n",
    "\n",
    "To determine the features that were most predictive of funded projects, we first must identify the optimal regularization hyperparameter. Since nested cross-validation doesn't actually train any machine learning models, we must train the grid search model on the training set in order to access this hyperparameter."
   ]
  },
  {
   "cell_type": "code",
   "execution_count": 34,
   "metadata": {},
   "outputs": [
    {
     "data": {
      "text/plain": [
       "{'C': 0.021544346900318832}"
      ]
     },
     "execution_count": 34,
     "metadata": {},
     "output_type": "execute_result"
    }
   ],
   "source": [
    "# Train a grid search model to identify the optimal hyperparameter\n",
    "grid_search.fit(X_full, y_enc)\n",
    "\n",
    "# Display the optimal hyperparameter\n",
    "grid_search.best_params_"
   ]
  },
  {
   "cell_type": "markdown",
   "metadata": {},
   "source": [
    "Let's use this optimal hyperparameter value and train a model on the entire training set in order to minimize pessimistic bias."
   ]
  },
  {
   "cell_type": "code",
   "execution_count": 35,
   "metadata": {
    "collapsed": true
   },
   "outputs": [],
   "source": [
    "# Train the classifier on the entire dataset using the optimal hyperparameter\n",
    "final_clf = LogisticRegression(C=grid_search.best_params_['C'])\n",
    "final_clf.fit(X_full, y_enc);"
   ]
  },
  {
   "cell_type": "markdown",
   "metadata": {},
   "source": [
    "We can verify that the hyperparameter tuning was effective by re-plotting learning curves."
   ]
  },
  {
   "cell_type": "code",
   "execution_count": 36,
   "metadata": {},
   "outputs": [
    {
     "data": {
      "image/png": "[encoded data removed]",
      "text/plain": [
       "<matplotlib.figure.Figure at 0x7fd8f36bcf98>"
      ]
     },
     "metadata": {},
     "output_type": "display_data"
    }
   ],
   "source": [
    "# Select 10 different sizes of the complete dataset\n",
    "sample_space = np.linspace(15, len(X_std) * 0.8, 10, dtype='int')\n",
    "\n",
    "# Compute learning curves with the optimal regularization hyperparameter\n",
    "train_sizes, train_scores, valid_scores = learning_curve(\n",
    "    estimator=final_clf,\n",
    "    X=X_full,\n",
    "    y=y_enc,\n",
    "    train_sizes=sample_space,\n",
    "    cv=StratifiedShuffleSplit(n_splits=10, test_size=0.2, random_state=41),\n",
    "    scoring='precision',\n",
    "    n_jobs=-1\n",
    ")\n",
    "\n",
    "# Initialize a FacetGrid object using the table of scores and facet on\n",
    "# the score from the different sets\n",
    "fig = sns.FacetGrid(\n",
    "    make_tidy(sample_space, train_scores, valid_scores), hue='Scores', size=5\n",
    ")\n",
    "\n",
    "# Plot the learning curves, add a legend, and rescale y-axis\n",
    "fig.map(plt.scatter, '# of training examples', 'Precision score')\n",
    "fig.map(plt.plot, '# of training examples', 'Precision score') \\\n",
    "    .add_legend() \\\n",
    "    .set(ylim=(0.5, 1));"
   ]
  },
  {
   "cell_type": "markdown",
   "metadata": {},
   "source": [
    "Indeed, we have a well-performing model that isn't overfitting.\n",
    "\n",
    "<a id=\"cell9\"></a>\n",
    "## 9. Determining the top predictors of funded projects\n",
    "\n",
    "We can now examine the top 30 features that were most predictive of funded projects."
   ]
  },
  {
   "cell_type": "code",
   "execution_count": 37,
   "metadata": {},
   "outputs": [
    {
     "data": {
      "image/png": "[encoded data removed]",
      "text/plain": [
       "<matplotlib.figure.Figure at 0x7fd8ff532a20>"
      ]
     },
     "metadata": {},
     "output_type": "display_data"
    }
   ],
   "source": [
    "# Combine meta feature labels with n-gram labels\n",
    "all_features = features + vectorizer.get_feature_names()\n",
    "\n",
    "# Add the corresponding feature names to the parameters\n",
    "feature_ranks = pd.Series(\n",
    "    final_clf.coef_.T.ravel(),\n",
    "    index=all_features\n",
    ").sort_values(ascending=False)[:30]\n",
    "\n",
    "# Display a bar graph of the top 30 features\n",
    "feature_ranks.plot(kind='barh', legend=False, figsize=(4, 8));"
   ]
  },
  {
   "cell_type": "markdown",
   "metadata": {},
   "source": [
    "Clearly, there's a lot of contextual features extracted from specific product categories but some relevant $n$-grams are highly predictive of funded projects:\n",
    "\n",
    "- `dollramt` - This refers to dollar amounts found in the campaign section. Perhaps successful creators are reiterating the pledge awards.\n",
    "- `new`, `stretch`, `stretch goal`, `reward`, `goal` - These terms make sense since they're the appropriate jargon used for campaigns\n",
    "- `thank` - It looks like thanking the backers or readers is a good idea\n",
    "- `excit` - This is likely the word stem of \"exciting\", which is an innovation word that I could've included in the list\n",
    "\n",
    "Since there were no meta features in the top 30, let's examine them separately and see which were the most predictive of funded projects."
   ]
  },
  {
   "cell_type": "code",
   "execution_count": 38,
   "metadata": {},
   "outputs": [
    {
     "data": {
      "image/png": "[encoded data removed]",
      "text/plain": [
       "<matplotlib.figure.Figure at 0x7fd8ff03ca58>"
      ]
     },
     "metadata": {},
     "output_type": "display_data"
    }
   ],
   "source": [
    "# Add the corresponding meta feature names to the parameters\n",
    "meta_feature_ranks = pd.Series(\n",
    "    final_clf.coef_.T.ravel()[:len(features)],\n",
    "    index=features\n",
    ").sort_values(ascending=False)\n",
    "\n",
    "# Display a bar plot of the meta feature importance\n",
    "meta_feature_ranks.plot(kind='barh', legend=False, figsize=(4, 6));\n",
    "labels = [\n",
    "    '# of hyperlinks',\n",
    "    '# of images',\n",
    "    '# of innovation words',\n",
    "    '# of exclamation marks',\n",
    "    '% of text bolded', \n",
    "    '# of words',\n",
    "    '# of YouTube videos',\n",
    "    '% of exclamation marks',\n",
    "    '# of sentences',\n",
    "    '# of GIFs',\n",
    "    '% innovation words',\n",
    "    '# of all-caps words',\n",
    "    '# of bold tags',\n",
    "    '% all-caps words',\n",
    "    '# of videos',\n",
    "    'Avg words/paragraph',\n",
    "    '# of paragraphs',\n",
    "    'Avg words/sentence',\n",
    "    'Avg sentences/paragraph'    \n",
    "]\n",
    "plt.yticks(np.arange(19), labels);"
   ]
  },
  {
   "cell_type": "markdown",
   "metadata": {},
   "source": [
    "It looks like the most predictive meta feature is the number of hyperlinks. Since many successful projects were covered by the news media and the hyperlinks to those articles were included in the campaign, this makes sense. And my hypothesis about having innovation words was correct! \n",
    "\n",
    "Some of the more expected features appeared as strong predictors: bolded text, exclamation marks, innovation words, and images. However, for bolded text, having a high proportion of bold text is better than hitting some absolute count, whereas for images, innovation words and exclamation marks, it's a good idea for creators to use them often! Finally, the length of the campaign was also a good predictor of success, which indirectly correlates to how much effort the creator spent on the campaign.\n",
    "\n",
    "Surprisingly, all-caps words and GIFs weren't strong predictors. However, my regex for all-caps could've picked up abbreviations. And I guess GIFs don't seem professional and fail to build trust.\n",
    "\n",
    "Some of the best ways to not get funded were to increase sentence/word density and paragraph counts. This is clearly hinting that writing fewer succinct paragraphs and sentences is a good idea!\n",
    "\n",
    "<a id=\"cell10\"></a>\n",
    "## 10. Testing Kickstarter pages\n",
    "\n",
    "Let's engineer features for a sample Kickstarter page, such as the [Pebble 2](https://www.kickstarter.com/projects/getpebble/pebble-2-time-2-and-core-an-entirely-new-3g-ultra), and insert the prepared feature vector and target variable into the trained model to see how it evaluates a project that is known to be successful."
   ]
  },
  {
   "cell_type": "code",
   "execution_count": 39,
   "metadata": {
    "collapsed": true
   },
   "outputs": [],
   "source": [
    "# Select a hyperlink\n",
    "hyperlink = 'https://www.kickstarter.com/projects/getpebble/pebble' + \\\n",
    "    '-2-time-2-and-core-an-entirely-new-3g-ultra'"
   ]
  },
  {
   "cell_type": "code",
   "execution_count": 40,
   "metadata": {},
   "outputs": [
    {
     "data": {
      "text/plain": [
       "0.95769554710282279"
      ]
     },
     "execution_count": 40,
     "metadata": {},
     "output_type": "execute_result"
    }
   ],
   "source": [
    "# Compute the meta features and preprocess the campaign section\n",
    "meta_features, processed_section = feature_engineering.process_project(\n",
    "    hyperlink\n",
    ")\n",
    "\n",
    "# Compute the n-grams from the preprocessed text\n",
    "ngrams = vectorizer.transform([processed_section])\n",
    "\n",
    "# Standardize the meta features and convert results into a sparse matrix\n",
    "scaled_meta_features = sparse.csr_matrix(scaler.transform([meta_features]))\n",
    "\n",
    "# Concatenate the meta features with the n-gram vector\n",
    "feature_vector = sparse.hstack([scaled_meta_features, ngrams])\n",
    "\n",
    "# Display the probability of being funded\n",
    "final_clf.predict_proba(feature_vector)[0, 1]"
   ]
  }
 ],
 "metadata": {
  "kernelspec": {
   "display_name": "Python 3",
   "language": "python",
   "name": "python3"
  },
  "language_info": {
   "codemirror_mode": {
    "name": "ipython",
    "version": 3
   },
   "file_extension": ".py",
   "mimetype": "text/x-python",
   "name": "python",
   "nbconvert_exporter": "python",
   "pygments_lexer": "ipython3",
   "version": "3.6.2"
  }
 },
 "nbformat": 4,
 "nbformat_minor": 2
}
