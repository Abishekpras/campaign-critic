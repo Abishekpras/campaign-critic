{
 "cells": [
  {
   "cell_type": "markdown",
   "metadata": {},
   "source": [
    "# Developing a machine learning strategy\n",
    "\n",
    "**Goal: Research and validate models for predicting whether a Kickstarter project will be funded based on the campaign.** \n",
    "\n",
    "## Table of contents\n",
    "1. [Loading the data](#cell1)\n",
    "2. [Building the design matrix for meta features](#cell2)\n",
    "3. [Building a design matrix for the $n$-gram model](#cell3)\n",
    "4. [Preparing the target variable](#cell4)\n",
    "5. [Evaluating models](#cell5)\n",
    "7. [Diagnosing the classifier](#cell6)\n",
    "8. [Using nested cross-validation to optimize hyperparameters](#cell7)\n",
    "9. [Training a validated model](#cell8)\n",
    "10. [Determining the top predictors of funded projects](#cell9)\n",
    "11. [Testing Kickstarter pages](#cell10)\n",
    "\n",
    "<a id=\"cell1\"></a>\n",
    "## 1. Loading the data"
   ]
  },
  {
   "cell_type": "code",
   "execution_count": 1,
   "metadata": {
    "collapsed": true
   },
   "outputs": [],
   "source": [
    "# Load required libraries\n",
    "import numpy as np\n",
    "import pandas as pd\n",
    "import matplotlib.pyplot as plt\n",
    "import seaborn as sns\n",
    "import psycopg2\n",
    "import nltk\n",
    "import feature_engineering\n",
    "from scipy import sparse\n",
    "from sklearn.preprocessing import LabelEncoder, StandardScaler\n",
    "from sklearn import metrics\n",
    "from sklearn.linear_model import SGDRegressor, SGDClassifier\n",
    "from sklearn.externals import joblib\n",
    "from sklearn.feature_extraction.text import TfidfVectorizer\n",
    "from sklearn.model_selection import (\n",
    "    learning_curve, StratifiedShuffleSplit, cross_val_score, ShuffleSplit,\n",
    "    cross_val_predict, RandomizedSearchCV\n",
    ")\n",
    "\n",
    "# Set figure display options\n",
    "%matplotlib inline\n",
    "sns.set(context='notebook', style='darkgrid')\n",
    "sns.set(font_scale=1.3)"
   ]
  },
  {
   "cell_type": "markdown",
   "metadata": {},
   "source": [
    "The training set for both campaign sections are stored in PostgreSQL databases. Let's begin by loading the credentials to connect to the databases."
   ]
  },
  {
   "cell_type": "code",
   "execution_count": 2,
   "metadata": {
    "collapsed": true
   },
   "outputs": [],
   "source": [
    "# Set database credentials\n",
    "db_name1 = 'section1_db'\n",
    "db_name2 = 'section2_db'\n",
    "usernm = 'redwan'\n",
    "host = 'localhost'\n",
    "port = '5432'\n",
    "#pwd = ''"
   ]
  },
  {
   "cell_type": "markdown",
   "metadata": {},
   "source": [
    "Next we'll query all the data for both campaign sections and store them locally."
   ]
  },
  {
   "cell_type": "code",
   "execution_count": 3,
   "metadata": {
    "collapsed": true
   },
   "outputs": [],
   "source": [
    "# Connect to database containing the \"About this project\" section\n",
    "con1 = psycopg2.connect(\n",
    "    database=db_name1, \n",
    "    host='localhost',\n",
    "    user=usernm,\n",
    "    password=pwd\n",
    ")\n",
    "\n",
    "# Connect to database containing the \"Risks and challenges\" section\n",
    "con2 = psycopg2.connect(\n",
    "    database=db_name2, \n",
    "    host='localhost',\n",
    "    user=usernm,\n",
    "    password=pwd\n",
    ")\n",
    "\n",
    "# Query all data from both campaign sections\n",
    "sql_query1 = 'SELECT * FROM section1_db;'\n",
    "sql_query2 = 'SELECT * FROM section2_db;'\n",
    "section1_df_full = pd.read_sql_query(sql_query1, con1)\n",
    "section2_df_full = pd.read_sql_query(sql_query2, con2)"
   ]
  },
  {
   "cell_type": "markdown",
   "metadata": {},
   "source": [
    "### Regression vs. classification\n",
    "\n",
    "We can either approach this problem as a classification task and attempt to predict whether a project will be funded or not. Another option is to predict what % of the goal will the project reach and therefore, approach the problem as a regression task. \n",
    "\n",
    "Let's start with the latter since it's more interesting. We'll begin by defining a new target variable `percent_funded` to compute what % of the goal was reached for each project."
   ]
  },
  {
   "cell_type": "code",
   "execution_count": 4,
   "metadata": {},
   "outputs": [
    {
     "data": {
      "text/html": [
       "<div>\n",
       "<style>\n",
       "    .dataframe thead tr:only-child th {\n",
       "        text-align: right;\n",
       "    }\n",
       "\n",
       "    .dataframe thead th {\n",
       "        text-align: left;\n",
       "    }\n",
       "\n",
       "    .dataframe tbody tr th {\n",
       "        vertical-align: top;\n",
       "    }\n",
       "</style>\n",
       "<table border=\"1\" class=\"dataframe\">\n",
       "  <thead>\n",
       "    <tr style=\"text-align: right;\">\n",
       "      <th></th>\n",
       "      <th>level_0</th>\n",
       "      <th>index</th>\n",
       "      <th>num_sents</th>\n",
       "      <th>num_words</th>\n",
       "      <th>num_all_caps</th>\n",
       "      <th>percent_all_caps</th>\n",
       "      <th>num_exclms</th>\n",
       "      <th>percent_exclms</th>\n",
       "      <th>num_apple_words</th>\n",
       "      <th>percent_apple_words</th>\n",
       "      <th>...</th>\n",
       "      <th>normalized_text</th>\n",
       "      <th>name</th>\n",
       "      <th>category</th>\n",
       "      <th>hyperlink</th>\n",
       "      <th>currency</th>\n",
       "      <th>pledged</th>\n",
       "      <th>goal</th>\n",
       "      <th>location</th>\n",
       "      <th>funded</th>\n",
       "      <th>percent_funded</th>\n",
       "    </tr>\n",
       "  </thead>\n",
       "  <tbody>\n",
       "    <tr>\n",
       "      <th>0</th>\n",
       "      <td>0</td>\n",
       "      <td>88389</td>\n",
       "      <td>15.0</td>\n",
       "      <td>223.0</td>\n",
       "      <td>0.0</td>\n",
       "      <td>0.0</td>\n",
       "      <td>3.0</td>\n",
       "      <td>0.013453</td>\n",
       "      <td>0.0</td>\n",
       "      <td>0.0</td>\n",
       "      <td>...</td>\n",
       "      <td>I am a numbr year old woman who was a general ...</td>\n",
       "      <td>Help me start my cottage industry ... Bakesale...</td>\n",
       "      <td>Small Batch</td>\n",
       "      <td>https://www.kickstarter.com/projects/138529431...</td>\n",
       "      <td>USD</td>\n",
       "      <td>0.0</td>\n",
       "      <td>10000.0</td>\n",
       "      <td>Cape Coral, FL</td>\n",
       "      <td>False</td>\n",
       "      <td>0.000000</td>\n",
       "    </tr>\n",
       "    <tr>\n",
       "      <th>1</th>\n",
       "      <td>1</td>\n",
       "      <td>190378</td>\n",
       "      <td>15.0</td>\n",
       "      <td>383.0</td>\n",
       "      <td>0.0</td>\n",
       "      <td>0.0</td>\n",
       "      <td>4.0</td>\n",
       "      <td>0.010444</td>\n",
       "      <td>0.0</td>\n",
       "      <td>0.0</td>\n",
       "      <td>...</td>\n",
       "      <td>What happens to a sock that disappears in the ...</td>\n",
       "      <td>The Sock Who Lost His Mate at NY Children's Th...</td>\n",
       "      <td>Musical</td>\n",
       "      <td>https://www.kickstarter.com/projects/987315242...</td>\n",
       "      <td>USD</td>\n",
       "      <td>2600.0</td>\n",
       "      <td>7000.0</td>\n",
       "      <td>Greenwich Village, Manhattan, NY</td>\n",
       "      <td>False</td>\n",
       "      <td>0.371429</td>\n",
       "    </tr>\n",
       "  </tbody>\n",
       "</table>\n",
       "<p>2 rows × 31 columns</p>\n",
       "</div>"
      ],
      "text/plain": [
       "   level_0   index  num_sents  num_words  num_all_caps  percent_all_caps  \\\n",
       "0        0   88389       15.0      223.0           0.0               0.0   \n",
       "1        1  190378       15.0      383.0           0.0               0.0   \n",
       "\n",
       "   num_exclms  percent_exclms  num_apple_words  percent_apple_words  \\\n",
       "0         3.0        0.013453              0.0                  0.0   \n",
       "1         4.0        0.010444              0.0                  0.0   \n",
       "\n",
       "        ...                                          normalized_text  \\\n",
       "0       ...        I am a numbr year old woman who was a general ...   \n",
       "1       ...        What happens to a sock that disappears in the ...   \n",
       "\n",
       "                                                name     category  \\\n",
       "0  Help me start my cottage industry ... Bakesale...  Small Batch   \n",
       "1  The Sock Who Lost His Mate at NY Children's Th...      Musical   \n",
       "\n",
       "                                           hyperlink  currency  pledged  \\\n",
       "0  https://www.kickstarter.com/projects/138529431...       USD      0.0   \n",
       "1  https://www.kickstarter.com/projects/987315242...       USD   2600.0   \n",
       "\n",
       "      goal                          location  funded  percent_funded  \n",
       "0  10000.0                    Cape Coral, FL   False        0.000000  \n",
       "1   7000.0  Greenwich Village, Manhattan, NY   False        0.371429  \n",
       "\n",
       "[2 rows x 31 columns]"
      ]
     },
     "execution_count": 4,
     "metadata": {},
     "output_type": "execute_result"
    }
   ],
   "source": [
    "# Define a target variable for regression\n",
    "section1_df_full['percent_funded'] = section1_df_full['pledged'] / \\\n",
    "    section1_df_full['goal']\n",
    "\n",
    "# Display a few rows\n",
    "section1_df_full.head(2)"
   ]
  },
  {
   "cell_type": "markdown",
   "metadata": {},
   "source": [
    "<a id=\"cell2\"></a>\n",
    "## 2. Building the design matrix for meta features\n",
    "\n",
    "Let's use the extracted meta features for the \"About this project\" section for now."
   ]
  },
  {
   "cell_type": "code",
   "execution_count": 5,
   "metadata": {},
   "outputs": [
    {
     "data": {
      "text/html": [
       "<div>\n",
       "<style>\n",
       "    .dataframe thead tr:only-child th {\n",
       "        text-align: right;\n",
       "    }\n",
       "\n",
       "    .dataframe thead th {\n",
       "        text-align: left;\n",
       "    }\n",
       "\n",
       "    .dataframe tbody tr th {\n",
       "        vertical-align: top;\n",
       "    }\n",
       "</style>\n",
       "<table border=\"1\" class=\"dataframe\">\n",
       "  <thead>\n",
       "    <tr style=\"text-align: right;\">\n",
       "      <th></th>\n",
       "      <th>num_sents</th>\n",
       "      <th>num_words</th>\n",
       "      <th>num_all_caps</th>\n",
       "      <th>percent_all_caps</th>\n",
       "      <th>num_exclms</th>\n",
       "      <th>percent_exclms</th>\n",
       "      <th>num_apple_words</th>\n",
       "      <th>percent_apple_words</th>\n",
       "      <th>avg_words_per_sent</th>\n",
       "      <th>num_paragraphs</th>\n",
       "      <th>avg_sents_per_paragraph</th>\n",
       "      <th>avg_words_per_paragraph</th>\n",
       "      <th>num_images</th>\n",
       "      <th>num_videos</th>\n",
       "      <th>num_youtubes</th>\n",
       "      <th>num_gifs</th>\n",
       "      <th>num_hyperlinks</th>\n",
       "      <th>num_bolded</th>\n",
       "      <th>percent_bolded</th>\n",
       "    </tr>\n",
       "  </thead>\n",
       "  <tbody>\n",
       "    <tr>\n",
       "      <th>0</th>\n",
       "      <td>15.0</td>\n",
       "      <td>223.0</td>\n",
       "      <td>0.0</td>\n",
       "      <td>0.000000</td>\n",
       "      <td>3.0</td>\n",
       "      <td>0.013453</td>\n",
       "      <td>0.0</td>\n",
       "      <td>0.000000</td>\n",
       "      <td>14.866667</td>\n",
       "      <td>9.0</td>\n",
       "      <td>1.888889</td>\n",
       "      <td>24.777778</td>\n",
       "      <td>0.0</td>\n",
       "      <td>0.0</td>\n",
       "      <td>0.0</td>\n",
       "      <td>0.0</td>\n",
       "      <td>0.0</td>\n",
       "      <td>0.0</td>\n",
       "      <td>0.000000</td>\n",
       "    </tr>\n",
       "    <tr>\n",
       "      <th>1</th>\n",
       "      <td>15.0</td>\n",
       "      <td>383.0</td>\n",
       "      <td>0.0</td>\n",
       "      <td>0.000000</td>\n",
       "      <td>4.0</td>\n",
       "      <td>0.010444</td>\n",
       "      <td>0.0</td>\n",
       "      <td>0.000000</td>\n",
       "      <td>25.533333</td>\n",
       "      <td>5.0</td>\n",
       "      <td>3.000000</td>\n",
       "      <td>76.600000</td>\n",
       "      <td>0.0</td>\n",
       "      <td>0.0</td>\n",
       "      <td>0.0</td>\n",
       "      <td>0.0</td>\n",
       "      <td>0.0</td>\n",
       "      <td>0.0</td>\n",
       "      <td>0.000000</td>\n",
       "    </tr>\n",
       "    <tr>\n",
       "      <th>2</th>\n",
       "      <td>15.0</td>\n",
       "      <td>259.0</td>\n",
       "      <td>17.0</td>\n",
       "      <td>0.065637</td>\n",
       "      <td>0.0</td>\n",
       "      <td>0.000000</td>\n",
       "      <td>1.0</td>\n",
       "      <td>0.003861</td>\n",
       "      <td>17.266667</td>\n",
       "      <td>17.0</td>\n",
       "      <td>0.823529</td>\n",
       "      <td>11.470588</td>\n",
       "      <td>15.0</td>\n",
       "      <td>0.0</td>\n",
       "      <td>0.0</td>\n",
       "      <td>0.0</td>\n",
       "      <td>8.0</td>\n",
       "      <td>0.0</td>\n",
       "      <td>0.000000</td>\n",
       "    </tr>\n",
       "    <tr>\n",
       "      <th>3</th>\n",
       "      <td>18.0</td>\n",
       "      <td>431.0</td>\n",
       "      <td>0.0</td>\n",
       "      <td>0.000000</td>\n",
       "      <td>3.0</td>\n",
       "      <td>0.006961</td>\n",
       "      <td>1.0</td>\n",
       "      <td>0.002320</td>\n",
       "      <td>23.944444</td>\n",
       "      <td>3.0</td>\n",
       "      <td>6.000000</td>\n",
       "      <td>143.666667</td>\n",
       "      <td>0.0</td>\n",
       "      <td>0.0</td>\n",
       "      <td>0.0</td>\n",
       "      <td>0.0</td>\n",
       "      <td>2.0</td>\n",
       "      <td>0.0</td>\n",
       "      <td>0.000000</td>\n",
       "    </tr>\n",
       "    <tr>\n",
       "      <th>4</th>\n",
       "      <td>23.0</td>\n",
       "      <td>282.0</td>\n",
       "      <td>2.0</td>\n",
       "      <td>0.007092</td>\n",
       "      <td>15.0</td>\n",
       "      <td>0.053191</td>\n",
       "      <td>0.0</td>\n",
       "      <td>0.000000</td>\n",
       "      <td>12.260870</td>\n",
       "      <td>5.0</td>\n",
       "      <td>4.600000</td>\n",
       "      <td>56.600000</td>\n",
       "      <td>1.0</td>\n",
       "      <td>0.0</td>\n",
       "      <td>0.0</td>\n",
       "      <td>0.0</td>\n",
       "      <td>0.0</td>\n",
       "      <td>12.0</td>\n",
       "      <td>0.042553</td>\n",
       "    </tr>\n",
       "  </tbody>\n",
       "</table>\n",
       "</div>"
      ],
      "text/plain": [
       "   num_sents  num_words  num_all_caps  percent_all_caps  num_exclms  \\\n",
       "0       15.0      223.0           0.0          0.000000         3.0   \n",
       "1       15.0      383.0           0.0          0.000000         4.0   \n",
       "2       15.0      259.0          17.0          0.065637         0.0   \n",
       "3       18.0      431.0           0.0          0.000000         3.0   \n",
       "4       23.0      282.0           2.0          0.007092        15.0   \n",
       "\n",
       "   percent_exclms  num_apple_words  percent_apple_words  avg_words_per_sent  \\\n",
       "0        0.013453              0.0             0.000000           14.866667   \n",
       "1        0.010444              0.0             0.000000           25.533333   \n",
       "2        0.000000              1.0             0.003861           17.266667   \n",
       "3        0.006961              1.0             0.002320           23.944444   \n",
       "4        0.053191              0.0             0.000000           12.260870   \n",
       "\n",
       "   num_paragraphs  avg_sents_per_paragraph  avg_words_per_paragraph  \\\n",
       "0             9.0                 1.888889                24.777778   \n",
       "1             5.0                 3.000000                76.600000   \n",
       "2            17.0                 0.823529                11.470588   \n",
       "3             3.0                 6.000000               143.666667   \n",
       "4             5.0                 4.600000                56.600000   \n",
       "\n",
       "   num_images  num_videos  num_youtubes  num_gifs  num_hyperlinks  num_bolded  \\\n",
       "0         0.0         0.0           0.0       0.0             0.0         0.0   \n",
       "1         0.0         0.0           0.0       0.0             0.0         0.0   \n",
       "2        15.0         0.0           0.0       0.0             8.0         0.0   \n",
       "3         0.0         0.0           0.0       0.0             2.0         0.0   \n",
       "4         1.0         0.0           0.0       0.0             0.0        12.0   \n",
       "\n",
       "   percent_bolded  \n",
       "0        0.000000  \n",
       "1        0.000000  \n",
       "2        0.000000  \n",
       "3        0.000000  \n",
       "4        0.042553  "
      ]
     },
     "execution_count": 5,
     "metadata": {},
     "output_type": "execute_result"
    }
   ],
   "source": [
    "# List of meta features to use in models\n",
    "features = ['num_sents', 'num_words', 'num_all_caps', 'percent_all_caps',\n",
    "            'num_exclms', 'percent_exclms', 'num_apple_words',\n",
    "            'percent_apple_words', 'avg_words_per_sent', 'num_paragraphs',\n",
    "            'avg_sents_per_paragraph', 'avg_words_per_paragraph',\n",
    "            'num_images', 'num_videos', 'num_youtubes', 'num_gifs',\n",
    "            'num_hyperlinks', 'num_bolded', 'percent_bolded']\n",
    "\n",
    "# Select meta features from the dataset\n",
    "X = section1_df_full[features]\n",
    "\n",
    "# Display the first five rows of the design matrix\n",
    "X.head()"
   ]
  },
  {
   "cell_type": "markdown",
   "metadata": {},
   "source": [
    "### Data wrangling\n",
    "\n",
    "Some of the projects may contain missing values. We need to decide how to deal with these projects since models in Scikit-learn cannot interpret them.\n",
    "\n",
    "One strategy is to first remove all projects that have no data. These projects are most likely those that didn't include \"About this project\" section and can safely be excluded."
   ]
  },
  {
   "cell_type": "code",
   "execution_count": 6,
   "metadata": {
    "collapsed": true
   },
   "outputs": [],
   "source": [
    "# Remove all rows with no data\n",
    "X_cleaned = X[~X.isnull().all(axis=1)]"
   ]
  },
  {
   "cell_type": "markdown",
   "metadata": {},
   "source": [
    "The remaining missing values arise as a result of missing data or if there is absolutely no text in the campaign. In the case of the latter, I had avoided a `DivisionByZeroError` when computing certain features, such as average words per sentence, where the number of sentences would be zero, by setting the number of sentences to `NaN` instead of zero. Therefore, setting these missing values now to zero is sensible."
   ]
  },
  {
   "cell_type": "code",
   "execution_count": 7,
   "metadata": {
    "collapsed": true
   },
   "outputs": [],
   "source": [
    "# Fill remaining missing values with zero\n",
    "X_cleaned = X_cleaned.fillna(0)"
   ]
  },
  {
   "cell_type": "markdown",
   "metadata": {},
   "source": [
    "### Considering the \"Risks and challenges\" section\n",
    "\n",
    "Not all Kickstarter projects have a \"Risks and challenges\" section. Let's determine what proportion of projects this is by defining a new feature called `risks_present` that computes and stores a value of 1 if the section is present, otherwise a 0. "
   ]
  },
  {
   "cell_type": "code",
   "execution_count": 8,
   "metadata": {},
   "outputs": [
    {
     "data": {
      "text/plain": [
       "0.22762439938105708"
      ]
     },
     "execution_count": 8,
     "metadata": {},
     "output_type": "execute_result"
    }
   ],
   "source": [
    "# Identify projects missing a \"Risks and challenges\" section\n",
    "section2_df_full['risks_present'] = ~section2_df_full['normalized_text'] \\\n",
    "    .isnull()\n",
    "\n",
    "# Select the projects missing a \"Risks and challenges\" section from the table\n",
    "# containing the \"About this projects\" section\n",
    "section1_df_full = section1_df_full.merge(\n",
    "    section2_df_full[['index', 'risks_present']],\n",
    "    how='left', \n",
    "    on='index'\n",
    ")\n",
    "\n",
    "# Compute the proportion of projects missing a \"Risks and challenges\" section\n",
    "(len(section1_df_full) - section1_df_full['risks_present'].sum()) / \\\n",
    "    len(section1_df_full)"
   ]
  },
  {
   "cell_type": "markdown",
   "metadata": {},
   "source": [
    "That's concerning&mdash;nearly 23% of projects are missing a \"Risks and challenges\" section. Let's compare this to the number of projects missing an \"About this project\" section."
   ]
  },
  {
   "cell_type": "code",
   "execution_count": 9,
   "metadata": {},
   "outputs": [
    {
     "data": {
      "text/plain": [
       "0.0012623177783207102"
      ]
     },
     "execution_count": 9,
     "metadata": {},
     "output_type": "execute_result"
    }
   ],
   "source": [
    "# Compute the proportion of projects missing an \"About this projects\" section\n",
    "(len(section1_df_full) - len(X_cleaned)) / len(section1_df_full)"
   ]
  },
  {
   "cell_type": "markdown",
   "metadata": {},
   "source": [
    "It looks like nearly every project has an \"About this project\" section. After some digging, I discovered that the \"Risks and challenges\" became mandatory only a few years ago. Therefore, I've elected to not include the \"Risks and challenges\" section in the feature space for two reasons:\n",
    "\n",
    "1. A large proportion of the projects is missing the \"Risks and challenges\" section, which may skew the remaining projects that *do* contain this section\n",
    "2. There have been many successful projects in the past that didn't have this section (as it wasn't required) such as the original [Pebble watch](https://www.kickstarter.com/projects/getpebble/pebble-e-paper-watch-for-iphone-and-android/description)\n",
    "\n",
    "### Standardizing the meta features\n",
    "\n",
    "Most machine learning models, besides tree-based models, only function if the features are standardized to have zero mean and unit variance, while others will converge faster. Therefore, let's go ahead and standardize the meta features."
   ]
  },
  {
   "cell_type": "code",
   "execution_count": 10,
   "metadata": {
    "collapsed": true
   },
   "outputs": [],
   "source": [
    "# Standardize the meta features\n",
    "scaler = StandardScaler()\n",
    "X_std = scaler.fit_transform(X_cleaned)"
   ]
  },
  {
   "cell_type": "markdown",
   "metadata": {},
   "source": [
    "<a id=\"cell3\"></a>\n",
    "## 3. Building a design matrix for the $n$-gram model\n",
    "\n",
    "We can use the normalized text data from each project's \"About this project\" section to build an $n$-gram model to determine the specific words or pairs of words that are most predictive of funded projects. These contextual data may improve the model's performance when combined with the meta features.\n",
    "\n",
    "It's possible that the $n$-gram model might pick up noise or convey irrelevant information because they probe into the context of the campaign section, which likely includes terms specifically linked to the project category. However, building a tailored model for the 100+ categories will be tedious and not feasible here. Nevertheless, to build the $n$-gram model, we'll need to perform some additional preprocessing.\n",
    "\n",
    "1. Remove punctuation\n",
    "2. Lowercase the text\n",
    "3. Remove stop words\n",
    "4. Stem remaining words"
   ]
  },
  {
   "cell_type": "code",
   "execution_count": 11,
   "metadata": {
    "collapsed": true
   },
   "outputs": [],
   "source": [
    "def preprocess_text(text):\n",
    "    \"\"\"Perform text preprocessing such as removing punctuation, lowercasing all\n",
    "    words, removing stop words and stemming remaining words\n",
    "    \n",
    "    Args:\n",
    "        text (str): cleaned and normalized text of a campaign section\n",
    "    \n",
    "    Returns:\n",
    "        a string containing text that has been preprocessed\"\"\"\n",
    "    \n",
    "    # Access stop word dictionary\n",
    "    stop_words = set(nltk.corpus.stopwords.words('english'))\n",
    "\n",
    "    # Prepare the Porter stemmer\n",
    "    porter = nltk.PorterStemmer()\n",
    "    \n",
    "    # Remove punctuation and lowercase each word\n",
    "    text = feature_engineering.remove_punc(text).lower()\n",
    "    \n",
    "    # Remove stop words and stem each word\n",
    "    return ' '.join(\n",
    "        porter.stem(term )\n",
    "        for term in text.split()\n",
    "        if term not in stop_words\n",
    "    )"
   ]
  },
  {
   "cell_type": "markdown",
   "metadata": {},
   "source": [
    "Let's go ahead and preprocess the campaign section for each project."
   ]
  },
  {
   "cell_type": "code",
   "execution_count": 12,
   "metadata": {
    "collapsed": true
   },
   "outputs": [],
   "source": [
    "# Perform preprocessing\n",
    "#preprocessed_text = section1_df_full.loc[X_cleaned.index, 'normalized_text'] \\\n",
    "#    .apply(preprocess_text)\n",
    "\n",
    "# Alternatively load a pickle that contains the already preprocessed text \n",
    "preprocessed_text = joblib.load('data/nlp/preprocessed_text_training_set.pkl')"
   ]
  },
  {
   "cell_type": "markdown",
   "metadata": {},
   "source": [
    "For the $n$-gram model, I've elected to use unigrams and bigrams quantified using the tf-idf statistic and then selecting the top 250 features measured by term frequency. The reason for fewer $n$-grams is to a) minimize the risk of overfitting and b) prevent the model from having too much contextual data when making a prediction, which is harder for the creator's to tweak in their projects. "
   ]
  },
  {
   "cell_type": "code",
   "execution_count": 13,
   "metadata": {
    "collapsed": true
   },
   "outputs": [],
   "source": [
    "# Construct a design matrix using an n-gram model and tf-idf statistics\n",
    "#vectorizer = TfidfVectorizer(ngram_range=(1, 2), max_features=250)\n",
    "#X_ngrams = vectorizer.fit_transform(preprocessed_text)\n",
    "#joblib.dump(vectorizer, 'vectorizer_250.pkl')\n",
    "#joblib.dump(X_ngrams, 'X_ngrams_250.pkl')\n",
    "\n",
    "# Alternatively we can load a pickle that contains the already constructed \n",
    "# n-grams and vectorizer\n",
    "X_ngrams = joblib.load('data/nlp/X_ngrams_250.pkl')\n",
    "vectorizer = joblib.load('data/nlp/vectorizer_250.pkl')"
   ]
  },
  {
   "cell_type": "markdown",
   "metadata": {},
   "source": [
    "### Combining meta features with $n$-grams\n",
    "\n",
    "Since the meta features are housed in a Numpy array while the $n$-grams are inside a Scipy sparse matrix, we need to convert the former into a sparse matrix and then concatenate all the features together."
   ]
  },
  {
   "cell_type": "code",
   "execution_count": 14,
   "metadata": {},
   "outputs": [
    {
     "data": {
      "text/plain": [
       "(24527, 269)"
      ]
     },
     "execution_count": 14,
     "metadata": {},
     "output_type": "execute_result"
    }
   ],
   "source": [
    "# Convert the meta features into a sparse matrix\n",
    "X_std_sparse = sparse.csr_matrix(X_std)\n",
    "\n",
    "# Concatenate the meta features with the n-grams\n",
    "X_full = sparse.hstack([X_std_sparse, X_ngrams])\n",
    "\n",
    "# Display the shape of the combined matrix for confirmation\n",
    "X_full.shape"
   ]
  },
  {
   "cell_type": "markdown",
   "metadata": {},
   "source": [
    "<a id=\"cell4\"></a>\n",
    "## 4. Preparing the target variable\n",
    "\n",
    "Let's select all rows of the regression target variable `percent_funded` that correspond to the rows in the cleaned design matrix."
   ]
  },
  {
   "cell_type": "code",
   "execution_count": 15,
   "metadata": {
    "collapsed": true
   },
   "outputs": [],
   "source": [
    "# Prepare the regression target variable\n",
    "y_reg = section1_df_full.loc[X_cleaned.index, 'percent_funded'].to_frame()"
   ]
  },
  {
   "cell_type": "markdown",
   "metadata": {},
   "source": [
    "Since some of the regression models expect the target variable to be normally distributed, let's take a look at the distribution of `percent_funded`."
   ]
  },
  {
   "cell_type": "code",
   "execution_count": 16,
   "metadata": {},
   "outputs": [
    {
     "data": {
      "image/png": "[encoded data removed]",
      "text/plain": [
       "<matplotlib.figure.Figure at 0x7f70b2ab6668>"
      ]
     },
     "metadata": {},
     "output_type": "display_data"
    }
   ],
   "source": [
    "# Display a histogram of the regression target variable\n",
    "sns.distplot(y_reg['percent_funded'], kde=False);"
   ]
  },
  {
   "cell_type": "markdown",
   "metadata": {},
   "source": [
    "The histogram is clearly skewed to the right, meaning we have some outliers. Let's zoom in on the left side."
   ]
  },
  {
   "cell_type": "code",
   "execution_count": 17,
   "metadata": {},
   "outputs": [
    {
     "data": {
      "image/png": "[encoded data removed]",
      "text/plain": [
       "<matplotlib.figure.Figure at 0x7f70b34b6c50>"
      ]
     },
     "metadata": {},
     "output_type": "display_data"
    }
   ],
   "source": [
    "# Display a kde plot of the regression target variable\n",
    "sns.distplot(\n",
    "    y_reg[y_reg['percent_funded'] < 5000]['percent_funded'],\n",
    "    kde=False\n",
    ");"
   ]
  },
  {
   "cell_type": "markdown",
   "metadata": {},
   "source": [
    "That's still not enough&mdash;let's zoom in further."
   ]
  },
  {
   "cell_type": "code",
   "execution_count": 18,
   "metadata": {},
   "outputs": [
    {
     "data": {
      "image/png": "[encoded data removed]",
      "text/plain": [
       "<matplotlib.figure.Figure at 0x7f70b1ae0ac8>"
      ]
     },
     "metadata": {},
     "output_type": "display_data"
    }
   ],
   "source": [
    "# Display a kde plot of the regression target variable\n",
    "sns.distplot(\n",
    "    y_reg[y_reg['percent_funded'] < 10]['percent_funded'],\n",
    "    kde=False\n",
    ");"
   ]
  },
  {
   "cell_type": "markdown",
   "metadata": {},
   "source": [
    "Clearly, the regression target variable has a multi-modal distribution. About 50% of the projects raise little to no funding, while about 25% of the projects almost reach their funding goal. The remaining 25% are funded projects but are very spread out.\n",
    "\n",
    "We clearly can't apply standard regression techniques on the regression target variable. One option would be to separate the two distributions, label them and then perform classification. However, not only would we lose a lot of information, we'd lose the remaining 25% of the data that isn't found in the bimodal distribution. This seems like a risky proposition; therefore, let's avoid regression and turn to a pure classification approach.\n",
    "\n",
    "### Encoding the target variable for classification\n",
    "\n",
    "For classification tasks, the models in Scikit-learn will work only if the classification target variable is encoded numerically. To do so, let's first select all rows of `funded` that correspond to the rows in the cleaned design matrix."
   ]
  },
  {
   "cell_type": "code",
   "execution_count": 19,
   "metadata": {
    "collapsed": true
   },
   "outputs": [],
   "source": [
    "# Prepare the classification target variable\n",
    "y = section1_df_full.loc[X_cleaned.index, 'funded'].to_frame()"
   ]
  },
  {
   "cell_type": "markdown",
   "metadata": {},
   "source": [
    "Before encoding the classification target variable, let's take a peek at the class distribution."
   ]
  },
  {
   "cell_type": "code",
   "execution_count": 20,
   "metadata": {},
   "outputs": [
    {
     "data": {
      "text/plain": [
       "False    13894\n",
       "True     10633\n",
       "Name: funded, dtype: int64"
      ]
     },
     "execution_count": 20,
     "metadata": {},
     "output_type": "execute_result"
    }
   ],
   "source": [
    "# Display the class distribution\n",
    "y['funded'].value_counts()"
   ]
  },
  {
   "cell_type": "markdown",
   "metadata": {},
   "source": [
    "The funded projects are distributed about 3 to 7, which is just slightly imbalanced. We'll keep this mind when choosing a performance metric. Finally, let's encode the target variable."
   ]
  },
  {
   "cell_type": "code",
   "execution_count": 21,
   "metadata": {
    "collapsed": true
   },
   "outputs": [],
   "source": [
    "# Encode the class labels in the target variable\n",
    "le = LabelEncoder()\n",
    "y_enc = le.fit_transform(y.values.ravel())"
   ]
  },
  {
   "cell_type": "markdown",
   "metadata": {},
   "source": [
    "<a id=\"cell5\"></a>\n",
    "## 5. Evaluating models\n",
    "\n",
    "We'll approach the modeling with Occam's razor in mind and start with those models that are\n",
    "- parametric - fast to train, less prone to overfitting\n",
    "- linear - text-based data is typically linearly separable\n",
    "- explainable - it's preferable for the creator to understand what's going on under the hood\n",
    "\n",
    "As a starting point, we'll only train a model on the meta features. Out of curiosity, let's see how an ordinary least squares regression using stochastic gradient descent (SGD) performs on the dataset as it stands, using the correlation of determination $R^2$ as the performance metric. We'll use a randomized 10-fold cross-validation strategy with a 80/20 training/test set split in each fold. \n",
    "\n",
    "For the number of iterations in SGD, let's use the recommended number from Scikit-learn's [documentation](http://scikit-learn.org/stable/modules/sgd.html#sgd)."
   ]
  },
  {
   "cell_type": "code",
   "execution_count": 22,
   "metadata": {},
   "outputs": [
    {
     "data": {
      "text/plain": [
       "41.0"
      ]
     },
     "execution_count": 22,
     "metadata": {},
     "output_type": "execute_result"
    }
   ],
   "source": [
    "# Set the recommended number of iterations for SGD\n",
    "SGD_iterations = np.ceil(10 ** 6 / len(X_std))\n",
    "SGD_iterations"
   ]
  },
  {
   "cell_type": "code",
   "execution_count": 23,
   "metadata": {},
   "outputs": [
    {
     "name": "stdout",
     "output_type": "stream",
     "text": [
      "R^2: -0.23501800317182925 +/- 0.3114688648478518\n"
     ]
    }
   ],
   "source": [
    "# Compute cross-validated precision scores for an OLS regression\n",
    "scores = cross_val_score(\n",
    "    estimator=SGDRegressor(max_iter=SGD_iterations, random_state=41),\n",
    "    X=X_std,\n",
    "    y=y_reg.values.ravel(),\n",
    "    cv=ShuffleSplit(n_splits=10, test_size=0.2, random_state=41),\n",
    "    scoring='r2',\n",
    "    n_jobs=-1\n",
    ")\n",
    "\n",
    "# Display the average and standard deviation of the cross-validation scores\n",
    "print('R^2: {} +/- {}'.format(scores.mean(), scores.std()))"
   ]
  },
  {
   "cell_type": "markdown",
   "metadata": {},
   "source": [
    "We clearly see the model is unstable and inappropriate for this problem&mdash;a likely result of the bimodal distribution in the regression target variable. \n",
    "\n",
    "### Evaluating classifiers using only meta features\n",
    "\n",
    "Let's start with logistic regression regularized by an elastic net and trained with SGD, and use the default hyperparameters. We'll use a randomized 10-fold cross-validation strategy with a 80/20 training/test set split in each fold. Because the classes are imbalanced, we need to incorporate stratification in the splitting process. \n",
    "\n",
    "Predicting that a project will be funded when it actually ends up not being funded (false positive) is a more egregious error than the opposite (false negative). A false positive may lead to a loss in credibility in the model; on the other hand, a false negative isn't a major concern&mdash;it's unlikely that any creator would abandon their painstaking efforts on their Kickstarter project after receiving an estimate from a single website! Therefore, we should aim to optimize precision, which focuses on false positives, and select this as the performance metric for classification."
   ]
  },
  {
   "cell_type": "code",
   "execution_count": 24,
   "metadata": {},
   "outputs": [
    {
     "name": "stdout",
     "output_type": "stream",
     "text": [
      "Precision: 0.6381477285446968 +/- 0.024444364116648926\n"
     ]
    }
   ],
   "source": [
    "# Compute cross-validated precision scores for logistic regression\n",
    "scores = cross_val_score(\n",
    "    estimator=SGDClassifier(\n",
    "        loss='log',\n",
    "        penalty='elasticnet',\n",
    "        max_iter=SGD_iterations,\n",
    "        random_state=41\n",
    "    ),\n",
    "    X=X_std,\n",
    "    y=y_enc,\n",
    "    cv=StratifiedShuffleSplit(n_splits=10, test_size=0.2, random_state=41),\n",
    "    scoring='precision',\n",
    "    n_jobs=-1\n",
    ")\n",
    "\n",
    "# Display the average and standard deviation of the cross-validation scores\n",
    "print('Precision: {} +/- {}'.format(scores.mean(), scores.std()))"
   ]
  },
  {
   "cell_type": "markdown",
   "metadata": {},
   "source": [
    "An precision score of 0.64 is a decent start, especially considering a dummy classifier using the class distribution can't beat 0.44. Let's see where the model is making mistakes using a normalized confusion matrix."
   ]
  },
  {
   "cell_type": "code",
   "execution_count": 25,
   "metadata": {
    "scrolled": false
   },
   "outputs": [
    {
     "data": {
      "text/html": [
       "<div>\n",
       "<style>\n",
       "    .dataframe thead tr:only-child th {\n",
       "        text-align: right;\n",
       "    }\n",
       "\n",
       "    .dataframe thead th {\n",
       "        text-align: left;\n",
       "    }\n",
       "\n",
       "    .dataframe tbody tr th {\n",
       "        vertical-align: top;\n",
       "    }\n",
       "</style>\n",
       "<table border=\"1\" class=\"dataframe\">\n",
       "  <thead>\n",
       "    <tr>\n",
       "      <th></th>\n",
       "      <th></th>\n",
       "      <th colspan=\"2\" halign=\"left\">predicted</th>\n",
       "    </tr>\n",
       "    <tr>\n",
       "      <th></th>\n",
       "      <th></th>\n",
       "      <th>unfunded</th>\n",
       "      <th>funded</th>\n",
       "    </tr>\n",
       "  </thead>\n",
       "  <tbody>\n",
       "    <tr>\n",
       "      <th rowspan=\"2\" valign=\"top\">actual</th>\n",
       "      <th>unfunded</th>\n",
       "      <td>0.81</td>\n",
       "      <td>0.19</td>\n",
       "    </tr>\n",
       "    <tr>\n",
       "      <th>funded</th>\n",
       "      <td>0.61</td>\n",
       "      <td>0.39</td>\n",
       "    </tr>\n",
       "  </tbody>\n",
       "</table>\n",
       "</div>"
      ],
      "text/plain": [
       "                predicted       \n",
       "                 unfunded funded\n",
       "actual unfunded      0.81   0.19\n",
       "       funded        0.61   0.39"
      ]
     },
     "execution_count": 25,
     "metadata": {},
     "output_type": "execute_result"
    }
   ],
   "source": [
    "# Make cross-validated predictions for the training set\n",
    "y_pred = cross_val_predict(\n",
    "    estimator=SGDClassifier(\n",
    "        loss='log',\n",
    "        penalty='elasticnet',\n",
    "        max_iter=SGD_iterations,\n",
    "        random_state=41\n",
    "    ),\n",
    "    X=X_std,\n",
    "    y=y_enc,\n",
    "    n_jobs=-1\n",
    ")\n",
    "\n",
    "# Compute the confusion matrix\n",
    "cm = metrics.confusion_matrix(y_enc, y_pred)\n",
    "\n",
    "# Display a normalized confusion matrix\n",
    "pd.DataFrame(\n",
    "    np.round(cm.astype('float') / cm.sum(axis=1)[:, np.newaxis], 2),\n",
    "    index=[['actual', 'actual'], ['unfunded', 'funded']],\n",
    "    columns=[['predicted', 'predicted'], ['unfunded', 'funded']]\n",
    ")"
   ]
  },
  {
   "cell_type": "markdown",
   "metadata": {},
   "source": [
    "It looks like the the model does a great job with false positives, the primary concern. However, it does make a lot of false negatives. Again, these are less of a concern&mdash;it's acceptable if some projects that end up getting funded slip through the cracks. \n",
    "\n",
    "### Adding $n$-grams to the feature space\n",
    "\n",
    "Let's see if incorporating $n$-grams into the feature space improves performance."
   ]
  },
  {
   "cell_type": "code",
   "execution_count": 26,
   "metadata": {},
   "outputs": [
    {
     "name": "stdout",
     "output_type": "stream",
     "text": [
      "Precision: 0.696789117961657 +/- 0.007749993039365257\n"
     ]
    }
   ],
   "source": [
    "# Compute cross-validated precision scores for logistic regression\n",
    "scores = cross_val_score(\n",
    "    estimator=SGDClassifier(\n",
    "        loss='log',\n",
    "        penalty='elasticnet',\n",
    "        max_iter=SGD_iterations,\n",
    "        random_state=41\n",
    "    ),\n",
    "    X=X_full,\n",
    "    y=y_enc,\n",
    "    cv=StratifiedShuffleSplit(n_splits=10, test_size=0.2, random_state=41),\n",
    "    scoring='precision',\n",
    "    n_jobs=-1\n",
    ")\n",
    "\n",
    "# Display the average and standard deviation of the cross-validation scores\n",
    "print('Precision: {} +/- {}'.format(scores.mean(), scores.std()))"
   ]
  },
  {
   "cell_type": "markdown",
   "metadata": {},
   "source": [
    "It looks like the precision jumps up a bit. Let's see what kind of mistakes are being made now that we included $n$-grams."
   ]
  },
  {
   "cell_type": "code",
   "execution_count": 27,
   "metadata": {
    "scrolled": true
   },
   "outputs": [
    {
     "data": {
      "text/html": [
       "<div>\n",
       "<style>\n",
       "    .dataframe thead tr:only-child th {\n",
       "        text-align: right;\n",
       "    }\n",
       "\n",
       "    .dataframe thead th {\n",
       "        text-align: left;\n",
       "    }\n",
       "\n",
       "    .dataframe tbody tr th {\n",
       "        vertical-align: top;\n",
       "    }\n",
       "</style>\n",
       "<table border=\"1\" class=\"dataframe\">\n",
       "  <thead>\n",
       "    <tr>\n",
       "      <th></th>\n",
       "      <th></th>\n",
       "      <th colspan=\"2\" halign=\"left\">predicted</th>\n",
       "    </tr>\n",
       "    <tr>\n",
       "      <th></th>\n",
       "      <th></th>\n",
       "      <th>unfunded</th>\n",
       "      <th>funded</th>\n",
       "    </tr>\n",
       "  </thead>\n",
       "  <tbody>\n",
       "    <tr>\n",
       "      <th rowspan=\"2\" valign=\"top\">actual</th>\n",
       "      <th>unfunded</th>\n",
       "      <td>0.78</td>\n",
       "      <td>0.22</td>\n",
       "    </tr>\n",
       "    <tr>\n",
       "      <th>funded</th>\n",
       "      <td>0.36</td>\n",
       "      <td>0.64</td>\n",
       "    </tr>\n",
       "  </tbody>\n",
       "</table>\n",
       "</div>"
      ],
      "text/plain": [
       "                predicted       \n",
       "                 unfunded funded\n",
       "actual unfunded      0.78   0.22\n",
       "       funded        0.36   0.64"
      ]
     },
     "execution_count": 27,
     "metadata": {},
     "output_type": "execute_result"
    }
   ],
   "source": [
    "# Make cross-validated predictions for the training set\n",
    "y_pred = cross_val_predict(\n",
    "    estimator=SGDClassifier(\n",
    "        loss='log',\n",
    "        penalty='elasticnet',\n",
    "        max_iter=SGD_iterations,\n",
    "        random_state=41\n",
    "    ),\n",
    "    X=X_full,\n",
    "    y=y_enc,\n",
    "    n_jobs=-1\n",
    ")\n",
    "\n",
    "# Compute the confusion matrix\n",
    "cm2 = metrics.confusion_matrix(y_enc, y_pred)\n",
    "\n",
    "# Display a normalized confusion matrix\n",
    "pd.DataFrame(\n",
    "    np.round(cm2.astype('float') / cm2.sum(axis=1)[:, np.newaxis], 2),\n",
    "    index=[['actual', 'actual'], ['unfunded', 'funded']],\n",
    "    columns=[['predicted', 'predicted'], ['unfunded', 'funded']]\n",
    ")"
   ]
  },
  {
   "cell_type": "markdown",
   "metadata": {},
   "source": [
    "By adding $n$-grams into the features, we've increased the false positive rate by 0.03, but improved the true positive rate and the false negative rate each by 0.25! The slight increase in false positive rate is definitely an acceptable trade-off&mdash;we'll continue onwards using both meta features and $n$-grams in the feature space. \n",
    "\n",
    "<a id=\"cell6\"></a>\n",
    "## 6. Diagnosing the classifier\n",
    "\n",
    "### Computing learning curves to assess high variance\n",
    "\n",
    "Because the model is performing relatively well prior to tuning the hyperparameters, let's examine whether the classifier is suffering from high variance and overfitting. We can assess this potential issue using learning curves."
   ]
  },
  {
   "cell_type": "code",
   "execution_count": 28,
   "metadata": {
    "collapsed": true
   },
   "outputs": [],
   "source": [
    "# Select 10 different sizes of the complete dataset\n",
    "sample_space = np.linspace(100, len(X_std) * 0.8, 10, dtype='int')\n",
    "\n",
    "# Compute learning curves\n",
    "train_sizes, train_scores, valid_scores = learning_curve(\n",
    "    estimator=SGDClassifier(\n",
    "        loss='log',\n",
    "        penalty='elasticnet',\n",
    "        max_iter=SGD_iterations,\n",
    "        random_state=41\n",
    "    ),\n",
    "    X=X_full,\n",
    "    y=y_enc,\n",
    "    train_sizes=sample_space,\n",
    "    cv=StratifiedShuffleSplit(n_splits=10, test_size=0.2, random_state=41),\n",
    "    scoring='precision',\n",
    "    n_jobs=-1\n",
    ")"
   ]
  },
  {
   "cell_type": "markdown",
   "metadata": {},
   "source": [
    "To display the learning curves, we'll need to transform the results into tidy format. Let's define a function that performs this transformation."
   ]
  },
  {
   "cell_type": "code",
   "execution_count": 29,
   "metadata": {
    "collapsed": true
   },
   "outputs": [],
   "source": [
    "def make_tidy(sample_space, train_scores, valid_scores):\n",
    "    \"\"\"Transform a pivot-table-style dataset containing training and validation\n",
    "    scores computed for plotting learning curves into tidy format where each \n",
    "    row is a training subset size and the columns are the specific training \n",
    "    subset sizes, training set scores, and validation set scores. This enables\n",
    "    the data to be plotted with the Seaborn library.\n",
    "    \n",
    "    Args:\n",
    "        sample_space (ndarray): a NumPy array of integers containing the\n",
    "            sizes of the training subsets\n",
    "        train_scores (ndarray): a NumPy array containing training set scores\n",
    "            from 10 folds of cross-validation\n",
    "        valid_scores (ndarray): a NumPy array containing validation set scores\n",
    "            from 10 folds of cross-validation\n",
    "    \n",
    "    Returns:\n",
    "        a Pandas DataFrame containing each training subset size and the mean\n",
    "        training and validation score for each set size\"\"\"\n",
    "    \n",
    "    # Join train_scores and valid_scores, and label with sample_space\n",
    "    messy_format = pd.DataFrame(\n",
    "        np.stack((sample_space, train_scores.mean(axis=1),\n",
    "                  valid_scores.mean(axis=1)), axis=1),\n",
    "        columns=['# of training examples', 'Training set', 'Validation set']\n",
    "    )\n",
    "    \n",
    "    # Re-structure table into into tidy format\n",
    "    return pd.melt(\n",
    "        messy_format,\n",
    "        id_vars='# of training examples',\n",
    "        value_vars=['Training set', 'Validation set'],\n",
    "        var_name='Scores',\n",
    "        value_name='precision'\n",
    "    )"
   ]
  },
  {
   "cell_type": "markdown",
   "metadata": {},
   "source": [
    "We're now ready to plot the learning curves."
   ]
  },
  {
   "cell_type": "code",
   "execution_count": 30,
   "metadata": {},
   "outputs": [
    {
     "data": {
      "image/png": "[encoded data removed]",
      "text/plain": [
       "<matplotlib.figure.Figure at 0x7f70b2521f98>"
      ]
     },
     "metadata": {},
     "output_type": "display_data"
    }
   ],
   "source": [
    "# Change the font scale\n",
    "sns.set(font_scale=1.8)\n",
    "\n",
    "# Initialize a FacetGrid object using the table of scores and facet on\n",
    "# the score from the different sets\n",
    "fig = sns.FacetGrid(\n",
    "    make_tidy(sample_space, train_scores, valid_scores),\n",
    "    hue='Scores',\n",
    "    size=5,\n",
    "    palette='Dark2',\n",
    "    aspect=1.2\n",
    ")\n",
    "\n",
    "# Plot the learning curves, add a legend, and rescale y-axis\n",
    "fig.map(plt.scatter, '# of training examples', 'precision', s=100)\n",
    "fig.map(plt.plot, '# of training examples', 'precision') \\\n",
    "    .set(ylim=(0.5, 1.05), xticks=(0, 10000, 20000)) \\\n",
    "    .add_legend();\n",
    "\n",
    "# Save the figure\n",
    "#fig.savefig('learning_curves.png', dpi=300, bbox_inches='tight');"
   ]
  },
  {
   "cell_type": "markdown",
   "metadata": {},
   "source": [
    "The learning curves converge quickly to a respectable precision score. This suggests the model isn't suffering from high variance and therefore, not overfitting. To tighten the curves more, we can try tuning the  hyperparameters.\n",
    "\n",
    "<a id=\"cell7\"></a>\n",
    "## 7. Using nested cross-validation to optimize hyperparameters\n",
    "\n",
    "We're now ready to tune the hyperparameters of the model: `l1_ratio` for the elastic net weighting and `alpha` for the degree of regularization. To do so without optimistically biasing the model and leaking information about the test set into the training set, let's utilize nested cross-validation."
   ]
  },
  {
   "cell_type": "code",
   "execution_count": 31,
   "metadata": {},
   "outputs": [
    {
     "data": {
      "text/plain": [
       "array([ 0.70689655,  0.70256142,  0.68853363,  0.69846491,  0.71084337,\n",
       "        0.70120614,  0.71214738,  0.70316843,  0.71139809,  0.715     ])"
      ]
     },
     "execution_count": 31,
     "metadata": {},
     "output_type": "execute_result"
    }
   ],
   "source": [
    "# Initialize the hyperparameter space\n",
    "param_dist = {\n",
    "    'alpha': np.logspace(-6, -1, 50),\n",
    "    'l1_ratio': np.linspace(0, 1, 50)\n",
    "}\n",
    "\n",
    "# Inner cross-validation loop to tune the hyperparameters\n",
    "random_search = RandomizedSearchCV(\n",
    "    estimator=SGDClassifier(\n",
    "        loss='log',\n",
    "        penalty='elasticnet',\n",
    "        max_iter=SGD_iterations,\n",
    "        random_state=41\n",
    "    ),\n",
    "    param_distributions=param_dist,\n",
    "    cv=StratifiedShuffleSplit(n_splits=10, test_size=0.2, random_state=41),\n",
    "    scoring='precision',\n",
    "    random_state=41,\n",
    "    n_iter=40,\n",
    "    n_jobs=-1\n",
    ")\n",
    "\n",
    "# Outer cross-validation loop to assess model performance\n",
    "scores = cross_val_score(\n",
    "    estimator=random_search,\n",
    "    X=X_full,\n",
    "    y=y_enc,\n",
    "    cv=StratifiedShuffleSplit(n_splits=10, test_size=0.2, random_state=41),\n",
    "    scoring='precision'\n",
    ")\n",
    "\n",
    "# Display cross-validation scores\n",
    "scores"
   ]
  },
  {
   "cell_type": "markdown",
   "metadata": {},
   "source": [
    "The scores across the different cross-validation folds don't vary much&mdash;this is a sign that the model is stable. Let's finish up by computing the average precision score and its standard deviation."
   ]
  },
  {
   "cell_type": "code",
   "execution_count": 32,
   "metadata": {
    "scrolled": true
   },
   "outputs": [
    {
     "name": "stdout",
     "output_type": "stream",
     "text": [
      "Precision: 0.7050219925448211 +/- 0.007531939965661976\n"
     ]
    }
   ],
   "source": [
    "# Display the average precision score and its standard deviation\n",
    "print('Precision: {} +/- {}'.format(scores.mean(), scores.std()))"
   ]
  },
  {
   "cell_type": "markdown",
   "metadata": {},
   "source": [
    "<a id=\"cell8\"></a>\n",
    "## 8. Training a validated model\n",
    "\n",
    "Let's train a final model on the full training set to minimize pessimistic bias. However, we first must identify the optimal hyperparameters because nested cross-validation only evaluated performance but didn't report back the optimal hyperparameter values. Therefore, we must train the randomized hyperparameter search model on the training set to gain access to the optimal hyperparameters."
   ]
  },
  {
   "cell_type": "code",
   "execution_count": 33,
   "metadata": {},
   "outputs": [
    {
     "data": {
      "text/plain": [
       "{'alpha': 0.00091029817799152173, 'l1_ratio': 0.18367346938775508}"
      ]
     },
     "execution_count": 33,
     "metadata": {},
     "output_type": "execute_result"
    }
   ],
   "source": [
    "# Train the random hyperparameter search on the training set\n",
    "random_search.fit(X_full, y_enc)\n",
    "\n",
    "# Display the optimal hyperparameters\n",
    "random_search.best_params_"
   ]
  },
  {
   "cell_type": "markdown",
   "metadata": {},
   "source": [
    "Let's use these optimal hyperparameter values and train a model on the full training set."
   ]
  },
  {
   "cell_type": "code",
   "execution_count": 34,
   "metadata": {
    "collapsed": true
   },
   "outputs": [],
   "source": [
    "# Train the classifier on the full dataset using the optimal hyperparameters\n",
    "final_clf = SGDClassifier(\n",
    "        loss='log',\n",
    "        penalty='elasticnet',\n",
    "        alpha=random_search.best_params_['alpha'],\n",
    "        l1_ratio=random_search.best_params_['l1_ratio'],\n",
    "        max_iter=SGD_iterations,\n",
    "        random_state=41\n",
    ")\n",
    "final_clf.fit(X_full, y_enc);"
   ]
  },
  {
   "cell_type": "markdown",
   "metadata": {},
   "source": [
    "We can verify that the hyperparameter tuning was effective by re-plotting learning curves."
   ]
  },
  {
   "cell_type": "code",
   "execution_count": 35,
   "metadata": {},
   "outputs": [
    {
     "data": {
      "image/png": "[encoded data removed]",
      "text/plain": [
       "<matplotlib.figure.Figure at 0x7f70b28914a8>"
      ]
     },
     "metadata": {},
     "output_type": "display_data"
    }
   ],
   "source": [
    "# Select 10 different sizes of the dataset\n",
    "sample_space = np.linspace(15, len(X_std) * 0.8, 10, dtype='int')\n",
    "\n",
    "# Compute learning curves\n",
    "train_sizes, train_scores, valid_scores = learning_curve(\n",
    "    estimator=final_clf,\n",
    "    X=X_full,\n",
    "    y=y_enc,\n",
    "    train_sizes=sample_space,\n",
    "    cv=StratifiedShuffleSplit(n_splits=10, test_size=0.2, random_state=41),\n",
    "    scoring='precision',\n",
    "    n_jobs=-1\n",
    ")\n",
    "\n",
    "# Initialize a FacetGrid object using the table of scores and facet on\n",
    "# the score from the different sets\n",
    "fig = sns.FacetGrid(\n",
    "    make_tidy(sample_space, train_scores, valid_scores),\n",
    "    hue='Scores',\n",
    "    size=5,\n",
    "    palette='Dark2',\n",
    "    aspect=1.2\n",
    ")\n",
    "\n",
    "# Plot the learning curves, add a legend, and rescale y-axis\n",
    "fig.map(plt.scatter, '# of training examples', 'precision', s=100)\n",
    "fig.map(plt.plot, '# of training examples', 'precision') \\\n",
    "    .set(ylim=(0.5, 1.05), xticks=(0, 10000, 20000)) \\\n",
    "    .add_legend();"
   ]
  },
  {
   "cell_type": "markdown",
   "metadata": {},
   "source": [
    "The learning curves are tighter&mdash;indeed, we have a well-performing model that isn't overfitting.\n",
    "\n",
    "<a id=\"cell9\"></a>\n",
    "## 9. Determining the top predictors of funded projects\n",
    "\n",
    "We can now examine the top features that were most predictive of funded projects."
   ]
  },
  {
   "cell_type": "code",
   "execution_count": 36,
   "metadata": {},
   "outputs": [
    {
     "data": {
      "image/png": "[encoded data removed]",
      "text/plain": [
       "<matplotlib.figure.Figure at 0x7f70b42c4f98>"
      ]
     },
     "metadata": {},
     "output_type": "display_data"
    }
   ],
   "source": [
    "# Combine meta feature labels with n-gram labels\n",
    "all_features = features + vectorizer.get_feature_names()\n",
    "\n",
    "# Add the corresponding feature names to the parameters, sorted from highest\n",
    "# to lowest\n",
    "feature_ranks = pd.Series(\n",
    "    final_clf.coef_.T.ravel(),\n",
    "    index=all_features\n",
    ").sort_values(ascending=False)[:19][::-1]\n",
    "\n",
    "# Display a bar graph of the top features\n",
    "graph = feature_ranks.plot(\n",
    "    kind='barh',\n",
    "    legend=False,\n",
    "    figsize=(4, 8),\n",
    "    color='#666666'\n",
    ");\n",
    "\n",
    "# Save the figure\n",
    "#fig = graph.get_figure()\n",
    "#fig.savefig('ngrams', dpi=300, bbox_inches='tight');"
   ]
  },
  {
   "cell_type": "markdown",
   "metadata": {},
   "source": [
    "Clearly, there's a lot of $n$-grams linked to specific product categories but some are meaningful for creators:\n",
    "\n",
    "- `dollramt` - This refers to dollar amounts found in the campaign section. Perhaps successful creators are reiterating the pledge awards.\n",
    "- `stretch`, `stretch goal`, `support` - Referring to stretch goals seems to be a good idea\n",
    "- `thank` - It looks like thanking the backers or readers is definitely advisable\n",
    "- `excit` - This is likely the word stem of \"exciting\", which is an innovation word that I could've included in the list of innovation words\n",
    "\n",
    "Since there were no meta features in the top features, let's examine them separately and see which meta features were the most predictive of funded projects."
   ]
  },
  {
   "cell_type": "code",
   "execution_count": 37,
   "metadata": {},
   "outputs": [
    {
     "data": {
      "image/png": "[encoded data removed]",
      "text/plain": [
       "<matplotlib.figure.Figure at 0x7f70b42c4940>"
      ]
     },
     "metadata": {},
     "output_type": "display_data"
    }
   ],
   "source": [
    "# Add the corresponding meta feature names to the parameters, sorted from\n",
    "# highest to lowest\n",
    "meta_feature_ranks = pd.Series(\n",
    "    final_clf.coef_.T.ravel()[:len(features)],\n",
    "    index=features\n",
    ").sort_values(ascending=False)[::-1]\n",
    "\n",
    "# Display a bar plot of the meta feature importance\n",
    "graph2 = meta_feature_ranks.plot(\n",
    "    kind='barh',\n",
    "    legend=False,\n",
    "    figsize=(5, 8),\n",
    "    color='#666666'\n",
    ")\n",
    "\n",
    "# Change the meta feature labels from variables to names\n",
    "labels = [\n",
    "    '# of hyperlinks',\n",
    "    '# of images',\n",
    "    '# of innovation words',\n",
    "    '# of exclamation marks',\n",
    "    '% of text bolded', \n",
    "    '# of words',\n",
    "    '# of YouTube videos',\n",
    "    '% of exclamation marks',\n",
    "    '# of sentences',\n",
    "    '# of GIFs',\n",
    "    '% innovation words',\n",
    "    '# of all-caps words',\n",
    "    '# of bold tags',\n",
    "    '% all-caps words',\n",
    "    '# of videos',\n",
    "    'Avg words/paragraph',\n",
    "    '# of paragraphs',\n",
    "    'Avg words/sentence',\n",
    "    'Avg sentences/paragraph'    \n",
    "]\n",
    "plt.yticks(np.arange(19), labels[::-1]);\n",
    "\n",
    "# Save the figure\n",
    "#fig2 = graph2.get_figure()\n",
    "#fig2.savefig('meta', dpi=300, bbox_inches='tight');"
   ]
  },
  {
   "cell_type": "markdown",
   "metadata": {},
   "source": [
    "It looks like the most predictive meta feature is the number of hyperlinks. Many successful projects were covered by the news media and their creators likely decided to include the hyperlinks to those articles in their campaigns. In addition, it's not uncommon to use hyperlinks to build a \"bibliography\" to establish credibility. And my hypothesis about having innovation words was correct!\n",
    "\n",
    "Meta features that serve to grab attention appeared as strong predictors: bolded text, exclamation marks, innovation words, and images. However, for bolded text, having a high proportion of bold text is better than hitting some absolute count, whereas for images, innovation words and exclamation marks, it's a good idea for creators to use them often! Finally, the length of the campaign, as determined by the number of words, was also a good predictor of success, which indirectly correlates to how much effort the creator spent on the campaign.\n",
    "\n",
    "Surprisingly, all-caps words and GIFs weren't strong predictors. However, my regex for all-caps likely picked up abbreviations. For GIFs, perhaps they don't seem professional and fail to build credibility?\n",
    "\n",
    "Some of the best ways to *not* get funded were to have too many sentences per paragraph or too many words per sentence. This is clearly hinting that writing succinctly is a good idea!\n",
    "\n",
    "<a id=\"cell10\"></a>\n",
    "## 10. Testing Kickstarter pages\n",
    "\n",
    "Let's engineer features for a sample Kickstarter page, such as the [Pebble 2](https://www.kickstarter.com/projects/getpebble/pebble-2-time-2-and-core-an-entirely-new-3g-ultra), and insert the prepared feature vector and target variable into the trained model to see how it evaluates a project that is known to be successful."
   ]
  },
  {
   "cell_type": "code",
   "execution_count": 38,
   "metadata": {
    "collapsed": true
   },
   "outputs": [],
   "source": [
    "# Select a hyperlink\n",
    "hyperlink = 'https://www.kickstarter.com/projects/getpebble/pebble' + \\\n",
    "    '-2-time-2-and-core-an-entirely-new-3g-ultra'"
   ]
  },
  {
   "cell_type": "code",
   "execution_count": 39,
   "metadata": {},
   "outputs": [
    {
     "data": {
      "text/plain": [
       "0.96767312621135981"
      ]
     },
     "execution_count": 39,
     "metadata": {},
     "output_type": "execute_result"
    }
   ],
   "source": [
    "# Compute the meta features and preprocess the campaign section\n",
    "meta_features, processed_section = feature_engineering.process_project(\n",
    "    hyperlink\n",
    ")\n",
    "\n",
    "# Compute the n-grams from the preprocessed text\n",
    "ngrams = vectorizer.transform([processed_section])\n",
    "\n",
    "# Standardize the meta features and convert results into a sparse matrix\n",
    "scaled_meta_features = sparse.csr_matrix(scaler.transform([meta_features]))\n",
    "\n",
    "# Concatenate the meta features with the n-gram vector\n",
    "feature_vector = sparse.hstack([scaled_meta_features, ngrams])\n",
    "\n",
    "# Display the probability of being funded\n",
    "final_clf.predict_proba(feature_vector)[0, 1]"
   ]
  }
 ],
 "metadata": {
  "kernelspec": {
   "display_name": "Python 3",
   "language": "python",
   "name": "python3"
  },
  "language_info": {
   "codemirror_mode": {
    "name": "ipython",
    "version": 3
   },
   "file_extension": ".py",
   "mimetype": "text/x-python",
   "name": "python",
   "nbconvert_exporter": "python",
   "pygments_lexer": "ipython3",
   "version": "3.6.2"
  }
 },
 "nbformat": 4,
 "nbformat_minor": 2
}
