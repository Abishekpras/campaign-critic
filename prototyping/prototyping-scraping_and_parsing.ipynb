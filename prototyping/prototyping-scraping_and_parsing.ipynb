{
 "cells": [
  {
   "cell_type": "markdown",
   "metadata": {},
   "source": [
    "# Prototyping: Scraping and extracting content from a Kickstarter project page\n",
    "\n",
    "**Goal: Develop and test a pipeline for scraping and parsing content from a Kickstarter project page, and then extract the two main sections of a campaign: \"About This Project\" and \"Risks and Challenges\".**"
   ]
  },
  {
   "cell_type": "code",
   "execution_count": 1,
   "metadata": {
    "collapsed": true
   },
   "outputs": [],
   "source": [
    "# Load required libraries\n",
    "import requests\n",
    "from bs4 import BeautifulSoup\n",
    "import lxml"
   ]
  },
  {
   "cell_type": "markdown",
   "metadata": {},
   "source": [
    "Let's begin by selecting a hyperlink to test."
   ]
  },
  {
   "cell_type": "code",
   "execution_count": 2,
   "metadata": {
    "collapsed": true
   },
   "outputs": [],
   "source": [
    "# Select a Kickstarter project page\n",
    "hyperlink = 'https://www.kickstarter.com/projects/1799891707/ghost-huntin' + \\\n",
    "    'g-team-and-equipment?ref=recommended'"
   ]
  },
  {
   "cell_type": "markdown",
   "metadata": {},
   "source": [
    "Next, let's scrape the HTML content from the project page and then parse it. I elected to use the `lxml` parser, in addition to utilizing `response.text` over `response.contents` as these choices yield faster parsing."
   ]
  },
  {
   "cell_type": "code",
   "execution_count": 3,
   "metadata": {
    "collapsed": true
   },
   "outputs": [],
   "source": [
    "# Scrape the project page\n",
    "scraped_html = requests.get(hyperlink)\n",
    "\n",
    "# Parse the HTML content using an lxml parser\n",
    "soup = BeautifulSoup(scraped_html.text, 'lxml')"
   ]
  },
  {
   "cell_type": "markdown",
   "metadata": {},
   "source": [
    "Next, let's define functions to a) extract the two campaign sections and b) clean up the text."
   ]
  },
  {
   "cell_type": "code",
   "execution_count": 4,
   "metadata": {
    "collapsed": true
   },
   "outputs": [],
   "source": [
    "def clean_up(messy_text):        \n",
    "    \"\"\"Clean up the text of a campaign section by removing unnecessary and\n",
    "    extraneous content\n",
    "    \n",
    "    Args:\n",
    "        messy_text (str): the raw text from a campaign section\n",
    "    \n",
    "    Returns:\n",
    "        a string containing the cleaned text\"\"\"\n",
    "    \n",
    "    # Remove line breaks, leading and trailing whitespace, and compress all\n",
    "    # whitespace to a single space\n",
    "    clean_text = ' '.join(messy_text.split()).strip()\n",
    "    \n",
    "    # Remove the HTML5 warning for videos\n",
    "    return clean_text.replace(\n",
    "        \"You'll need an HTML5 capable browser to see this content. \" + \\\n",
    "        \"Play Replay with sound Play with sound 00:00 00:00\",\n",
    "        ''\n",
    "    )"
   ]
  },
  {
   "cell_type": "code",
   "execution_count": 5,
   "metadata": {
    "collapsed": true
   },
   "outputs": [],
   "source": [
    "def get_campaign(soup):\n",
    "    \"\"\"Extract the two campaign sections, \"About this project\" and \"Risk and\n",
    "    challenges\", of a Kickstarter project\n",
    "    \n",
    "    Args:\n",
    "        soup (soup object): parsed HTML content of a Kickstarter project page\n",
    "    \n",
    "    Returns:\n",
    "        a dictionary of 2 strings containing each campaign section\"\"\"\n",
    "    \n",
    "    # Collect the \"About this project\" section if available\n",
    "    try:\n",
    "        section1 = soup.find(\n",
    "            'div',\n",
    "            class_='full-description js-full-description responsive-media ' + \\\n",
    "                'formatted-lists'\n",
    "        ).get_text(' ')\n",
    "    except AttributeError:\n",
    "        section1 = 'section_not_found'\n",
    "    \n",
    "    # Collect the \"Risks and challenges\" section if available, and remove #\n",
    "    # unnecessary text\n",
    "    try:\n",
    "        section2 = soup.find(\n",
    "            'div', \n",
    "            class_='mb3 mb10-sm mb3 js-risks'\n",
    "        ) \\\n",
    "            .get_text(' ') \\\n",
    "            .replace('Risks and challenges', '') \\\n",
    "            .replace('Learn about accountability on Kickstarter', '')\n",
    "    except AttributeError:\n",
    "        section2 = 'section_not_found'\n",
    "    \n",
    "    # Clean up both sections and return them in a dictionary\n",
    "    return {'about': clean_up(section1), 'risks': clean_up(section2)}"
   ]
  },
  {
   "cell_type": "markdown",
   "metadata": {},
   "source": [
    "Finally, let's test the extraction function on the parsed HTML."
   ]
  },
  {
   "cell_type": "code",
   "execution_count": 6,
   "metadata": {},
   "outputs": [
    {
     "data": {
      "text/plain": [
       "'Hello, my name is cayden. I started this kickstarter thing so me and my friend could follow our dreams and be ghost hunters. THIS IS NOT A SCAM. We are serious about this im not gonna bullshit you guys, we already have some evps recorded and some haunted places to go to, we just need better film equipment like cameras and recorders etc. When we meet our goal we will start a youtube channel where we can give back to who gave to us, we will put of quality content. So please consider donating even a dollar either way were gonna continue to do this reguardless of funding. Most people get on here like oh yea hey gimmie money for some bs. We are serious about this and would love to have more people come with us!'"
      ]
     },
     "execution_count": 6,
     "metadata": {},
     "output_type": "execute_result"
    }
   ],
   "source": [
    "# Display the `About this project` section\n",
    "campaign = get_campaign(soup)\n",
    "campaign['about']"
   ]
  },
  {
   "cell_type": "code",
   "execution_count": 7,
   "metadata": {},
   "outputs": [
    {
     "data": {
      "text/plain": [
       "\"There aren't any bro lbvs. like either we get the $ and can start making videos or we don't either way we still going to try and do this, this is what we really wanna do!\""
      ]
     },
     "execution_count": 7,
     "metadata": {},
     "output_type": "execute_result"
    }
   ],
   "source": [
    "# Display the `Risks and challenges` section\n",
    "campaign['risks']"
   ]
  },
  {
   "cell_type": "markdown",
   "metadata": {},
   "source": [
    "It looks like this scraping and parsing strategy is good to go!"
   ]
  }
 ],
 "metadata": {
  "kernelspec": {
   "display_name": "Python 3",
   "language": "python",
   "name": "python3"
  },
  "language_info": {
   "codemirror_mode": {
    "name": "ipython",
    "version": 3
   },
   "file_extension": ".py",
   "mimetype": "text/x-python",
   "name": "python",
   "nbconvert_exporter": "python",
   "pygments_lexer": "ipython3",
   "version": "3.6.2"
  }
 },
 "nbformat": 4,
 "nbformat_minor": 2
}
